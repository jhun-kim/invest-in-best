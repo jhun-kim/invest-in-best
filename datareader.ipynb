{
 "cells": [
  {
   "cell_type": "code",
   "execution_count": 10,
   "metadata": {},
   "outputs": [],
   "source": [
    "import pandas as pd\n",
    "import numpy as np\n",
    "import FinanceDataReader as fdr\n",
    "\n",
    "import warnings\n",
    "warnings.filterwarnings(\"ignore\")"
   ]
  },
  {
   "cell_type": "code",
   "execution_count": 3,
   "metadata": {},
   "outputs": [],
   "source": [
    "stocklist = pd.read_csv('./datasets/stocklist.csv')\n",
    "stocklist.drop('Unnamed: 0', axis=1, inplace=True)"
   ]
  },
  {
   "cell_type": "code",
   "execution_count": 5,
   "metadata": {},
   "outputs": [],
   "source": [
    "monthdate = pd.read_csv('./datasets/monthdate.csv')\n",
    "monthdate.drop('Unnamed: 0', axis=1, inplace=True)"
   ]
  },
  {
   "cell_type": "code",
   "execution_count": 15,
   "metadata": {},
   "outputs": [],
   "source": [
    "# 거래소코드 6자리로 만들어주기\n",
    "aa = stocklist['Symbol'].unique()\n",
    "bb = []\n",
    "for i in range(len(aa)):\n",
    "    bb.append(format(aa[i], '06'))"
   ]
  },
  {
   "cell_type": "code",
   "execution_count": 17,
   "metadata": {},
   "outputs": [
    {
     "data": {
      "text/html": [
       "<div>\n",
       "<style scoped>\n",
       "    .dataframe tbody tr th:only-of-type {\n",
       "        vertical-align: middle;\n",
       "    }\n",
       "\n",
       "    .dataframe tbody tr th {\n",
       "        vertical-align: top;\n",
       "    }\n",
       "\n",
       "    .dataframe thead th {\n",
       "        text-align: right;\n",
       "    }\n",
       "</style>\n",
       "<table border=\"1\" class=\"dataframe\">\n",
       "  <thead>\n",
       "    <tr style=\"text-align: right;\">\n",
       "      <th></th>\n",
       "      <th>Open</th>\n",
       "      <th>High</th>\n",
       "      <th>Low</th>\n",
       "      <th>Close</th>\n",
       "      <th>Volume</th>\n",
       "      <th>Change</th>\n",
       "      <th>거래소코드</th>\n",
       "    </tr>\n",
       "    <tr>\n",
       "      <th>Date</th>\n",
       "      <th></th>\n",
       "      <th></th>\n",
       "      <th></th>\n",
       "      <th></th>\n",
       "      <th></th>\n",
       "      <th></th>\n",
       "      <th></th>\n",
       "    </tr>\n",
       "  </thead>\n",
       "  <tbody>\n",
       "    <tr>\n",
       "      <th>2010-04-30</th>\n",
       "      <td>8390</td>\n",
       "      <td>8570</td>\n",
       "      <td>8320</td>\n",
       "      <td>8420</td>\n",
       "      <td>204180</td>\n",
       "      <td>0.014458</td>\n",
       "      <td>000990</td>\n",
       "    </tr>\n",
       "    <tr>\n",
       "      <th>2010-05-31</th>\n",
       "      <td>9890</td>\n",
       "      <td>11100</td>\n",
       "      <td>9630</td>\n",
       "      <td>10600</td>\n",
       "      <td>1459872</td>\n",
       "      <td>0.092784</td>\n",
       "      <td>000990</td>\n",
       "    </tr>\n",
       "    <tr>\n",
       "      <th>2010-06-30</th>\n",
       "      <td>11250</td>\n",
       "      <td>11650</td>\n",
       "      <td>10850</td>\n",
       "      <td>11600</td>\n",
       "      <td>934113</td>\n",
       "      <td>-0.004292</td>\n",
       "      <td>000990</td>\n",
       "    </tr>\n",
       "    <tr>\n",
       "      <th>2010-07-30</th>\n",
       "      <td>8940</td>\n",
       "      <td>9180</td>\n",
       "      <td>8900</td>\n",
       "      <td>9010</td>\n",
       "      <td>470442</td>\n",
       "      <td>0.015784</td>\n",
       "      <td>000990</td>\n",
       "    </tr>\n",
       "    <tr>\n",
       "      <th>2010-08-31</th>\n",
       "      <td>9050</td>\n",
       "      <td>9050</td>\n",
       "      <td>8850</td>\n",
       "      <td>8920</td>\n",
       "      <td>148954</td>\n",
       "      <td>-0.013274</td>\n",
       "      <td>000990</td>\n",
       "    </tr>\n",
       "    <tr>\n",
       "      <th>...</th>\n",
       "      <td>...</td>\n",
       "      <td>...</td>\n",
       "      <td>...</td>\n",
       "      <td>...</td>\n",
       "      <td>...</td>\n",
       "      <td>...</td>\n",
       "      <td>...</td>\n",
       "    </tr>\n",
       "    <tr>\n",
       "      <th>2020-12-30</th>\n",
       "      <td>48500</td>\n",
       "      <td>52300</td>\n",
       "      <td>48250</td>\n",
       "      <td>51000</td>\n",
       "      <td>3863565</td>\n",
       "      <td>0.037640</td>\n",
       "      <td>000990</td>\n",
       "    </tr>\n",
       "    <tr>\n",
       "      <th>2021-01-29</th>\n",
       "      <td>68100</td>\n",
       "      <td>68200</td>\n",
       "      <td>59900</td>\n",
       "      <td>61500</td>\n",
       "      <td>3539007</td>\n",
       "      <td>-0.080717</td>\n",
       "      <td>000990</td>\n",
       "    </tr>\n",
       "    <tr>\n",
       "      <th>2021-02-26</th>\n",
       "      <td>56400</td>\n",
       "      <td>57200</td>\n",
       "      <td>55500</td>\n",
       "      <td>56400</td>\n",
       "      <td>996062</td>\n",
       "      <td>-0.030928</td>\n",
       "      <td>000990</td>\n",
       "    </tr>\n",
       "    <tr>\n",
       "      <th>2021-03-31</th>\n",
       "      <td>57000</td>\n",
       "      <td>57100</td>\n",
       "      <td>56000</td>\n",
       "      <td>56300</td>\n",
       "      <td>603985</td>\n",
       "      <td>-0.014011</td>\n",
       "      <td>000990</td>\n",
       "    </tr>\n",
       "    <tr>\n",
       "      <th>2021-04-30</th>\n",
       "      <td>57400</td>\n",
       "      <td>57800</td>\n",
       "      <td>54100</td>\n",
       "      <td>55300</td>\n",
       "      <td>864831</td>\n",
       "      <td>-0.033217</td>\n",
       "      <td>000990</td>\n",
       "    </tr>\n",
       "  </tbody>\n",
       "</table>\n",
       "<p>132 rows × 7 columns</p>\n",
       "</div>"
      ],
      "text/plain": [
       "             Open   High    Low  Close   Volume    Change   거래소코드\n",
       "Date                                                             \n",
       "2010-04-30   8390   8570   8320   8420   204180  0.014458  000990\n",
       "2010-05-31   9890  11100   9630  10600  1459872  0.092784  000990\n",
       "2010-06-30  11250  11650  10850  11600   934113 -0.004292  000990\n",
       "2010-07-30   8940   9180   8900   9010   470442  0.015784  000990\n",
       "2010-08-31   9050   9050   8850   8920   148954 -0.013274  000990\n",
       "...           ...    ...    ...    ...      ...       ...     ...\n",
       "2020-12-30  48500  52300  48250  51000  3863565  0.037640  000990\n",
       "2021-01-29  68100  68200  59900  61500  3539007 -0.080717  000990\n",
       "2021-02-26  56400  57200  55500  56400   996062 -0.030928  000990\n",
       "2021-03-31  57000  57100  56000  56300   603985 -0.014011  000990\n",
       "2021-04-30  57400  57800  54100  55300   864831 -0.033217  000990\n",
       "\n",
       "[132 rows x 7 columns]"
      ]
     },
     "execution_count": 17,
     "metadata": {},
     "output_type": "execute_result"
    }
   ],
   "source": [
    "frames = []\n",
    "for i in range(len(monthdate['Date'])):\n",
    "    hh = fdr.DataReader(bb[1],monthdate['Date'].values[i],monthdate['Date'].values[i])\n",
    "    # hh = pd.DataFrame(hh)\n",
    "    hh['거래소코드'] = bb[1]\n",
    "    frames.append(hh)\n",
    "result1 = pd.concat(frames)\n",
    "result1"
   ]
  },
  {
   "cell_type": "code",
   "execution_count": 18,
   "metadata": {},
   "outputs": [
    {
     "data": {
      "text/plain": [
       "'000990'"
      ]
     },
     "execution_count": 18,
     "metadata": {},
     "output_type": "execute_result"
    }
   ],
   "source": [
    "bb[1]"
   ]
  },
  {
   "cell_type": "code",
   "execution_count": null,
   "metadata": {},
   "outputs": [],
   "source": []
  }
 ],
 "metadata": {
  "interpreter": {
   "hash": "ab917170ccb79bb0c77c52620b4afe4eb9df38d2341eb95f515e5270f60d3147"
  },
  "kernelspec": {
   "display_name": "Python 3.10.2 64-bit",
   "language": "python",
   "name": "python3"
  },
  "language_info": {
   "codemirror_mode": {
    "name": "ipython",
    "version": 3
   },
   "file_extension": ".py",
   "mimetype": "text/x-python",
   "name": "python",
   "nbconvert_exporter": "python",
   "pygments_lexer": "ipython3",
   "version": "3.10.2"
  },
  "orig_nbformat": 4
 },
 "nbformat": 4,
 "nbformat_minor": 2
}
