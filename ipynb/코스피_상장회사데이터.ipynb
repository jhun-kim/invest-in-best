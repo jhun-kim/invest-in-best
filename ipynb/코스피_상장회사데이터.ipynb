{
  "nbformat": 4,
  "nbformat_minor": 0,
  "metadata": {
    "colab": {
      "name": "코스피_상장회사데이터.ipynb",
      "provenance": []
    },
    "kernelspec": {
      "name": "python3",
      "display_name": "Python 3"
    },
    "language_info": {
      "name": "python"
    }
  },
  "cells": [
    {
      "cell_type": "code",
      "execution_count": null,
      "metadata": {
        "colab": {
          "base_uri": "https://localhost:8080/"
        },
        "id": "jcZP8OVowAmY",
        "outputId": "649bf906-148a-4376-99e4-df4c3e85a7f6"
      },
      "outputs": [
        {
          "output_type": "stream",
          "name": "stdout",
          "text": [
            "Collecting pykrx\n",
            "  Downloading pykrx-1.0.33-py3-none-any.whl (93 kB)\n",
            "\u001b[?25l\r\u001b[K     |███▌                            | 10 kB 12.8 MB/s eta 0:00:01\r\u001b[K     |███████                         | 20 kB 9.4 MB/s eta 0:00:01\r\u001b[K     |██████████▌                     | 30 kB 11.5 MB/s eta 0:00:01\r\u001b[K     |██████████████                  | 40 kB 10.8 MB/s eta 0:00:01\r\u001b[K     |█████████████████▌              | 51 kB 8.9 MB/s eta 0:00:01\r\u001b[K     |█████████████████████           | 61 kB 10.3 MB/s eta 0:00:01\r\u001b[K     |████████████████████████▌       | 71 kB 9.0 MB/s eta 0:00:01\r\u001b[K     |████████████████████████████    | 81 kB 8.9 MB/s eta 0:00:01\r\u001b[K     |███████████████████████████████▋| 92 kB 9.5 MB/s eta 0:00:01\r\u001b[K     |████████████████████████████████| 93 kB 764 kB/s \n",
            "\u001b[?25hRequirement already satisfied: pandas in /usr/local/lib/python3.7/dist-packages (from pykrx) (1.3.5)\n",
            "Requirement already satisfied: requests in /usr/local/lib/python3.7/dist-packages (from pykrx) (2.23.0)\n",
            "Collecting datetime\n",
            "  Downloading DateTime-4.4-py2.py3-none-any.whl (51 kB)\n",
            "\u001b[K     |████████████████████████████████| 51 kB 381 kB/s \n",
            "\u001b[?25hCollecting deprecated\n",
            "  Downloading Deprecated-1.2.13-py2.py3-none-any.whl (9.6 kB)\n",
            "Requirement already satisfied: numpy in /usr/local/lib/python3.7/dist-packages (from pykrx) (1.21.6)\n",
            "Requirement already satisfied: xlrd in /usr/local/lib/python3.7/dist-packages (from pykrx) (1.1.0)\n",
            "Requirement already satisfied: pytz in /usr/local/lib/python3.7/dist-packages (from datetime->pykrx) (2022.1)\n",
            "Collecting zope.interface\n",
            "  Downloading zope.interface-5.4.0-cp37-cp37m-manylinux2010_x86_64.whl (251 kB)\n",
            "\u001b[K     |████████████████████████████████| 251 kB 41.1 MB/s \n",
            "\u001b[?25hRequirement already satisfied: wrapt<2,>=1.10 in /usr/local/lib/python3.7/dist-packages (from deprecated->pykrx) (1.14.1)\n",
            "Requirement already satisfied: python-dateutil>=2.7.3 in /usr/local/lib/python3.7/dist-packages (from pandas->pykrx) (2.8.2)\n",
            "Requirement already satisfied: six>=1.5 in /usr/local/lib/python3.7/dist-packages (from python-dateutil>=2.7.3->pandas->pykrx) (1.15.0)\n",
            "Requirement already satisfied: idna<3,>=2.5 in /usr/local/lib/python3.7/dist-packages (from requests->pykrx) (2.10)\n",
            "Requirement already satisfied: chardet<4,>=3.0.2 in /usr/local/lib/python3.7/dist-packages (from requests->pykrx) (3.0.4)\n",
            "Requirement already satisfied: certifi>=2017.4.17 in /usr/local/lib/python3.7/dist-packages (from requests->pykrx) (2021.10.8)\n",
            "Requirement already satisfied: urllib3!=1.25.0,!=1.25.1,<1.26,>=1.21.1 in /usr/local/lib/python3.7/dist-packages (from requests->pykrx) (1.24.3)\n",
            "Requirement already satisfied: setuptools in /usr/local/lib/python3.7/dist-packages (from zope.interface->datetime->pykrx) (57.4.0)\n",
            "Installing collected packages: zope.interface, deprecated, datetime, pykrx\n",
            "Successfully installed datetime-4.4 deprecated-1.2.13 pykrx-1.0.33 zope.interface-5.4.0\n"
          ]
        }
      ],
      "source": [
        "!pip install pykrx"
      ]
    },
    {
      "cell_type": "code",
      "source": [
        "import pandas as pd\n",
        "import numpy as np\n",
        "import pandas as pd\n",
        "from pykrx import stock"
      ],
      "metadata": {
        "id": "6XZpDkYexUiM",
        "colab": {
          "base_uri": "https://localhost:8080/"
        },
        "outputId": "c628f72a-5566-4547-de27-8f4bb370703b"
      },
      "execution_count": null,
      "outputs": [
        {
          "output_type": "stream",
          "name": "stdout",
          "text": [
            "No Korean fonts found. Please install the font shown belowbecause Hangul can be broken on the chart.\n",
            " - NanumBarunGothic font is required.\n",
            "\n",
            "    1) font install\n",
            "\n",
            "    !sudo apt-get install -y fonts-nanum\n",
            "    !sudo fc-cache -fv\n",
            "    !rm ~/.cache/matplotlib -rf\n",
            "\n",
            "    2) runtime restart if colab\n",
            "    \n",
            "PYKRX works fine regardless of font installation.\n"
          ]
        }
      ]
    },
    {
      "cell_type": "code",
      "source": [
        "stock_list = pd.DataFrame({'종목코드':stock.get_market_ticker_list(market=\"KOSPI\")})\n",
        "stock_list['종목명'] = stock_list['종목코드'].map(lambda x: stock.get_market_ticker_name(x))"
      ],
      "metadata": {
        "id": "h2dOk1jhySBk"
      },
      "execution_count": null,
      "outputs": []
    },
    {
      "cell_type": "code",
      "source": [
        "# 우선주 목록\n",
        "df_우 = [s for s in df['종목명'] if s.endswith('우') | s.endswith('우B')]"
      ],
      "metadata": {
        "id": "YvlgqIrmzD6q",
        "colab": {
          "base_uri": "https://localhost:8080/",
          "height": 190
        },
        "outputId": "3949dc11-fd96-422a-f3df-b56841fc8938"
      },
      "execution_count": null,
      "outputs": [
        {
          "output_type": "error",
          "ename": "NameError",
          "evalue": "ignored",
          "traceback": [
            "\u001b[0;31m---------------------------------------------------------------------------\u001b[0m",
            "\u001b[0;31mNameError\u001b[0m                                 Traceback (most recent call last)",
            "\u001b[0;32m<ipython-input-4-3bfed4afdbfe>\u001b[0m in \u001b[0;36m<module>\u001b[0;34m()\u001b[0m\n\u001b[1;32m      1\u001b[0m \u001b[0;31m# 우선주 목록\u001b[0m\u001b[0;34m\u001b[0m\u001b[0;34m\u001b[0m\u001b[0;34m\u001b[0m\u001b[0m\n\u001b[0;32m----> 2\u001b[0;31m \u001b[0mdf_우\u001b[0m \u001b[0;34m=\u001b[0m \u001b[0;34m[\u001b[0m\u001b[0ms\u001b[0m \u001b[0;32mfor\u001b[0m \u001b[0ms\u001b[0m \u001b[0;32min\u001b[0m \u001b[0mdf\u001b[0m\u001b[0;34m[\u001b[0m\u001b[0;34m'종목명'\u001b[0m\u001b[0;34m]\u001b[0m \u001b[0;32mif\u001b[0m \u001b[0ms\u001b[0m\u001b[0;34m.\u001b[0m\u001b[0mendswith\u001b[0m\u001b[0;34m(\u001b[0m\u001b[0;34m'우'\u001b[0m\u001b[0;34m)\u001b[0m \u001b[0;34m|\u001b[0m \u001b[0ms\u001b[0m\u001b[0;34m.\u001b[0m\u001b[0mendswith\u001b[0m\u001b[0;34m(\u001b[0m\u001b[0;34m'우B'\u001b[0m\u001b[0;34m)\u001b[0m\u001b[0;34m]\u001b[0m\u001b[0;34m\u001b[0m\u001b[0;34m\u001b[0m\u001b[0m\n\u001b[0m",
            "\u001b[0;31mNameError\u001b[0m: name 'df' is not defined"
          ]
        }
      ]
    },
    {
      "cell_type": "code",
      "source": [
        "# df_우 = pd.DataFrame(df_우)\n",
        "# df_우"
      ],
      "metadata": {
        "id": "JAEkyqC10i0S"
      },
      "execution_count": null,
      "outputs": []
    },
    {
      "cell_type": "code",
      "source": [
        "stock_fud = pd.DataFrame(stock.get_market_fundamental_by_ticker(date='20220516',  market=\"KOSPI\"))\n",
        "stock_fud = stock_fud.reset_index() \n",
        "stock_fud.rename(columns={'티커':'종목코드'}, inplace=True)"
      ],
      "metadata": {
        "id": "QdTjgopm1o3q"
      },
      "execution_count": null,
      "outputs": []
    },
    {
      "cell_type": "code",
      "source": [
        "result = pd.merge(stock_list, stock_fud, left_on='종목코드', right_on='종목코드', how='outer')"
      ],
      "metadata": {
        "id": "EC-Ln5Pg2PP0"
      },
      "execution_count": null,
      "outputs": []
    },
    {
      "cell_type": "code",
      "source": [
        "df = stock.get_market_fundamental_by_date(fromdate=\"20210517\", todate=\"20210520\", ticker=\"KOSPI\")\n",
        "df"
      ],
      "metadata": {
        "id": "BMs6f_Ck76MC"
      },
      "execution_count": null,
      "outputs": []
    },
    {
      "cell_type": "code",
      "source": [
        "stock_price = stock.get_market_ohlcv_by_ticker(date='20211119', market=\"ALL\") \n",
        "stock_price = stock_price.reset_index() \n",
        "stock_price.rename(columns={'티커':'종목코드'}, inplace=True) \n",
        "result1 = pd.merge(result, stock_price, left_on='종목코드', right_on='종목코드', how='outer')"
      ],
      "metadata": {
        "id": "BF7SynXK3HyF"
      },
      "execution_count": null,
      "outputs": []
    },
    {
      "cell_type": "code",
      "source": [
        "result1 = result1.replace([0], np.nan) \n",
        "result1 = result1.dropna(axis=0)"
      ],
      "metadata": {
        "id": "LZUcmYxy32Xz"
      },
      "execution_count": null,
      "outputs": []
    },
    {
      "cell_type": "code",
      "source": [
        "result1"
      ],
      "metadata": {
        "id": "H-kSQHnr4MhF"
      },
      "execution_count": null,
      "outputs": []
    },
    {
      "cell_type": "code",
      "source": [
        ""
      ],
      "metadata": {
        "id": "4RfOdiYP4NCj"
      },
      "execution_count": null,
      "outputs": []
    }
  ]
}