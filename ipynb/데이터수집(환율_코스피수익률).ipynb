{
  "nbformat": 4,
  "nbformat_minor": 0,
  "metadata": {
    "colab": {
      "name": "데이터수집(환율/코스피수익률).ipynb",
      "provenance": [],
      "collapsed_sections": []
    },
    "kernelspec": {
      "name": "python3",
      "display_name": "Python 3"
    },
    "language_info": {
      "name": "python"
    },
    "accelerator": "GPU"
  },
  "cells": [
    {
      "cell_type": "markdown",
      "source": [
        "환율 데이터 \n",
        "=="
      ],
      "metadata": {
        "id": "rE3XYVhSLVEH"
      }
    },
    {
      "cell_type": "code",
      "source": [
        "# !pip install finance-datareader\n",
        "# !pip install pykrx\n",
        "# !pip install bs4\n",
        "# !pip install html5lib\n",
        "!pip3 install lxml"
      ],
      "metadata": {
        "colab": {
          "base_uri": "https://localhost:8080/"
        },
        "id": "ITZ4L9KS8xJ_",
        "outputId": "1908693a-2acc-48a0-d827-534573b2b786"
      },
      "execution_count": null,
      "outputs": [
        {
          "output_type": "stream",
          "name": "stdout",
          "text": [
            "Requirement already satisfied: lxml in /usr/local/lib/python3.7/dist-packages (4.2.6)\n"
          ]
        }
      ]
    },
    {
      "cell_type": "code",
      "source": [
        "import matplotlib.pyplot as plt\n",
        "import FinanceDataReader as fdr\n",
        "import pandas as pd\n",
        "import numpy as np\n",
        "import requests\n",
        "import re\n",
        "\n",
        "\n",
        "from datetime import datetime \n",
        "from bs4 import BeautifulSoup\n",
        "from pykrx import stock\n",
        "%matplotlib inline"
      ],
      "metadata": {
        "id": "7aW-8s6I9KKR"
      },
      "execution_count": null,
      "outputs": []
    },
    {
      "cell_type": "code",
      "execution_count": null,
      "metadata": {
        "colab": {
          "base_uri": "https://localhost:8080/"
        },
        "id": "ivXiV9UW8ccj",
        "outputId": "3482377b-302f-4665-e4b4-047b8629ff80"
      },
      "outputs": [
        {
          "output_type": "stream",
          "name": "stdout",
          "text": [
            "              Close     Open     High      Low  Change\n",
            "Date                                                  \n",
            "2017-01-02  1203.93  1206.85  1210.70  1203.19 -0.0028\n",
            "2017-01-03  1206.82  1203.93  1212.81  1201.39  0.0024\n",
            "2017-01-04  1196.15  1206.82  1210.11  1194.89 -0.0088\n",
            "2017-01-05  1182.19  1196.56  1196.72  1181.17 -0.0117\n",
            "2017-01-06  1202.00  1181.79  1202.33  1180.19  0.0168\n",
            "...             ...      ...      ...      ...     ...\n",
            "2022-05-13  1278.45  1290.87  1291.74  1278.22 -0.0095\n",
            "2022-05-16  1280.38  1278.56  1286.56  1276.16  0.0015\n",
            "2022-05-17  1266.50  1280.64  1281.44  1264.02 -0.0108\n",
            "2022-05-18  1275.33  1266.80  1276.98  1263.93  0.0070\n",
            "2022-05-19  1275.75  1275.85  1276.90  1272.40  0.0003\n",
            "\n",
            "[1404 rows x 5 columns]\n"
          ]
        }
      ],
      "source": [
        "ex_df = fdr.DataReader('USD/KRW', '2017')\n",
        "print(ex_df)"
      ]
    },
    {
      "cell_type": "code",
      "source": [
        "plt.plot(ex_df['Close'])\n",
        "plt.show()"
      ],
      "metadata": {
        "colab": {
          "base_uri": "https://localhost:8080/",
          "height": 267
        },
        "id": "PzHGEknu8hdF",
        "outputId": "6d2a8a1b-9738-4b80-c412-212cda7b7b9e"
      },
      "execution_count": null,
      "outputs": [
        {
          "output_type": "display_data",
          "data": {
            "text/plain": [
              "<Figure size 432x288 with 1 Axes>"
            ],
            "image/png": "[encoded data removed]"
          },
          "metadata": {
            "needs_background": "light"
          }
        }
      ]
    },
    {
      "cell_type": "markdown",
      "source": [
        "\n",
        "\n",
        "---\n",
        "\n",
        "코스피 수익률\n",
        "==\n"
      ],
      "metadata": {
        "id": "Z19WL2IsLdTT"
      }
    },
    {
      "cell_type": "code",
      "source": [
        "stock_df = stock.get_index_ohlcv_by_date(\"20170101\", \"20220516\", '1001')"
      ],
      "metadata": {
        "id": "e401lxTs-cIJ"
      },
      "execution_count": null,
      "outputs": []
    },
    {
      "cell_type": "code",
      "source": [
        "stock_df.head(2)"
      ],
      "metadata": {
        "colab": {
          "base_uri": "https://localhost:8080/",
          "height": 143
        },
        "id": "e5vznhzvAaLx",
        "outputId": "5dba6d20-8301-4659-bca9-acbcf44ba7bd"
      },
      "execution_count": null,
      "outputs": [
        {
          "output_type": "execute_result",
          "data": {
            "text/plain": [
              "코스피              시가       고가       저가       종가        거래량           거래대금\n",
              "날짜                                                                      \n",
              "2017-01-02  2022.23  2031.79  2015.68  2026.16  229874996  2616791314513\n",
              "2017-01-03  2034.31  2044.07  2028.47  2043.97  268127309  3725113184536"
            ],
            "text/html": [
              "\n",
              "  <div id=\"df-b99fc3c0-6596-48d8-b178-9d21b10e507c\">\n",
              "    <div class=\"colab-df-container\">\n",
              "      <div>\n",
              "<style scoped>\n",
              "    .dataframe tbody tr th:only-of-type {\n",
              "        vertical-align: middle;\n",
              "    }\n",
              "\n",
              "    .dataframe tbody tr th {\n",
              "        vertical-align: top;\n",
              "    }\n",
              "\n",
              "    .dataframe thead th {\n",
              "        text-align: right;\n",
              "    }\n",
              "</style>\n",
              "<table border=\"1\" class=\"dataframe\">\n",
              "  <thead>\n",
              "    <tr style=\"text-align: right;\">\n",
              "      <th>코스피</th>\n",
              "      <th>시가</th>\n",
              "      <th>고가</th>\n",
              "      <th>저가</th>\n",
              "      <th>종가</th>\n",
              "      <th>거래량</th>\n",
              "      <th>거래대금</th>\n",
              "    </tr>\n",
              "    <tr>\n",
              "      <th>날짜</th>\n",
              "      <th></th>\n",
              "      <th></th>\n",
              "      <th></th>\n",
              "      <th></th>\n",
              "      <th></th>\n",
              "      <th></th>\n",
              "    </tr>\n",
              "  </thead>\n",
              "  <tbody>\n",
              "    <tr>\n",
              "      <th>2017-01-02</th>\n",
              "      <td>2022.23</td>\n",
              "      <td>2031.79</td>\n",
              "      <td>2015.68</td>\n",
              "      <td>2026.16</td>\n",
              "      <td>229874996</td>\n",
              "      <td>2616791314513</td>\n",
              "    </tr>\n",
              "    <tr>\n",
              "      <th>2017-01-03</th>\n",
              "      <td>2034.31</td>\n",
              "      <td>2044.07</td>\n",
              "      <td>2028.47</td>\n",
              "      <td>2043.97</td>\n",
              "      <td>268127309</td>\n",
              "      <td>3725113184536</td>\n",
              "    </tr>\n",
              "  </tbody>\n",
              "</table>\n",
              "</div>\n",
              "      <button class=\"colab-df-convert\" onclick=\"convertToInteractive('df-b99fc3c0-6596-48d8-b178-9d21b10e507c')\"\n",
              "              title=\"Convert this dataframe to an interactive table.\"\n",
              "              style=\"display:none;\">\n",
              "        \n",
              "  <svg xmlns=\"http://www.w3.org/2000/svg\" height=\"24px\"viewBox=\"0 0 24 24\"\n",
              "       width=\"24px\">\n",
              "    <path d=\"M0 0h24v24H0V0z\" fill=\"none\"/>\n",
              "    <path d=\"M18.56 5.44l.94 2.06.94-2.06 2.06-.94-2.06-.94-.94-2.06-.94 2.06-2.06.94zm-11 1L8.5 8.5l.94-2.06 2.06-.94-2.06-.94L8.5 2.5l-.94 2.06-2.06.94zm10 10l.94 2.06.94-2.06 2.06-.94-2.06-.94-.94-2.06-.94 2.06-2.06.94z\"/><path d=\"M17.41 7.96l-1.37-1.37c-.4-.4-.92-.59-1.43-.59-.52 0-1.04.2-1.43.59L10.3 9.45l-7.72 7.72c-.78.78-.78 2.05 0 2.83L4 21.41c.39.39.9.59 1.41.59.51 0 1.02-.2 1.41-.59l7.78-7.78 2.81-2.81c.8-.78.8-2.07 0-2.86zM5.41 20L4 18.59l7.72-7.72 1.47 1.35L5.41 20z\"/>\n",
              "  </svg>\n",
              "      </button>\n",
              "      \n",
              "  <style>\n",
              "    .colab-df-container {\n",
              "      display:flex;\n",
              "      flex-wrap:wrap;\n",
              "      gap: 12px;\n",
              "    }\n",
              "\n",
              "    .colab-df-convert {\n",
              "      background-color: #E8F0FE;\n",
              "      border: none;\n",
              "      border-radius: 50%;\n",
              "      cursor: pointer;\n",
              "      display: none;\n",
              "      fill: #1967D2;\n",
              "      height: 32px;\n",
              "      padding: 0 0 0 0;\n",
              "      width: 32px;\n",
              "    }\n",
              "\n",
              "    .colab-df-convert:hover {\n",
              "      background-color: #E2EBFA;\n",
              "      box-shadow: 0px 1px 2px rgba(60, 64, 67, 0.3), 0px 1px 3px 1px rgba(60, 64, 67, 0.15);\n",
              "      fill: #174EA6;\n",
              "    }\n",
              "\n",
              "    [theme=dark] .colab-df-convert {\n",
              "      background-color: #3B4455;\n",
              "      fill: #D2E3FC;\n",
              "    }\n",
              "\n",
              "    [theme=dark] .colab-df-convert:hover {\n",
              "      background-color: #434B5C;\n",
              "      box-shadow: 0px 1px 3px 1px rgba(0, 0, 0, 0.15);\n",
              "      filter: drop-shadow(0px 1px 2px rgba(0, 0, 0, 0.3));\n",
              "      fill: #FFFFFF;\n",
              "    }\n",
              "  </style>\n",
              "\n",
              "      <script>\n",
              "        const buttonEl =\n",
              "          document.querySelector('#df-b99fc3c0-6596-48d8-b178-9d21b10e507c button.colab-df-convert');\n",
              "        buttonEl.style.display =\n",
              "          google.colab.kernel.accessAllowed ? 'block' : 'none';\n",
              "\n",
              "        async function convertToInteractive(key) {\n",
              "          const element = document.querySelector('#df-b99fc3c0-6596-48d8-b178-9d21b10e507c');\n",
              "          const dataTable =\n",
              "            await google.colab.kernel.invokeFunction('convertToInteractive',\n",
              "                                                     [key], {});\n",
              "          if (!dataTable) return;\n",
              "\n",
              "          const docLinkHtml = 'Like what you see? Visit the ' +\n",
              "            '<a target=\"_blank\" href=https://colab.research.google.com/notebooks/data_table.ipynb>data table notebook</a>'\n",
              "            + ' to learn more about interactive tables.';\n",
              "          element.innerHTML = '';\n",
              "          dataTable['output_type'] = 'display_data';\n",
              "          await google.colab.output.renderOutput(dataTable, element);\n",
              "          const docLink = document.createElement('div');\n",
              "          docLink.innerHTML = docLinkHtml;\n",
              "          element.appendChild(docLink);\n",
              "        }\n",
              "      </script>\n",
              "    </div>\n",
              "  </div>\n",
              "  "
            ]
          },
          "metadata": {},
          "execution_count": 20
        }
      ]
    },
    {
      "cell_type": "code",
      "source": [
        "stock_df['수익률'] = stock_df['종가'] / stock_df['종가'][0]\n",
        "stock_df.tail()"
      ],
      "metadata": {
        "colab": {
          "base_uri": "https://localhost:8080/",
          "height": 237
        },
        "id": "fK6rknxEAM1d",
        "outputId": "a1bea45a-06d2-4b44-b3c1-7643a99b048e"
      },
      "execution_count": null,
      "outputs": [
        {
          "output_type": "execute_result",
          "data": {
            "text/plain": [
              "코스피              시가       고가       저가       종가        거래량            거래대금  \\\n",
              "날짜                                                                          \n",
              "2022-05-10  2590.13  2602.75  2553.01  2596.56  841463317  10842463041698   \n",
              "2022-05-11  2586.52  2599.11  2579.09  2592.27  679509759   8608259453968   \n",
              "2022-05-12  2569.50  2591.57  2546.80  2550.08  900330795  12167915258889   \n",
              "2022-05-13  2570.01  2605.84  2565.96  2604.24  788539195  10342060894273   \n",
              "2022-05-16  2624.69  2629.20  2593.61  2596.58  780198956   8528536948653   \n",
              "\n",
              "코스피              수익률  \n",
              "날짜                    \n",
              "2022-05-10  1.281518  \n",
              "2022-05-11  1.279400  \n",
              "2022-05-12  1.258578  \n",
              "2022-05-13  1.285308  \n",
              "2022-05-16  1.281528  "
            ],
            "text/html": [
              "\n",
              "  <div id=\"df-e9082b69-4a4b-46f8-9152-9df91ef8cdea\">\n",
              "    <div class=\"colab-df-container\">\n",
              "      <div>\n",
              "<style scoped>\n",
              "    .dataframe tbody tr th:only-of-type {\n",
              "        vertical-align: middle;\n",
              "    }\n",
              "\n",
              "    .dataframe tbody tr th {\n",
              "        vertical-align: top;\n",
              "    }\n",
              "\n",
              "    .dataframe thead th {\n",
              "        text-align: right;\n",
              "    }\n",
              "</style>\n",
              "<table border=\"1\" class=\"dataframe\">\n",
              "  <thead>\n",
              "    <tr style=\"text-align: right;\">\n",
              "      <th>코스피</th>\n",
              "      <th>시가</th>\n",
              "      <th>고가</th>\n",
              "      <th>저가</th>\n",
              "      <th>종가</th>\n",
              "      <th>거래량</th>\n",
              "      <th>거래대금</th>\n",
              "      <th>수익률</th>\n",
              "    </tr>\n",
              "    <tr>\n",
              "      <th>날짜</th>\n",
              "      <th></th>\n",
              "      <th></th>\n",
              "      <th></th>\n",
              "      <th></th>\n",
              "      <th></th>\n",
              "      <th></th>\n",
              "      <th></th>\n",
              "    </tr>\n",
              "  </thead>\n",
              "  <tbody>\n",
              "    <tr>\n",
              "      <th>2022-05-10</th>\n",
              "      <td>2590.13</td>\n",
              "      <td>2602.75</td>\n",
              "      <td>2553.01</td>\n",
              "      <td>2596.56</td>\n",
              "      <td>841463317</td>\n",
              "      <td>10842463041698</td>\n",
              "      <td>1.281518</td>\n",
              "    </tr>\n",
              "    <tr>\n",
              "      <th>2022-05-11</th>\n",
              "      <td>2586.52</td>\n",
              "      <td>2599.11</td>\n",
              "      <td>2579.09</td>\n",
              "      <td>2592.27</td>\n",
              "      <td>679509759</td>\n",
              "      <td>8608259453968</td>\n",
              "      <td>1.279400</td>\n",
              "    </tr>\n",
              "    <tr>\n",
              "      <th>2022-05-12</th>\n",
              "      <td>2569.50</td>\n",
              "      <td>2591.57</td>\n",
              "      <td>2546.80</td>\n",
              "      <td>2550.08</td>\n",
              "      <td>900330795</td>\n",
              "      <td>12167915258889</td>\n",
              "      <td>1.258578</td>\n",
              "    </tr>\n",
              "    <tr>\n",
              "      <th>2022-05-13</th>\n",
              "      <td>2570.01</td>\n",
              "      <td>2605.84</td>\n",
              "      <td>2565.96</td>\n",
              "      <td>2604.24</td>\n",
              "      <td>788539195</td>\n",
              "      <td>10342060894273</td>\n",
              "      <td>1.285308</td>\n",
              "    </tr>\n",
              "    <tr>\n",
              "      <th>2022-05-16</th>\n",
              "      <td>2624.69</td>\n",
              "      <td>2629.20</td>\n",
              "      <td>2593.61</td>\n",
              "      <td>2596.58</td>\n",
              "      <td>780198956</td>\n",
              "      <td>8528536948653</td>\n",
              "      <td>1.281528</td>\n",
              "    </tr>\n",
              "  </tbody>\n",
              "</table>\n",
              "</div>\n",
              "      <button class=\"colab-df-convert\" onclick=\"convertToInteractive('df-e9082b69-4a4b-46f8-9152-9df91ef8cdea')\"\n",
              "              title=\"Convert this dataframe to an interactive table.\"\n",
              "              style=\"display:none;\">\n",
              "        \n",
              "  <svg xmlns=\"http://www.w3.org/2000/svg\" height=\"24px\"viewBox=\"0 0 24 24\"\n",
              "       width=\"24px\">\n",
              "    <path d=\"M0 0h24v24H0V0z\" fill=\"none\"/>\n",
              "    <path d=\"M18.56 5.44l.94 2.06.94-2.06 2.06-.94-2.06-.94-.94-2.06-.94 2.06-2.06.94zm-11 1L8.5 8.5l.94-2.06 2.06-.94-2.06-.94L8.5 2.5l-.94 2.06-2.06.94zm10 10l.94 2.06.94-2.06 2.06-.94-2.06-.94-.94-2.06-.94 2.06-2.06.94z\"/><path d=\"M17.41 7.96l-1.37-1.37c-.4-.4-.92-.59-1.43-.59-.52 0-1.04.2-1.43.59L10.3 9.45l-7.72 7.72c-.78.78-.78 2.05 0 2.83L4 21.41c.39.39.9.59 1.41.59.51 0 1.02-.2 1.41-.59l7.78-7.78 2.81-2.81c.8-.78.8-2.07 0-2.86zM5.41 20L4 18.59l7.72-7.72 1.47 1.35L5.41 20z\"/>\n",
              "  </svg>\n",
              "      </button>\n",
              "      \n",
              "  <style>\n",
              "    .colab-df-container {\n",
              "      display:flex;\n",
              "      flex-wrap:wrap;\n",
              "      gap: 12px;\n",
              "    }\n",
              "\n",
              "    .colab-df-convert {\n",
              "      background-color: #E8F0FE;\n",
              "      border: none;\n",
              "      border-radius: 50%;\n",
              "      cursor: pointer;\n",
              "      display: none;\n",
              "      fill: #1967D2;\n",
              "      height: 32px;\n",
              "      padding: 0 0 0 0;\n",
              "      width: 32px;\n",
              "    }\n",
              "\n",
              "    .colab-df-convert:hover {\n",
              "      background-color: #E2EBFA;\n",
              "      box-shadow: 0px 1px 2px rgba(60, 64, 67, 0.3), 0px 1px 3px 1px rgba(60, 64, 67, 0.15);\n",
              "      fill: #174EA6;\n",
              "    }\n",
              "\n",
              "    [theme=dark] .colab-df-convert {\n",
              "      background-color: #3B4455;\n",
              "      fill: #D2E3FC;\n",
              "    }\n",
              "\n",
              "    [theme=dark] .colab-df-convert:hover {\n",
              "      background-color: #434B5C;\n",
              "      box-shadow: 0px 1px 3px 1px rgba(0, 0, 0, 0.15);\n",
              "      filter: drop-shadow(0px 1px 2px rgba(0, 0, 0, 0.3));\n",
              "      fill: #FFFFFF;\n",
              "    }\n",
              "  </style>\n",
              "\n",
              "      <script>\n",
              "        const buttonEl =\n",
              "          document.querySelector('#df-e9082b69-4a4b-46f8-9152-9df91ef8cdea button.colab-df-convert');\n",
              "        buttonEl.style.display =\n",
              "          google.colab.kernel.accessAllowed ? 'block' : 'none';\n",
              "\n",
              "        async function convertToInteractive(key) {\n",
              "          const element = document.querySelector('#df-e9082b69-4a4b-46f8-9152-9df91ef8cdea');\n",
              "          const dataTable =\n",
              "            await google.colab.kernel.invokeFunction('convertToInteractive',\n",
              "                                                     [key], {});\n",
              "          if (!dataTable) return;\n",
              "\n",
              "          const docLinkHtml = 'Like what you see? Visit the ' +\n",
              "            '<a target=\"_blank\" href=https://colab.research.google.com/notebooks/data_table.ipynb>data table notebook</a>'\n",
              "            + ' to learn more about interactive tables.';\n",
              "          element.innerHTML = '';\n",
              "          dataTable['output_type'] = 'display_data';\n",
              "          await google.colab.output.renderOutput(dataTable, element);\n",
              "          const docLink = document.createElement('div');\n",
              "          docLink.innerHTML = docLinkHtml;\n",
              "          element.appendChild(docLink);\n",
              "        }\n",
              "      </script>\n",
              "    </div>\n",
              "  </div>\n",
              "  "
            ]
          },
          "metadata": {},
          "execution_count": 21
        }
      ]
    },
    {
      "cell_type": "code",
      "source": [
        "diff = stock_df.index[-1] - stock_df.index[0]\n",
        "N = diff.days / 252"
      ],
      "metadata": {
        "id": "yZ9jG8AjAy03"
      },
      "execution_count": null,
      "outputs": []
    },
    {
      "cell_type": "code",
      "source": [
        "기간수익률 = stock_df['수익률'][-1]\n",
        "연복리수익률 = (기간수익률 ** (1/N))-1"
      ],
      "metadata": {
        "id": "zz5VTlX6A20I"
      },
      "execution_count": null,
      "outputs": []
    },
    {
      "cell_type": "code",
      "source": [
        "def 연복리수익률(df):\n",
        "    기간수익률 = df['종가'][-1] / df['종가'][0]\n",
        "    delta = df.index[-1] - df.index[0]\n",
        "    N = delta.days / 252\n",
        "    return (기간수익률 ** (1/N)) -1"
      ],
      "metadata": {
        "id": "Tov7uemIBDtz"
      },
      "execution_count": null,
      "outputs": []
    },
    {
      "cell_type": "code",
      "source": [
        "연복리수익률(stock_df) * 100 "
      ],
      "metadata": {
        "colab": {
          "base_uri": "https://localhost:8080/"
        },
        "id": "cQ4SaNaxBIe6",
        "outputId": "c76926e5-83b4-48f2-d53c-7ae51321110c"
      },
      "execution_count": null,
      "outputs": [
        {
          "output_type": "execute_result",
          "data": {
            "text/plain": [
              "3.2406521041772107"
            ]
          },
          "metadata": {},
          "execution_count": 30
        }
      ]
    },
    {
      "cell_type": "code",
      "source": [
        "def 월복리수익률(df):\n",
        "    기간수익률 = df['종가'][-1] / df['종가'][0]\n",
        "    delta = df.index[-1] - df.index[0]\n",
        "    N = delta.days / 21\n",
        "    return (기간수익률 ** (1/N)) -1"
      ],
      "metadata": {
        "id": "CL3LMqg3BNqy"
      },
      "execution_count": null,
      "outputs": []
    },
    {
      "cell_type": "code",
      "source": [
        "월복리수익률(stock_df) * 100"
      ],
      "metadata": {
        "colab": {
          "base_uri": "https://localhost:8080/"
        },
        "id": "Hg_EODUhH15Z",
        "outputId": "6ddf0caf-1e08-4118-b160-408580f7a429"
      },
      "execution_count": null,
      "outputs": [
        {
          "output_type": "execute_result",
          "data": {
            "text/plain": [
              "0.26612436082056323"
            ]
          },
          "metadata": {},
          "execution_count": 35
        }
      ]
    },
    {
      "cell_type": "markdown",
      "source": [
        "\n",
        "\n",
        "---\n",
        "\n",
        "\n",
        "네이버금융 재무제표 크롤링(1)\n",
        "=="
      ],
      "metadata": {
        "id": "LNa0Y_YQLNDN"
      }
    },
    {
      "cell_type": "code",
      "source": [
        "# 오늘날 코스피에 상장되어 있는 주식의 이름과 티커 수집 \n",
        "today = datetime.today().strftime(\"%Y%m%d\") \n",
        "ticker_list = stock.get_market_ticker_list(date = today, market=\"KOSPI\") \n",
        "symbol_list = [] \n",
        "for ticker in ticker_list: \n",
        "  symbol = stock.get_market_ticker_name(ticker) \n",
        "  symbol_list.append(symbol) \n",
        "\n",
        "# 코스피 상장 주식의 개수 확인 \n",
        "print(len(ticker_list)) \n",
        "print(len(symbol_list))"
      ],
      "metadata": {
        "colab": {
          "base_uri": "https://localhost:8080/"
        },
        "id": "h6d5C80B1jVu",
        "outputId": "7dcac0e4-3625-480a-ce4a-2c69fd64f8e8"
      },
      "execution_count": null,
      "outputs": [
        {
          "output_type": "stream",
          "name": "stdout",
          "text": [
            "940\n",
            "940\n"
          ]
        }
      ]
    },
    {
      "cell_type": "code",
      "source": [
        "df_우 = [s for s in symbol_list if s.endswith('우') | s.endswith('우B') | s.endswith('우(전환)')]\n",
        "res = [i for i in symbol_list if i not in df_우]\n",
        "\n",
        "ticker = pd.DataFrame(ticker_list)\n",
        "symbol = pd.DataFrame(symbol_list)\n",
        "sol = pd.concat([ticker, symbol], axis=1)\n",
        "sol.columns= ['종목코드', '종목명']\n",
        "kospi_df = sol[sol['종목명'].isin(res)]\n",
        "kospi_df.reset_index(inplace=True)\n",
        "kospi_df.drop('index', axis=1, inplace=True)\n",
        "kospi_df['종목코드'] = kospi_df['종목코드'].astype('str')\n",
        "ticker_ks = kospi_df['종목코드'].tolist()\n",
        "print(len(ticker_ks))\n",
        "kospi_df"
      ],
      "metadata": {
        "colab": {
          "base_uri": "https://localhost:8080/",
          "height": 532
        },
        "id": "dFuS0rnQ1nyJ",
        "outputId": "e0220802-c150-4f0c-d856-acdc64f566b1"
      },
      "execution_count": null,
      "outputs": [
        {
          "output_type": "stream",
          "name": "stdout",
          "text": [
            "820\n"
          ]
        },
        {
          "output_type": "stream",
          "name": "stderr",
          "text": [
            "/usr/local/lib/python3.7/dist-packages/pandas/core/frame.py:4913: SettingWithCopyWarning: \n",
            "A value is trying to be set on a copy of a slice from a DataFrame\n",
            "\n",
            "See the caveats in the documentation: https://pandas.pydata.org/pandas-docs/stable/user_guide/indexing.html#returning-a-view-versus-a-copy\n",
            "  errors=errors,\n"
          ]
        },
        {
          "output_type": "execute_result",
          "data": {
            "text/plain": [
              "       종목코드      종목명\n",
              "0    095570   AJ네트웍스\n",
              "1    006840    AK홀딩스\n",
              "2    027410      BGF\n",
              "3    282330   BGF리테일\n",
              "4    138930  BNK금융지주\n",
              "..      ...      ...\n",
              "815  005870      휴니드\n",
              "816  079980      휴비스\n",
              "817  005010      휴스틸\n",
              "818  000540     흥국화재\n",
              "819  003280     흥아해운\n",
              "\n",
              "[820 rows x 2 columns]"
            ],
            "text/html": [
              "\n",
              "  <div id=\"df-d4d843b6-4052-4b83-acab-63dc996d0fbc\">\n",
              "    <div class=\"colab-df-container\">\n",
              "      <div>\n",
              "<style scoped>\n",
              "    .dataframe tbody tr th:only-of-type {\n",
              "        vertical-align: middle;\n",
              "    }\n",
              "\n",
              "    .dataframe tbody tr th {\n",
              "        vertical-align: top;\n",
              "    }\n",
              "\n",
              "    .dataframe thead th {\n",
              "        text-align: right;\n",
              "    }\n",
              "</style>\n",
              "<table border=\"1\" class=\"dataframe\">\n",
              "  <thead>\n",
              "    <tr style=\"text-align: right;\">\n",
              "      <th></th>\n",
              "      <th>종목코드</th>\n",
              "      <th>종목명</th>\n",
              "    </tr>\n",
              "  </thead>\n",
              "  <tbody>\n",
              "    <tr>\n",
              "      <th>0</th>\n",
              "      <td>095570</td>\n",
              "      <td>AJ네트웍스</td>\n",
              "    </tr>\n",
              "    <tr>\n",
              "      <th>1</th>\n",
              "      <td>006840</td>\n",
              "      <td>AK홀딩스</td>\n",
              "    </tr>\n",
              "    <tr>\n",
              "      <th>2</th>\n",
              "      <td>027410</td>\n",
              "      <td>BGF</td>\n",
              "    </tr>\n",
              "    <tr>\n",
              "      <th>3</th>\n",
              "      <td>282330</td>\n",
              "      <td>BGF리테일</td>\n",
              "    </tr>\n",
              "    <tr>\n",
              "      <th>4</th>\n",
              "      <td>138930</td>\n",
              "      <td>BNK금융지주</td>\n",
              "    </tr>\n",
              "    <tr>\n",
              "      <th>...</th>\n",
              "      <td>...</td>\n",
              "      <td>...</td>\n",
              "    </tr>\n",
              "    <tr>\n",
              "      <th>815</th>\n",
              "      <td>005870</td>\n",
              "      <td>휴니드</td>\n",
              "    </tr>\n",
              "    <tr>\n",
              "      <th>816</th>\n",
              "      <td>079980</td>\n",
              "      <td>휴비스</td>\n",
              "    </tr>\n",
              "    <tr>\n",
              "      <th>817</th>\n",
              "      <td>005010</td>\n",
              "      <td>휴스틸</td>\n",
              "    </tr>\n",
              "    <tr>\n",
              "      <th>818</th>\n",
              "      <td>000540</td>\n",
              "      <td>흥국화재</td>\n",
              "    </tr>\n",
              "    <tr>\n",
              "      <th>819</th>\n",
              "      <td>003280</td>\n",
              "      <td>흥아해운</td>\n",
              "    </tr>\n",
              "  </tbody>\n",
              "</table>\n",
              "<p>820 rows × 2 columns</p>\n",
              "</div>\n",
              "      <button class=\"colab-df-convert\" onclick=\"convertToInteractive('df-d4d843b6-4052-4b83-acab-63dc996d0fbc')\"\n",
              "              title=\"Convert this dataframe to an interactive table.\"\n",
              "              style=\"display:none;\">\n",
              "        \n",
              "  <svg xmlns=\"http://www.w3.org/2000/svg\" height=\"24px\"viewBox=\"0 0 24 24\"\n",
              "       width=\"24px\">\n",
              "    <path d=\"M0 0h24v24H0V0z\" fill=\"none\"/>\n",
              "    <path d=\"M18.56 5.44l.94 2.06.94-2.06 2.06-.94-2.06-.94-.94-2.06-.94 2.06-2.06.94zm-11 1L8.5 8.5l.94-2.06 2.06-.94-2.06-.94L8.5 2.5l-.94 2.06-2.06.94zm10 10l.94 2.06.94-2.06 2.06-.94-2.06-.94-.94-2.06-.94 2.06-2.06.94z\"/><path d=\"M17.41 7.96l-1.37-1.37c-.4-.4-.92-.59-1.43-.59-.52 0-1.04.2-1.43.59L10.3 9.45l-7.72 7.72c-.78.78-.78 2.05 0 2.83L4 21.41c.39.39.9.59 1.41.59.51 0 1.02-.2 1.41-.59l7.78-7.78 2.81-2.81c.8-.78.8-2.07 0-2.86zM5.41 20L4 18.59l7.72-7.72 1.47 1.35L5.41 20z\"/>\n",
              "  </svg>\n",
              "      </button>\n",
              "      \n",
              "  <style>\n",
              "    .colab-df-container {\n",
              "      display:flex;\n",
              "      flex-wrap:wrap;\n",
              "      gap: 12px;\n",
              "    }\n",
              "\n",
              "    .colab-df-convert {\n",
              "      background-color: #E8F0FE;\n",
              "      border: none;\n",
              "      border-radius: 50%;\n",
              "      cursor: pointer;\n",
              "      display: none;\n",
              "      fill: #1967D2;\n",
              "      height: 32px;\n",
              "      padding: 0 0 0 0;\n",
              "      width: 32px;\n",
              "    }\n",
              "\n",
              "    .colab-df-convert:hover {\n",
              "      background-color: #E2EBFA;\n",
              "      box-shadow: 0px 1px 2px rgba(60, 64, 67, 0.3), 0px 1px 3px 1px rgba(60, 64, 67, 0.15);\n",
              "      fill: #174EA6;\n",
              "    }\n",
              "\n",
              "    [theme=dark] .colab-df-convert {\n",
              "      background-color: #3B4455;\n",
              "      fill: #D2E3FC;\n",
              "    }\n",
              "\n",
              "    [theme=dark] .colab-df-convert:hover {\n",
              "      background-color: #434B5C;\n",
              "      box-shadow: 0px 1px 3px 1px rgba(0, 0, 0, 0.15);\n",
              "      filter: drop-shadow(0px 1px 2px rgba(0, 0, 0, 0.3));\n",
              "      fill: #FFFFFF;\n",
              "    }\n",
              "  </style>\n",
              "\n",
              "      <script>\n",
              "        const buttonEl =\n",
              "          document.querySelector('#df-d4d843b6-4052-4b83-acab-63dc996d0fbc button.colab-df-convert');\n",
              "        buttonEl.style.display =\n",
              "          google.colab.kernel.accessAllowed ? 'block' : 'none';\n",
              "\n",
              "        async function convertToInteractive(key) {\n",
              "          const element = document.querySelector('#df-d4d843b6-4052-4b83-acab-63dc996d0fbc');\n",
              "          const dataTable =\n",
              "            await google.colab.kernel.invokeFunction('convertToInteractive',\n",
              "                                                     [key], {});\n",
              "          if (!dataTable) return;\n",
              "\n",
              "          const docLinkHtml = 'Like what you see? Visit the ' +\n",
              "            '<a target=\"_blank\" href=https://colab.research.google.com/notebooks/data_table.ipynb>data table notebook</a>'\n",
              "            + ' to learn more about interactive tables.';\n",
              "          element.innerHTML = '';\n",
              "          dataTable['output_type'] = 'display_data';\n",
              "          await google.colab.output.renderOutput(dataTable, element);\n",
              "          const docLink = document.createElement('div');\n",
              "          docLink.innerHTML = docLinkHtml;\n",
              "          element.appendChild(docLink);\n",
              "        }\n",
              "      </script>\n",
              "    </div>\n",
              "  </div>\n",
              "  "
            ]
          },
          "metadata": {},
          "execution_count": 26
        }
      ]
    },
    {
      "cell_type": "code",
      "source": [
        "a = ['000540','003280']\n",
        "b = ['흥아해운','고곡해운']"
      ],
      "metadata": {
        "id": "QJrN8-8lFhBK"
      },
      "execution_count": null,
      "outputs": []
    },
    {
      "cell_type": "code",
      "source": [
        "finance_df = []\n",
        "\n",
        "for ticker in ticker_ks: \n",
        "  URL = f\"https://finance.naver.com/item/main.nhn?code={ticker}\" \n",
        "  ref = requests.get(URL, headers={'User-agent':'Mozilla/5.0'}) \n",
        "  html = ref.text \n",
        "  soup = BeautifulSoup(html, 'html.parser') \n",
        "  finance_html = soup.select('div.section.cop_analysis div.sub_section')[0]\n",
        "  th_data = [item.get_text().strip() for item in finance_html.select('thead th')] \n",
        "  annual_date = th_data[3:7] \n",
        "  quarter_date = th_data[7:13] \n",
        "  finance_index = [item.get_text().strip() for item in finance_html.select('th.h_th2')][3:] \n",
        "  finance_data = [item.get_text().strip() for item in finance_html.select('td')] \n",
        "  finance_data = np.array(finance_data) \n",
        "  finance_data.resize(len(finance_index), 10) \n",
        "  finance_date = annual_date + quarter_date \n",
        "  finance = pd.DataFrame(data=finance_data[0:,0:], index=finance_index, columns=finance_date) \n",
        "  finance_df.append(finance)"
      ],
      "metadata": {
        "colab": {
          "base_uri": "https://localhost:8080/",
          "height": 245
        },
        "id": "ZjVbhkUw5bra",
        "outputId": "57b74c7c-1028-4a27-d0b3-4de7b15780fe"
      },
      "execution_count": null,
      "outputs": [
        {
          "output_type": "error",
          "ename": "IndexError",
          "evalue": "ignored",
          "traceback": [
            "\u001b[0;31m---------------------------------------------------------------------------\u001b[0m",
            "\u001b[0;31mIndexError\u001b[0m                                Traceback (most recent call last)",
            "\u001b[0;32m<ipython-input-121-1cbf8555a168>\u001b[0m in \u001b[0;36m<module>\u001b[0;34m()\u001b[0m\n\u001b[1;32m      6\u001b[0m   \u001b[0mhtml\u001b[0m \u001b[0;34m=\u001b[0m \u001b[0mref\u001b[0m\u001b[0;34m.\u001b[0m\u001b[0mtext\u001b[0m\u001b[0;34m\u001b[0m\u001b[0;34m\u001b[0m\u001b[0m\n\u001b[1;32m      7\u001b[0m   \u001b[0msoup\u001b[0m \u001b[0;34m=\u001b[0m \u001b[0mBeautifulSoup\u001b[0m\u001b[0;34m(\u001b[0m\u001b[0mhtml\u001b[0m\u001b[0;34m,\u001b[0m \u001b[0;34m'html.parser'\u001b[0m\u001b[0;34m)\u001b[0m\u001b[0;34m\u001b[0m\u001b[0;34m\u001b[0m\u001b[0m\n\u001b[0;32m----> 8\u001b[0;31m   \u001b[0mfinance_html\u001b[0m \u001b[0;34m=\u001b[0m \u001b[0msoup\u001b[0m\u001b[0;34m.\u001b[0m\u001b[0mselect\u001b[0m\u001b[0;34m(\u001b[0m\u001b[0;34m'div.section.cop_analysis div.sub_section'\u001b[0m\u001b[0;34m)\u001b[0m\u001b[0;34m[\u001b[0m\u001b[0;36m0\u001b[0m\u001b[0;34m]\u001b[0m\u001b[0;34m\u001b[0m\u001b[0;34m\u001b[0m\u001b[0m\n\u001b[0m\u001b[1;32m      9\u001b[0m   \u001b[0mth_data\u001b[0m \u001b[0;34m=\u001b[0m \u001b[0;34m[\u001b[0m\u001b[0mitem\u001b[0m\u001b[0;34m.\u001b[0m\u001b[0mget_text\u001b[0m\u001b[0;34m(\u001b[0m\u001b[0;34m)\u001b[0m\u001b[0;34m.\u001b[0m\u001b[0mstrip\u001b[0m\u001b[0;34m(\u001b[0m\u001b[0;34m)\u001b[0m \u001b[0;32mfor\u001b[0m \u001b[0mitem\u001b[0m \u001b[0;32min\u001b[0m \u001b[0mfinance_html\u001b[0m\u001b[0;34m.\u001b[0m\u001b[0mselect\u001b[0m\u001b[0;34m(\u001b[0m\u001b[0;34m'thead th'\u001b[0m\u001b[0;34m)\u001b[0m\u001b[0;34m]\u001b[0m\u001b[0;34m\u001b[0m\u001b[0;34m\u001b[0m\u001b[0m\n\u001b[1;32m     10\u001b[0m   \u001b[0mannual_date\u001b[0m \u001b[0;34m=\u001b[0m \u001b[0mth_data\u001b[0m\u001b[0;34m[\u001b[0m\u001b[0;36m3\u001b[0m\u001b[0;34m:\u001b[0m\u001b[0;36m7\u001b[0m\u001b[0;34m]\u001b[0m\u001b[0;34m\u001b[0m\u001b[0;34m\u001b[0m\u001b[0m\n",
            "\u001b[0;31mIndexError\u001b[0m: list index out of range"
          ]
        }
      ]
    },
    {
      "cell_type": "code",
      "source": [
        "a = ['000540', '003280']\n",
        "b = ['흥아해운', '고곡해운']"
      ],
      "metadata": {
        "id": "lgFF3ZjW9B0Y"
      },
      "execution_count": null,
      "outputs": []
    },
    {
      "cell_type": "code",
      "source": [
        "import pandas as pd \n",
        "import requests \n",
        "\n",
        "for ticker in a: \n",
        "  url = f\"https://finance.naver.com/item/main.nhn?code={ticker}\" \n",
        "  html = requests.get(url, headers={'User-agent':'Mozilla/5.0'}) \n",
        "  soup = BeautifulSoup(html.text, \"lxml\") \n",
        "  stmt = pd.read_html(html.text)[3] \n",
        "  stmt.set_index(('주요재무정보', '주요재무정보', '주요재무정보'), inplace=True)\n",
        "  for symbol in b: \n",
        "    stmt.index.rename(symbol, inplace=True) \n",
        "  stmt.columns = stmt.columns.droplevel(0)\n",
        "  stmt.columns = stmt.columns.droplevel(1) \n",
        "  # for i in len(a):\n",
        "    \n",
        "    \n",
        "# stmt_df = pd.concat(stmt)\n",
        "  # yf = pd.read_html(r.text)[9]\n",
        "  # bb = yf.iloc[0][1]\n",
        "  # if not bb:\n",
        "  #   bb = []\n",
        "  #   cc.append(bb)\n",
        "  # else:\n",
        "  #   cc.append(bb)"
      ],
      "metadata": {
        "id": "UIGWDWiH6F-a"
      },
      "execution_count": null,
      "outputs": []
    },
    {
      "cell_type": "code",
      "source": [
        "stmt.info()"
      ],
      "metadata": {
        "colab": {
          "base_uri": "https://localhost:8080/"
        },
        "id": "KHjAtjQ-BwhP",
        "outputId": "0c567b6a-c149-428a-d8ac-4a946493f5b7"
      },
      "execution_count": null,
      "outputs": [
        {
          "output_type": "stream",
          "name": "stdout",
          "text": [
            "<class 'pandas.core.frame.DataFrame'>\n",
            "Index: 16 entries, 매출액 to 배당성향(%)\n",
            "Data columns (total 10 columns):\n",
            " #   Column      Non-Null Count  Dtype  \n",
            "---  ------      --------------  -----  \n",
            " 0   2019.12     14 non-null     object \n",
            " 1   2020.12     14 non-null     object \n",
            " 2   2021.12     13 non-null     float64\n",
            " 3   2022.12(E)  0 non-null      float64\n",
            " 4   2020.12     13 non-null     float64\n",
            " 5   2021.03     13 non-null     float64\n",
            " 6   2021.06     13 non-null     float64\n",
            " 7   2021.09     13 non-null     float64\n",
            " 8   2021.12     13 non-null     float64\n",
            " 9   2022.03(E)  0 non-null      float64\n",
            "dtypes: float64(8), object(2)\n",
            "memory usage: 1.4+ KB\n"
          ]
        }
      ]
    },
    {
      "cell_type": "code",
      "source": [
        "req = requests.get('https://finance.naver.com/sise/sise_market_sum.naver?sosok=0')\n",
        "html = req.text\n",
        "soup = BeautifulSoup(html)\n",
        "\n",
        "# finding last page\n",
        "last_page = soup.find('td',{'class':'pgRR'})\n",
        "last_number = re.findall(r'\\d+', last_page.a.get('href'))[1]\n",
        "\n",
        "db = pd.DataFrame()\n",
        "\n",
        "# page iteration\n",
        "for i in range(1, int(last_number)+1):\n",
        "  #KOSPI\n",
        "  req = requests.get('https://finance.naver.com/sise/sise_market_sum.nhn?&page='+str(i))\n",
        "  html = req.text\n",
        "  soup = BeautifulSoup(html)\n",
        "\n",
        "  # find company list for each page\n",
        "  company_list = soup.find_all('a', {'class':'title'})\n",
        "\n",
        "  # company iteration for each page\n",
        "  for company in company_list:\n",
        "      company_code = re.search('\\d+', company.get('href')).group()\n",
        "      company_name = company.text\n",
        "\n",
        "      # extracting financial statement\n",
        "      company_url = 'https://finance.naver.com/item/main.nhn?code=' + str(company_code)\n",
        "      df = pd.read_html(company_url, encoding='euc-kr')[3]\n",
        "\n",
        "      # ETF exception \n",
        "      if df.columns[0] == '구성종목(구성자산)' or df.columns[0] == 0 or df.iloc[:, 1:].isnull().all(axis=None): continue\n",
        "\n",
        "      # dataframe arrange\n",
        "      df.columns = df.columns.droplevel([0,2])\n",
        "      df.index = df['주요재무정보']\n",
        "      df_arrange = df.iloc[:,1:]\n",
        "\n",
        "      data = pd.DataFrame(df_arrange.stack(dropna=False))\n",
        "      if company_name == company_list[0]:\n",
        "        index = data.index.to_flat_index()\n",
        "      data.index = index \n",
        "\n",
        "      df2 = pd.DataFrame([company_code, company_name], index=['code', 'name'])\n",
        "      df2 = df2.append(data).T\n",
        "\n",
        "      print(company_name)\n",
        "      db = db.append(df2, ignore_index=True)\n",
        "\n",
        "#save to csv file\n",
        "db.to_csv('/content/drive/MyDrive/프로젝트1 데이터/코스피재무제표.csv', index = False, encoding = 'utf-8-sig')"
      ],
      "metadata": {
        "id": "nhHOS1DRLLga"
      },
      "execution_count": null,
      "outputs": []
    },
    {
      "cell_type": "code",
      "source": [
        "import pandas as pd\n",
        "import requests\n",
        "cc = []\n",
        "\n",
        "for ticker in ticker_ks:\n",
        "  URL = f\"https://finance.naver.com/item/main.nhn?code={ticker}\"\n",
        "  r = requests.get(URL, headers={'User-agent':'Mozilla/5.0'}) \n",
        "  yf = pd.read_html(r.text)[9]\n",
        "  yf = yf.iloc[0][1]\n",
        "  cc.append(yf)"
      ],
      "metadata": {
        "colab": {
          "base_uri": "https://localhost:8080/",
          "height": 245
        },
        "id": "qfJBbF3SQaDn",
        "outputId": "6851fa18-1982-4d7c-bee6-db259039dfe9"
      },
      "execution_count": null,
      "outputs": [
        {
          "output_type": "error",
          "ename": "IndexError",
          "evalue": "ignored",
          "traceback": [
            "\u001b[0;31m---------------------------------------------------------------------------\u001b[0m",
            "\u001b[0;31mIndexError\u001b[0m                                Traceback (most recent call last)",
            "\u001b[0;32m<ipython-input-153-298a0a782863>\u001b[0m in \u001b[0;36m<module>\u001b[0;34m()\u001b[0m\n\u001b[1;32m      7\u001b[0m   \u001b[0mr\u001b[0m \u001b[0;34m=\u001b[0m \u001b[0mrequests\u001b[0m\u001b[0;34m.\u001b[0m\u001b[0mget\u001b[0m\u001b[0;34m(\u001b[0m\u001b[0mURL\u001b[0m\u001b[0;34m,\u001b[0m \u001b[0mheaders\u001b[0m\u001b[0;34m=\u001b[0m\u001b[0;34m{\u001b[0m\u001b[0;34m'User-agent'\u001b[0m\u001b[0;34m:\u001b[0m\u001b[0;34m'Mozilla/5.0'\u001b[0m\u001b[0;34m}\u001b[0m\u001b[0;34m)\u001b[0m\u001b[0;34m\u001b[0m\u001b[0;34m\u001b[0m\u001b[0m\n\u001b[1;32m      8\u001b[0m   \u001b[0msoup\u001b[0m \u001b[0;34m=\u001b[0m \u001b[0mBeautifulSoup\u001b[0m\u001b[0;34m(\u001b[0m\u001b[0mr\u001b[0m\u001b[0;34m.\u001b[0m\u001b[0mtext\u001b[0m\u001b[0;34m,\u001b[0m \u001b[0;34m\"lxml\"\u001b[0m\u001b[0;34m)\u001b[0m\u001b[0;34m\u001b[0m\u001b[0;34m\u001b[0m\u001b[0m\n\u001b[0;32m----> 9\u001b[0;31m   \u001b[0myf\u001b[0m \u001b[0;34m=\u001b[0m \u001b[0mpd\u001b[0m\u001b[0;34m.\u001b[0m\u001b[0mread_html\u001b[0m\u001b[0;34m(\u001b[0m\u001b[0msoup\u001b[0m\u001b[0;34m.\u001b[0m\u001b[0mtext\u001b[0m\u001b[0;34m)\u001b[0m\u001b[0;34m[\u001b[0m\u001b[0;36m9\u001b[0m\u001b[0;34m]\u001b[0m\u001b[0;34m\u001b[0m\u001b[0;34m\u001b[0m\u001b[0m\n\u001b[0m\u001b[1;32m     10\u001b[0m   \u001b[0myf\u001b[0m \u001b[0;34m=\u001b[0m \u001b[0myf\u001b[0m\u001b[0;34m.\u001b[0m\u001b[0miloc\u001b[0m\u001b[0;34m[\u001b[0m\u001b[0;36m0\u001b[0m\u001b[0;34m]\u001b[0m\u001b[0;34m[\u001b[0m\u001b[0;36m1\u001b[0m\u001b[0;34m]\u001b[0m\u001b[0;34m\u001b[0m\u001b[0;34m\u001b[0m\u001b[0m\n\u001b[1;32m     11\u001b[0m   \u001b[0mcc\u001b[0m\u001b[0;34m.\u001b[0m\u001b[0mappend\u001b[0m\u001b[0;34m(\u001b[0m\u001b[0myf\u001b[0m\u001b[0;34m)\u001b[0m\u001b[0;34m\u001b[0m\u001b[0;34m\u001b[0m\u001b[0m\n",
            "\u001b[0;31mIndexError\u001b[0m: list index out of range"
          ]
        }
      ]
    },
    {
      "cell_type": "code",
      "source": [
        "from bs4 import BeautifulSoup\n",
        "import requests\n",
        "import pandas as pd\n",
        "\n",
        "url = 'https://finance.naver.com/item/main.nhn?code=035720' # 카카오(035720) 네이버 금융 홈페이지 주소\n",
        "html = requests.get(url).text\n",
        "soup = BeautifulSoup(html)\n",
        "table_html = soup.find('table', {'class' : 'tb_type1 tb_num tb_type1_ifrs'})   # 특정 테이블 태그를 가져옴     \n",
        "table_html = str(table)      # 'table'변수는 bs4.element.tag 형태이기 때문에 table를 문자열 형태로 바꿔준다  \n",
        "table_df_list = pd.read_html(table_html)   # read_html 사용해서 html을 데이터프레임들로 이루어진 리스트로 바꿔줌  \n",
        "table_df = table_df_list[0]    # 원하는 데이터프레임을 가져온다  "
      ],
      "metadata": {
        "colab": {
          "base_uri": "https://localhost:8080/",
          "height": 245
        },
        "id": "CmIMFBWwSMv7",
        "outputId": "6cd2f29a-1eb0-4246-e623-2990ec9c63f8"
      },
      "execution_count": null,
      "outputs": [
        {
          "output_type": "error",
          "ename": "NameError",
          "evalue": "ignored",
          "traceback": [
            "\u001b[0;31m---------------------------------------------------------------------------\u001b[0m",
            "\u001b[0;31mNameError\u001b[0m                                 Traceback (most recent call last)",
            "\u001b[0;32m<ipython-input-154-636fc16c8f1c>\u001b[0m in \u001b[0;36m<module>\u001b[0;34m()\u001b[0m\n\u001b[1;32m      7\u001b[0m \u001b[0msoup\u001b[0m \u001b[0;34m=\u001b[0m \u001b[0mBeautifulSoup\u001b[0m\u001b[0;34m(\u001b[0m\u001b[0mhtml\u001b[0m\u001b[0;34m)\u001b[0m\u001b[0;34m\u001b[0m\u001b[0;34m\u001b[0m\u001b[0m\n\u001b[1;32m      8\u001b[0m \u001b[0mtable_html\u001b[0m \u001b[0;34m=\u001b[0m \u001b[0msoup\u001b[0m\u001b[0;34m.\u001b[0m\u001b[0mfind\u001b[0m\u001b[0;34m(\u001b[0m\u001b[0;34m'table'\u001b[0m\u001b[0;34m,\u001b[0m \u001b[0;34m{\u001b[0m\u001b[0;34m'class'\u001b[0m \u001b[0;34m:\u001b[0m \u001b[0;34m'tb_type1 tb_num tb_type1_ifrs'\u001b[0m\u001b[0;34m}\u001b[0m\u001b[0;34m)\u001b[0m   \u001b[0;31m# 특정 테이블 태그를 가져옴\u001b[0m\u001b[0;34m\u001b[0m\u001b[0;34m\u001b[0m\u001b[0m\n\u001b[0;32m----> 9\u001b[0;31m \u001b[0mtable_html\u001b[0m \u001b[0;34m=\u001b[0m \u001b[0mstr\u001b[0m\u001b[0;34m(\u001b[0m\u001b[0mtable\u001b[0m\u001b[0;34m)\u001b[0m      \u001b[0;31m# 'table'변수는 bs4.element.tag 형태이기 때문에 table를 문자열 형태로 바꿔준다\u001b[0m\u001b[0;34m\u001b[0m\u001b[0;34m\u001b[0m\u001b[0m\n\u001b[0m\u001b[1;32m     10\u001b[0m \u001b[0mtable_df_list\u001b[0m \u001b[0;34m=\u001b[0m \u001b[0mpd\u001b[0m\u001b[0;34m.\u001b[0m\u001b[0mread_html\u001b[0m\u001b[0;34m(\u001b[0m\u001b[0mtable_html\u001b[0m\u001b[0;34m)\u001b[0m   \u001b[0;31m# read_html 사용해서 html을 데이터프레임들로 이루어진 리스트로 바꿔줌\u001b[0m\u001b[0;34m\u001b[0m\u001b[0;34m\u001b[0m\u001b[0m\n\u001b[1;32m     11\u001b[0m \u001b[0mtable_df\u001b[0m \u001b[0;34m=\u001b[0m \u001b[0mtable_df_list\u001b[0m\u001b[0;34m[\u001b[0m\u001b[0;36m0\u001b[0m\u001b[0;34m]\u001b[0m    \u001b[0;31m# 원하는 데이터프레임을 가져온다\u001b[0m\u001b[0;34m\u001b[0m\u001b[0;34m\u001b[0m\u001b[0m\n",
            "\u001b[0;31mNameError\u001b[0m: name 'table' is not defined"
          ]
        }
      ]
    },
    {
      "cell_type": "code",
      "source": [
        "cc"
      ],
      "metadata": {
        "colab": {
          "base_uri": "https://localhost:8080/"
        },
        "id": "IFPnYZGkQh1S",
        "outputId": "b143c71b-4d18-4cde-c39b-3642ffa59d57"
      },
      "execution_count": null,
      "outputs": [
        {
          "output_type": "execute_result",
          "data": {
            "text/plain": [
              "['11.09배',\n",
              " '8.56배',\n",
              " '6.37배',\n",
              " '6.37배',\n",
              " '5.42배',\n",
              " '5.91배',\n",
              " '7.97배',\n",
              " '47.68배',\n",
              " '11.25배',\n",
              " '12.16배',\n",
              " '12.17배',\n",
              " '4.20배',\n",
              " '31.42배',\n",
              " '3.35배',\n",
              " '6.82배',\n",
              " '10.41배',\n",
              " '5.42배',\n",
              " '5.91배',\n",
              " '8.56배',\n",
              " '7.53배',\n",
              " '7.53배',\n",
              " '13.17배',\n",
              " '9.61배',\n",
              " '4.18배',\n",
              " '6.36배']"
            ]
          },
          "metadata": {},
          "execution_count": 152
        }
      ]
    },
    {
      "cell_type": "code",
      "source": [
        "oo = np.nan\n",
        "oo"
      ],
      "metadata": {
        "colab": {
          "base_uri": "https://localhost:8080/"
        },
        "id": "JG3t5QFfPDP9",
        "outputId": "b357fcec-7aee-42de-9032-ca59d834d4aa"
      },
      "execution_count": null,
      "outputs": [
        {
          "output_type": "execute_result",
          "data": {
            "text/plain": [
              "nan"
            ]
          },
          "metadata": {},
          "execution_count": 146
        }
      ]
    },
    {
      "cell_type": "code",
      "source": [
        "cc"
      ],
      "metadata": {
        "colab": {
          "base_uri": "https://localhost:8080/"
        },
        "id": "gKpNwuXtNvWo",
        "outputId": "31e52b5f-f270-4532-f6b7-d79bb6a90e8d"
      },
      "execution_count": null,
      "outputs": [
        {
          "output_type": "execute_result",
          "data": {
            "text/plain": [
              "['11.09배',\n",
              " '8.56배',\n",
              " '6.37배',\n",
              " '6.37배',\n",
              " '5.42배',\n",
              " '5.91배',\n",
              " '7.97배',\n",
              " '47.68배',\n",
              " '11.25배',\n",
              " '12.16배',\n",
              " '12.17배',\n",
              " '4.20배',\n",
              " '31.42배',\n",
              " '3.35배',\n",
              " '6.82배',\n",
              " '10.41배',\n",
              " '5.42배',\n",
              " '5.91배',\n",
              " '8.56배',\n",
              " '7.53배',\n",
              " '7.53배',\n",
              " '13.17배',\n",
              " '9.61배',\n",
              " '4.18배',\n",
              " '6.36배']"
            ]
          },
          "metadata": {},
          "execution_count": 143
        }
      ]
    },
    {
      "cell_type": "markdown",
      "source": [
        "\n",
        "\n",
        "---\n",
        "\n",
        "네이버 재무제표 크롤링(2)\n",
        "=="
      ],
      "metadata": {
        "id": "ZLAHTFT1aRtL"
      }
    },
    {
      "cell_type": "code",
      "source": [
        "import pandas as pd\n",
        "import requests\n",
        "cc = []\n",
        "\n",
        "for ticker in list:\n",
        "  URL = f\"https://finance.naver.com/item/main.nhn?code={ticker}\"\n",
        "  r = requests.get(URL, headers={'User-agent':'Mozilla/5.0'})\n",
        "  yf = pd.read_html(r.text)[9]\n",
        "  bb = yf.iloc[0][1]\n",
        "  if not bb:\n",
        "    bb = []\n",
        "    cc.append(bb)\n",
        "  else:\n",
        "    cc.append(bb)"
      ],
      "metadata": {
        "id": "ppQ3_05D0kf3"
      },
      "execution_count": null,
      "outputs": []
    },
    {
      "cell_type": "markdown",
      "source": [
        "\n",
        "\n",
        "---\n",
        "\n",
        "PER과 종가 비교\n",
        "=="
      ],
      "metadata": {
        "id": "DWnzwWJPybVI"
      }
    },
    {
      "cell_type": "code",
      "source": [
        "df1 = stock.get_market_ohlcv_by_date('20170101', '20220516', '005930')"
      ],
      "metadata": {
        "id": "-GgPIAqufY70"
      },
      "execution_count": null,
      "outputs": []
    },
    {
      "cell_type": "code",
      "source": [
        "df2 = stock.get_market_fundamental_by_date('20170101', '20220516', '005930')"
      ],
      "metadata": {
        "id": "ZsKe-InyvUR3"
      },
      "execution_count": null,
      "outputs": []
    },
    {
      "cell_type": "code",
      "source": [
        "plt.subplot(211)\n",
        "plt.plot(df1.index, df1['종가'], color='green', label='삼전주가')\n",
        "plt.ylabel('종가')\n",
        "plt.legend()\n",
        "\n",
        "plt.subplot(212)\n",
        "plt.plot(df2.index, df2['PER'], color='brown', label = '삼전PER')\n",
        "plt.ylabel('PER')\n",
        "plt.legend()\n",
        "\n",
        "plt.show()"
      ],
      "metadata": {
        "colab": {
          "base_uri": "https://localhost:8080/",
          "height": 646
        },
        "id": "2hsJcOFLvqmC",
        "outputId": "4eb52986-4461-43db-f133-81869ff72711"
      },
      "execution_count": null,
      "outputs": [
        {
          "output_type": "stream",
          "name": "stderr",
          "text": [
            "findfont: Font family ['Malgun Gothic'] not found. Falling back to DejaVu Sans.\n",
            "/usr/local/lib/python3.7/dist-packages/matplotlib/backends/backend_agg.py:214: RuntimeWarning: Glyph 51333 missing from current font.\n",
            "  font.set_text(s, 0.0, flags=flags)\n",
            "/usr/local/lib/python3.7/dist-packages/matplotlib/backends/backend_agg.py:214: RuntimeWarning: Glyph 44032 missing from current font.\n",
            "  font.set_text(s, 0.0, flags=flags)\n",
            "/usr/local/lib/python3.7/dist-packages/matplotlib/backends/backend_agg.py:214: RuntimeWarning: Glyph 49340 missing from current font.\n",
            "  font.set_text(s, 0.0, flags=flags)\n",
            "/usr/local/lib/python3.7/dist-packages/matplotlib/backends/backend_agg.py:214: RuntimeWarning: Glyph 51204 missing from current font.\n",
            "  font.set_text(s, 0.0, flags=flags)\n",
            "/usr/local/lib/python3.7/dist-packages/matplotlib/backends/backend_agg.py:214: RuntimeWarning: Glyph 51452 missing from current font.\n",
            "  font.set_text(s, 0.0, flags=flags)\n",
            "/usr/local/lib/python3.7/dist-packages/matplotlib/backends/backend_agg.py:183: RuntimeWarning: Glyph 51333 missing from current font.\n",
            "  font.set_text(s, 0, flags=flags)\n",
            "/usr/local/lib/python3.7/dist-packages/matplotlib/backends/backend_agg.py:183: RuntimeWarning: Glyph 44032 missing from current font.\n",
            "  font.set_text(s, 0, flags=flags)\n",
            "/usr/local/lib/python3.7/dist-packages/matplotlib/backends/backend_agg.py:183: RuntimeWarning: Glyph 49340 missing from current font.\n",
            "  font.set_text(s, 0, flags=flags)\n",
            "/usr/local/lib/python3.7/dist-packages/matplotlib/backends/backend_agg.py:183: RuntimeWarning: Glyph 51204 missing from current font.\n",
            "  font.set_text(s, 0, flags=flags)\n",
            "/usr/local/lib/python3.7/dist-packages/matplotlib/backends/backend_agg.py:183: RuntimeWarning: Glyph 51452 missing from current font.\n",
            "  font.set_text(s, 0, flags=flags)\n"
          ]
        },
        {
          "output_type": "display_data",
          "data": {
            "text/plain": [
              "<Figure size 432x288 with 2 Axes>"
            ],
            "image/png": "[encoded data removed]"
          },
          "metadata": {
            "needs_background": "light"
          }
        }
      ]
    },
    {
      "cell_type": "code",
      "source": [
        ""
      ],
      "metadata": {
        "id": "yPHZZxhkwMsS"
      },
      "execution_count": null,
      "outputs": []
    }
  ]
}