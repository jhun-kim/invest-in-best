{
 "cells": [
  {
   "cell_type": "code",
   "execution_count": 1,
   "metadata": {},
   "outputs": [],
   "source": [
    "import pandas as pd"
   ]
  },
  {
   "cell_type": "code",
   "execution_count": 12,
   "metadata": {},
   "outputs": [],
   "source": [
    "df = pd.read_csv('../csv\\stat_108001.xlsx - Sheet0 (1).csv')"
   ]
  },
  {
   "cell_type": "code",
   "execution_count": 13,
   "metadata": {},
   "outputs": [
    {
     "data": {
      "text/html": [
       "<div>\n",
       "<style scoped>\n",
       "    .dataframe tbody tr th:only-of-type {\n",
       "        vertical-align: middle;\n",
       "    }\n",
       "\n",
       "    .dataframe tbody tr th {\n",
       "        vertical-align: top;\n",
       "    }\n",
       "\n",
       "    .dataframe thead th {\n",
       "        text-align: right;\n",
       "    }\n",
       "</style>\n",
       "<table border=\"1\" class=\"dataframe\">\n",
       "  <thead>\n",
       "    <tr style=\"text-align: right;\">\n",
       "      <th></th>\n",
       "      <th>201701월</th>\n",
       "      <th>201702월</th>\n",
       "      <th>201703월</th>\n",
       "      <th>201704월</th>\n",
       "      <th>201705월</th>\n",
       "      <th>201706월</th>\n",
       "      <th>201707월</th>\n",
       "      <th>201708월</th>\n",
       "      <th>201709월</th>\n",
       "      <th>201710월</th>\n",
       "      <th>...</th>\n",
       "      <th>202107월</th>\n",
       "      <th>202108월</th>\n",
       "      <th>202109월</th>\n",
       "      <th>202110월</th>\n",
       "      <th>202111월</th>\n",
       "      <th>202112월</th>\n",
       "      <th>202201월</th>\n",
       "      <th>202202월</th>\n",
       "      <th>202203월</th>\n",
       "      <th>202204월</th>\n",
       "    </tr>\n",
       "  </thead>\n",
       "  <tbody>\n",
       "    <tr>\n",
       "      <th>0</th>\n",
       "      <td>2,067.57</td>\n",
       "      <td>2,091.64</td>\n",
       "      <td>2,160.23</td>\n",
       "      <td>2,205.44</td>\n",
       "      <td>2,347.38</td>\n",
       "      <td>2,391.79</td>\n",
       "      <td>2,402.71</td>\n",
       "      <td>2,363.19</td>\n",
       "      <td>2,394.47</td>\n",
       "      <td>2,523.43</td>\n",
       "      <td>...</td>\n",
       "      <td>3,202.32</td>\n",
       "      <td>3,199.27</td>\n",
       "      <td>3,068.82</td>\n",
       "      <td>2,970.68</td>\n",
       "      <td>2,839.01</td>\n",
       "      <td>2,977.65</td>\n",
       "      <td>2,663.34</td>\n",
       "      <td>2,699.18</td>\n",
       "      <td>2,757.65</td>\n",
       "      <td>2,695.05</td>\n",
       "    </tr>\n",
       "  </tbody>\n",
       "</table>\n",
       "<p>1 rows × 64 columns</p>\n",
       "</div>"
      ],
      "text/plain": [
       "    201701월   201702월   201703월   201704월   201705월   201706월   201707월  \\\n",
       "0  2,067.57  2,091.64  2,160.23  2,205.44  2,347.38  2,391.79  2,402.71   \n",
       "\n",
       "    201708월   201709월   201710월  ...   202107월   202108월   202109월   202110월  \\\n",
       "0  2,363.19  2,394.47  2,523.43  ...  3,202.32  3,199.27  3,068.82  2,970.68   \n",
       "\n",
       "    202111월   202112월   202201월   202202월   202203월   202204월  \n",
       "0  2,839.01  2,977.65  2,663.34  2,699.18  2,757.65  2,695.05  \n",
       "\n",
       "[1 rows x 64 columns]"
      ]
     },
     "execution_count": 13,
     "metadata": {},
     "output_type": "execute_result"
    }
   ],
   "source": [
    "df"
   ]
  },
  {
   "cell_type": "code",
   "execution_count": 14,
   "metadata": {},
   "outputs": [],
   "source": [
    "df = df.transpose()"
   ]
  },
  {
   "cell_type": "code",
   "execution_count": 16,
   "metadata": {},
   "outputs": [
    {
     "name": "stdout",
     "output_type": "stream",
     "text": [
      "<class 'pandas.core.frame.DataFrame'>\n",
      "Index: 64 entries, 201701월 to 202204월\n",
      "Data columns (total 1 columns):\n",
      " #   Column  Non-Null Count  Dtype \n",
      "---  ------  --------------  ----- \n",
      " 0   0       64 non-null     object\n",
      "dtypes: object(1)\n",
      "memory usage: 3.1+ KB\n"
     ]
    }
   ],
   "source": [
    "df.info()"
   ]
  },
  {
   "cell_type": "code",
   "execution_count": 18,
   "metadata": {},
   "outputs": [],
   "source": [
    "df.columns = ['종가']"
   ]
  },
  {
   "cell_type": "code",
   "execution_count": 22,
   "metadata": {},
   "outputs": [],
   "source": [
    "df['종가'] = df['종가'].str.replace(',', '')"
   ]
  },
  {
   "cell_type": "code",
   "execution_count": 23,
   "metadata": {},
   "outputs": [
    {
     "data": {
      "text/plain": [
       "201701월    2067.57\n",
       "201702월    2091.64\n",
       "201703월    2160.23\n",
       "201704월    2205.44\n",
       "201705월    2347.38\n",
       "            ...   \n",
       "202112월    2977.65\n",
       "202201월    2663.34\n",
       "202202월    2699.18\n",
       "202203월    2757.65\n",
       "202204월    2695.05\n",
       "Name: 종가, Length: 64, dtype: float64"
      ]
     },
     "execution_count": 23,
     "metadata": {},
     "output_type": "execute_result"
    }
   ],
   "source": [
    "df['종가'].astype(float)"
   ]
  },
  {
   "cell_type": "code",
   "execution_count": 28,
   "metadata": {},
   "outputs": [],
   "source": [
    "df.reset_index(inplace=True)"
   ]
  },
  {
   "cell_type": "code",
   "execution_count": 30,
   "metadata": {},
   "outputs": [],
   "source": [
    "df['index'] = df['index'].str.replace('월','')"
   ]
  },
  {
   "cell_type": "code",
   "execution_count": 34,
   "metadata": {},
   "outputs": [],
   "source": [
    "df['index'] = df['index'] + '01'"
   ]
  },
  {
   "cell_type": "code",
   "execution_count": 35,
   "metadata": {},
   "outputs": [],
   "source": [
    "df['index'] = pd.to_datetime(df['index'])"
   ]
  },
  {
   "cell_type": "code",
   "execution_count": 39,
   "metadata": {},
   "outputs": [],
   "source": [
    "df['종가'] = df['종가'].astype(float)"
   ]
  },
  {
   "cell_type": "code",
   "execution_count": 41,
   "metadata": {},
   "outputs": [],
   "source": [
    "df['종가변화율'] = df['종가'].pct_change()"
   ]
  },
  {
   "cell_type": "code",
   "execution_count": 48,
   "metadata": {},
   "outputs": [],
   "source": [
    "df = df.fillna(0.02)"
   ]
  },
  {
   "cell_type": "code",
   "execution_count": 54,
   "metadata": {},
   "outputs": [
    {
     "data": {
      "text/plain": [
       "index    0\n",
       "종가       0\n",
       "종가변화율    0\n",
       "dtype: int64"
      ]
     },
     "execution_count": 54,
     "metadata": {},
     "output_type": "execute_result"
    }
   ],
   "source": [
    "df.isnull().sum()"
   ]
  },
  {
   "cell_type": "code",
   "execution_count": 57,
   "metadata": {},
   "outputs": [],
   "source": [
    "ar = df['종가변화율']"
   ]
  },
  {
   "cell_type": "code",
   "execution_count": 59,
   "metadata": {},
   "outputs": [],
   "source": [
    "mul = 1\n",
    "for item in ar :\n",
    "    mul = mul*item\n",
    "GM = mul ** (1/len(ar))\n",
    " "
   ]
  },
  {
   "cell_type": "code",
   "execution_count": 60,
   "metadata": {},
   "outputs": [
    {
     "data": {
      "text/plain": [
       "(0.02538933592846638+0.0012472980919043051j)"
      ]
     },
     "execution_count": 60,
     "metadata": {},
     "output_type": "execute_result"
    }
   ],
   "source": [
    "GM"
   ]
  },
  {
   "cell_type": "code",
   "execution_count": null,
   "metadata": {},
   "outputs": [],
   "source": []
  }
 ],
 "metadata": {
  "interpreter": {
   "hash": "dd242031bdbdd5f69eadc350389ce075bb7742671cb673dc45d8a064b93e6384"
  },
  "kernelspec": {
   "display_name": "Python 3.10.4 64-bit",
   "language": "python",
   "name": "python3"
  },
  "language_info": {
   "codemirror_mode": {
    "name": "ipython",
    "version": 3
   },
   "file_extension": ".py",
   "mimetype": "text/x-python",
   "name": "python",
   "nbconvert_exporter": "python",
   "pygments_lexer": "ipython3",
   "version": "3.10.4"
  },
  "orig_nbformat": 4
 },
 "nbformat": 4,
 "nbformat_minor": 2
}
