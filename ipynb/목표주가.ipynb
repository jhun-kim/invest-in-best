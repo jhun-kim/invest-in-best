{
 "cells": [
  {
   "cell_type": "code",
   "execution_count": 45,
   "metadata": {},
   "outputs": [],
   "source": [
    "import bs4\n",
    "from bs4 import BeautifulSoup\n",
    "import pandas as pd\n",
    "import requests\n",
    "import numpy as np"
   ]
  },
  {
   "cell_type": "code",
   "execution_count": 27,
   "metadata": {},
   "outputs": [],
   "source": [
    "v_b=[\"035420\",\"005380\", \"005930\",\"000660\",\"006400\",\"005380\",\"000270\",\"088980\",\"011790\", \n",
    "\"000100\",\"000990\",\"012750\",\"000080\"] \n",
    "#대형가치    NAVER, 현대차, 삼성전자,SK하이닉스\n",
    "v_m=[\"042700\",  \"001720\",  \"008490\", \"016800\", \"034590\", \"005380\", \"100840\", \"004700\", \"000480\",\n",
    "\"009410\", \"001750\", \"015360\", \"001940\"] \n",
    "#중소형가치    한미반도체, 신영증권, 서흥, 퍼시스\n",
    "g_b=[  \"000660\", \"006400\", \"000270\", \"000100\", \"000990\",\"009160\",\"024090\",\"006200\",\"002710\",\n",
    "\"006880\",\"195870\",\"002460\",\"034120\",\"093370\",\"092220\",\"003780\",\"003720\",\"004080\",\"017390\",\n",
    "\"000080\",\"024900\",\"023450\",\"075580\",\"017960\",\"035420\",\"002840\",\"001720\"] \n",
    "#대형성장     SK하이닉스, 삼성SDI, 기아, SKC, 유한양행, DB하이텍, 한전기술\"052690\", 하이트진로\n",
    "g_m=[ \"093370\",  \"017390\",  \"034120\",   \"002840\",  \"017960\",   \"009160\",   \"001790\",\n",
    "        \"092220\",\"042700\",\"017390\",\"001720\",\"008490\",\"016800\",\"075580\",\"009410\",\"000480\",\"004700\",\n",
    "        \"024090\",\"002460\",\"001940\",\"002710\",\"229640\",\"015360\",\"023450\",\"001750\",\"004080\",\"100840\",\n",
    "        \"006880\",\"034590\",\"003720\",\"003780\",\"024900\",\"006200\",\"155900\"] "
   ]
  },
  {
   "cell_type": "code",
   "execution_count": 48,
   "metadata": {},
   "outputs": [],
   "source": [
    "vb = []\n",
    "vm = []\n",
    "gb = []\n",
    "gm = []"
   ]
  },
  {
   "cell_type": "code",
   "execution_count": 49,
   "metadata": {},
   "outputs": [],
   "source": [
    "try:\n",
    "  for ticker in v_b:\n",
    "    URL = f\"https://finance.naver.com/item/main.nhn?code={ticker}\"\n",
    "    re = requests.get(URL, headers={'User-agent':'Mozilla/5.0'})\n",
    "    yf = pd.read_html(re.text)[7]\n",
    "    yf = yf.iloc[0][1]\n",
    "    vb.append(yf)\n",
    "\n",
    "except IndexError:\n",
    "  vb.append(np.nan)\n",
    "  print(len(vb))\n",
    "  del v_b[:len(vb)]"
   ]
  },
  {
   "cell_type": "code",
   "execution_count": 50,
   "metadata": {},
   "outputs": [
    {
     "data": {
      "text/plain": [
       "['4.00매수  l  425,882',\n",
       " '4.00매수  l  257,000',\n",
       " '4.00매수  l  93,100',\n",
       " '3.95매수  l  153,238',\n",
       " '4.00매수  l  907,778',\n",
       " '4.00매수  l  257,000',\n",
       " '4.00매수  l  114,500',\n",
       " 12700.0,\n",
       " '3.92매수  l  202,667',\n",
       " '4.00매수  l  82,136',\n",
       " '4.00매수  l  107,833',\n",
       " '4.00매수  l  96,333',\n",
       " '3.92매수  l  45,615']"
      ]
     },
     "execution_count": 50,
     "metadata": {},
     "output_type": "execute_result"
    }
   ],
   "source": [
    "vb"
   ]
  },
  {
   "cell_type": "code",
   "execution_count": 51,
   "metadata": {},
   "outputs": [],
   "source": [
    "try:\n",
    "  for ticker in v_m:\n",
    "    URL = f\"https://finance.naver.com/item/main.nhn?code={ticker}\"\n",
    "    re = requests.get(URL, headers={'User-agent':'Mozilla/5.0'})\n",
    "    yf = pd.read_html(re.text)[7]\n",
    "    yf = yf.iloc[0][1]\n",
    "    vm.append(yf)\n",
    "\n",
    "except IndexError:\n",
    "  vm.append(np.nan)\n",
    "  print(len(vm))\n",
    "  del v_b[:len(vm)]"
   ]
  },
  {
   "cell_type": "code",
   "execution_count": 52,
   "metadata": {},
   "outputs": [
    {
     "data": {
      "text/plain": [
       "['4.00매수  l  18,460',\n",
       " 'N/A  l  N/A',\n",
       " '4.00매수  l  56,667',\n",
       " '4.00매수  l  50,000',\n",
       " 'N/A  l  N/A',\n",
       " '4.00매수  l  257,000',\n",
       " 'N/A  l  N/A',\n",
       " 'N/A  l  N/A',\n",
       " 'N/A  l  N/A',\n",
       " 'N/A  l  N/A',\n",
       " 'N/A  l  N/A',\n",
       " 'N/A  l  N/A',\n",
       " '4.00매수  l  23,000']"
      ]
     },
     "execution_count": 52,
     "metadata": {},
     "output_type": "execute_result"
    }
   ],
   "source": [
    "vm"
   ]
  },
  {
   "cell_type": "code",
   "execution_count": 53,
   "metadata": {},
   "outputs": [],
   "source": [
    "try:\n",
    "  for ticker in g_b:\n",
    "    URL = f\"https://finance.naver.com/item/main.nhn?code={ticker}\"\n",
    "    re = requests.get(URL, headers={'User-agent':'Mozilla/5.0'})\n",
    "    yf = pd.read_html(re.text)[7]\n",
    "    yf = yf.iloc[0][1]\n",
    "    gb.append(yf)\n",
    "\n",
    "except IndexError:\n",
    "  gb.append(np.nan)\n",
    "  print(len(gb))\n",
    "  del v_b[:len(gb)]"
   ]
  },
  {
   "cell_type": "code",
   "execution_count": 59,
   "metadata": {},
   "outputs": [
    {
     "data": {
      "text/plain": [
       "['3.95매수  l  153,238',\n",
       " '4.00매수  l  907,778',\n",
       " '4.00매수  l  114,500',\n",
       " '4.00매수  l  82,136',\n",
       " '4.00매수  l  107,833',\n",
       " '4.00매수  l  9,000',\n",
       " 'N/A  l  N/A',\n",
       " 'N/A  l  N/A',\n",
       " '4.00매수  l  20,000',\n",
       " 'N/A  l  N/A',\n",
       " '4.00매수  l  96,125',\n",
       " 'N/A  l  N/A',\n",
       " '4.00매수  l  66,429',\n",
       " '4.50매수  l  35,000',\n",
       " 'N/A  l  N/A',\n",
       " 'N/A  l  N/A',\n",
       " 'N/A  l  N/A',\n",
       " 'N/A  l  N/A',\n",
       " 'N/A  l  N/A',\n",
       " '3.92매수  l  45,615',\n",
       " 'N/A  l  N/A',\n",
       " 'N/A  l  N/A',\n",
       " '4.00매수  l  9,350',\n",
       " '4.25매수  l  16,000',\n",
       " '4.00매수  l  425,882',\n",
       " 'N/A  l  N/A',\n",
       " 'N/A  l  N/A']"
      ]
     },
     "execution_count": 59,
     "metadata": {},
     "output_type": "execute_result"
    }
   ],
   "source": [
    "gb"
   ]
  },
  {
   "cell_type": "code",
   "execution_count": 55,
   "metadata": {},
   "outputs": [],
   "source": [
    "try:\n",
    "  for ticker in g_m:\n",
    "    URL = f\"https://finance.naver.com/item/main.nhn?code={ticker}\"\n",
    "    re = requests.get(URL, headers={'User-agent':'Mozilla/5.0'})\n",
    "    yf = pd.read_html(re.text)[7]\n",
    "    yf = yf.iloc[0][1]\n",
    "    gm.append(yf)\n",
    "\n",
    "except IndexError:\n",
    "  gm.append(np.nan)\n",
    "  print(len(gm))\n",
    "  del v_b[:len(gm)]"
   ]
  },
  {
   "cell_type": "code",
   "execution_count": 56,
   "metadata": {},
   "outputs": [
    {
     "data": {
      "text/plain": [
       "['4.50매수  l  35,000',\n",
       " 'N/A  l  N/A',\n",
       " '4.00매수  l  66,429',\n",
       " 'N/A  l  N/A',\n",
       " '4.25매수  l  16,000',\n",
       " '4.00매수  l  9,000',\n",
       " 'N/A  l  N/A',\n",
       " 'N/A  l  N/A',\n",
       " '4.00매수  l  18,460',\n",
       " 'N/A  l  N/A',\n",
       " 'N/A  l  N/A',\n",
       " '4.00매수  l  56,667',\n",
       " '4.00매수  l  50,000',\n",
       " '4.00매수  l  9,350',\n",
       " 'N/A  l  N/A',\n",
       " 'N/A  l  N/A',\n",
       " 'N/A  l  N/A',\n",
       " 'N/A  l  N/A',\n",
       " 'N/A  l  N/A',\n",
       " '4.00매수  l  23,000',\n",
       " '4.00매수  l  20,000',\n",
       " '4.00매수  l  11,333',\n",
       " 'N/A  l  N/A',\n",
       " 'N/A  l  N/A',\n",
       " 'N/A  l  N/A',\n",
       " 'N/A  l  N/A',\n",
       " 'N/A  l  N/A',\n",
       " 'N/A  l  N/A',\n",
       " 'N/A  l  N/A',\n",
       " 'N/A  l  N/A',\n",
       " 'N/A  l  N/A',\n",
       " 'N/A  l  N/A',\n",
       " 'N/A  l  N/A',\n",
       " 12700.0]"
      ]
     },
     "execution_count": 56,
     "metadata": {},
     "output_type": "execute_result"
    }
   ],
   "source": [
    "gm"
   ]
  },
  {
   "cell_type": "code",
   "execution_count": null,
   "metadata": {},
   "outputs": [],
   "source": []
  }
 ],
 "metadata": {
  "interpreter": {
   "hash": "dd242031bdbdd5f69eadc350389ce075bb7742671cb673dc45d8a064b93e6384"
  },
  "kernelspec": {
   "display_name": "Python 3.10.4 64-bit",
   "language": "python",
   "name": "python3"
  },
  "language_info": {
   "codemirror_mode": {
    "name": "ipython",
    "version": 3
   },
   "file_extension": ".py",
   "mimetype": "text/x-python",
   "name": "python",
   "nbconvert_exporter": "python",
   "pygments_lexer": "ipython3",
   "version": "3.10.4"
  },
  "orig_nbformat": 4
 },
 "nbformat": 4,
 "nbformat_minor": 2
}
