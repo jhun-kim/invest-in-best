{
  "nbformat": 4,
  "nbformat_minor": 0,
  "metadata": {
    "colab": {
      "name": "전체종목_재무제표.ipynb",
      "provenance": [],
      "collapsed_sections": []
    },
    "kernelspec": {
      "name": "python3",
      "display_name": "Python 3"
    },
    "language_info": {
      "name": "python"
    }
  },
  "cells": [
    {
      "cell_type": "code",
      "source": [
        "import pandas as pd\n",
        "import requests\n",
        "import re\n",
        "import time\n",
        "import random\n",
        "import datetime\n",
        "import matplotlib.pyplot as plt\n",
        "import FinanceDataReader as fdr \n",
        "from datetime import timedelta\n",
        "from datetime import datetime\n",
        "import requests \n",
        "from bs4 import BeautifulSoup \n",
        "import urllib.request as r"
      ],
      "metadata": {
        "id": "Kvza5BblwAyA"
      },
      "execution_count": null,
      "outputs": []
    },
    {
      "cell_type": "code",
      "source": [
        "!pip install finance-DataReader"
      ],
      "metadata": {
        "colab": {
          "base_uri": "https://localhost:8080/"
        },
        "id": "DOmiyTKE3P__",
        "outputId": "ec0d5f0b-b502-466b-d46d-f965e7bb24b1"
      },
      "execution_count": null,
      "outputs": [
        {
          "output_type": "stream",
          "name": "stdout",
          "text": [
            "Collecting finance-DataReader\n",
            "  Downloading finance_datareader-0.9.33-py3-none-any.whl (48 kB)\n",
            "\u001b[?25l\r\u001b[K     |██████▊                         | 10 kB 18.2 MB/s eta 0:00:01\r\u001b[K     |█████████████▍                  | 20 kB 11.3 MB/s eta 0:00:01\r\u001b[K     |████████████████████▏           | 30 kB 8.3 MB/s eta 0:00:01\r\u001b[K     |██████████████████████████▉     | 40 kB 4.4 MB/s eta 0:00:01\r\u001b[K     |████████████████████████████████| 48 kB 2.8 MB/s \n",
            "\u001b[?25hRequirement already satisfied: requests>=2.3.0 in /usr/local/lib/python3.7/dist-packages (from finance-DataReader) (2.23.0)\n",
            "Requirement already satisfied: tqdm in /usr/local/lib/python3.7/dist-packages (from finance-DataReader) (4.64.0)\n",
            "Requirement already satisfied: pandas>=0.19.2 in /usr/local/lib/python3.7/dist-packages (from finance-DataReader) (1.3.5)\n",
            "Collecting requests-file\n",
            "  Downloading requests_file-1.5.1-py2.py3-none-any.whl (3.7 kB)\n",
            "Requirement already satisfied: lxml in /usr/local/lib/python3.7/dist-packages (from finance-DataReader) (4.2.6)\n",
            "Requirement already satisfied: numpy>=1.17.3 in /usr/local/lib/python3.7/dist-packages (from pandas>=0.19.2->finance-DataReader) (1.21.6)\n",
            "Requirement already satisfied: python-dateutil>=2.7.3 in /usr/local/lib/python3.7/dist-packages (from pandas>=0.19.2->finance-DataReader) (2.8.2)\n",
            "Requirement already satisfied: pytz>=2017.3 in /usr/local/lib/python3.7/dist-packages (from pandas>=0.19.2->finance-DataReader) (2022.1)\n",
            "Requirement already satisfied: six>=1.5 in /usr/local/lib/python3.7/dist-packages (from python-dateutil>=2.7.3->pandas>=0.19.2->finance-DataReader) (1.15.0)\n",
            "Requirement already satisfied: idna<3,>=2.5 in /usr/local/lib/python3.7/dist-packages (from requests>=2.3.0->finance-DataReader) (2.10)\n",
            "Requirement already satisfied: chardet<4,>=3.0.2 in /usr/local/lib/python3.7/dist-packages (from requests>=2.3.0->finance-DataReader) (3.0.4)\n",
            "Requirement already satisfied: certifi>=2017.4.17 in /usr/local/lib/python3.7/dist-packages (from requests>=2.3.0->finance-DataReader) (2021.10.8)\n",
            "Requirement already satisfied: urllib3!=1.25.0,!=1.25.1,<1.26,>=1.21.1 in /usr/local/lib/python3.7/dist-packages (from requests>=2.3.0->finance-DataReader) (1.24.3)\n",
            "Installing collected packages: requests-file, finance-DataReader\n",
            "Successfully installed finance-DataReader-0.9.33 requests-file-1.5.1\n"
          ]
        }
      ]
    },
    {
      "cell_type": "code",
      "source": [
        " !pip install pykrx "
      ],
      "metadata": {
        "colab": {
          "base_uri": "https://localhost:8080/"
        },
        "id": "BImALvdR1AoS",
        "outputId": "11933515-56e3-456c-e4cf-362017cccabd"
      },
      "execution_count": null,
      "outputs": [
        {
          "output_type": "stream",
          "name": "stdout",
          "text": [
            "Collecting pykrx\n",
            "  Downloading pykrx-1.0.33-py3-none-any.whl (93 kB)\n",
            "\u001b[?25l\r\u001b[K     |███▌                            | 10 kB 19.1 MB/s eta 0:00:01\r\u001b[K     |███████                         | 20 kB 12.7 MB/s eta 0:00:01\r\u001b[K     |██████████▌                     | 30 kB 9.9 MB/s eta 0:00:01\r\u001b[K     |██████████████                  | 40 kB 9.0 MB/s eta 0:00:01\r\u001b[K     |█████████████████▌              | 51 kB 4.4 MB/s eta 0:00:01\r\u001b[K     |█████████████████████           | 61 kB 5.2 MB/s eta 0:00:01\r\u001b[K     |████████████████████████▌       | 71 kB 5.6 MB/s eta 0:00:01\r\u001b[K     |████████████████████████████    | 81 kB 5.9 MB/s eta 0:00:01\r\u001b[K     |███████████████████████████████▋| 92 kB 6.5 MB/s eta 0:00:01\r\u001b[K     |████████████████████████████████| 93 kB 1.3 MB/s \n",
            "\u001b[?25hRequirement already satisfied: xlrd in /usr/local/lib/python3.7/dist-packages (from pykrx) (1.1.0)\n",
            "Requirement already satisfied: requests in /usr/local/lib/python3.7/dist-packages (from pykrx) (2.23.0)\n",
            "Requirement already satisfied: numpy in /usr/local/lib/python3.7/dist-packages (from pykrx) (1.21.6)\n",
            "Collecting datetime\n",
            "  Downloading DateTime-4.4-py2.py3-none-any.whl (51 kB)\n",
            "\u001b[K     |████████████████████████████████| 51 kB 424 kB/s \n",
            "\u001b[?25hRequirement already satisfied: pandas in /usr/local/lib/python3.7/dist-packages (from pykrx) (1.3.5)\n",
            "Collecting deprecated\n",
            "  Downloading Deprecated-1.2.13-py2.py3-none-any.whl (9.6 kB)\n",
            "Requirement already satisfied: pytz in /usr/local/lib/python3.7/dist-packages (from datetime->pykrx) (2022.1)\n",
            "Collecting zope.interface\n",
            "  Downloading zope.interface-5.4.0-cp37-cp37m-manylinux2010_x86_64.whl (251 kB)\n",
            "\u001b[K     |████████████████████████████████| 251 kB 31.0 MB/s \n",
            "\u001b[?25hRequirement already satisfied: wrapt<2,>=1.10 in /usr/local/lib/python3.7/dist-packages (from deprecated->pykrx) (1.14.1)\n",
            "Requirement already satisfied: python-dateutil>=2.7.3 in /usr/local/lib/python3.7/dist-packages (from pandas->pykrx) (2.8.2)\n",
            "Requirement already satisfied: six>=1.5 in /usr/local/lib/python3.7/dist-packages (from python-dateutil>=2.7.3->pandas->pykrx) (1.15.0)\n",
            "Requirement already satisfied: certifi>=2017.4.17 in /usr/local/lib/python3.7/dist-packages (from requests->pykrx) (2021.10.8)\n",
            "Requirement already satisfied: urllib3!=1.25.0,!=1.25.1,<1.26,>=1.21.1 in /usr/local/lib/python3.7/dist-packages (from requests->pykrx) (1.24.3)\n",
            "Requirement already satisfied: idna<3,>=2.5 in /usr/local/lib/python3.7/dist-packages (from requests->pykrx) (2.10)\n",
            "Requirement already satisfied: chardet<4,>=3.0.2 in /usr/local/lib/python3.7/dist-packages (from requests->pykrx) (3.0.4)\n",
            "Requirement already satisfied: setuptools in /usr/local/lib/python3.7/dist-packages (from zope.interface->datetime->pykrx) (57.4.0)\n",
            "Installing collected packages: zope.interface, deprecated, datetime, pykrx\n",
            "Successfully installed datetime-4.4 deprecated-1.2.13 pykrx-1.0.33 zope.interface-5.4.0\n"
          ]
        }
      ]
    },
    {
      "cell_type": "code",
      "source": [
        "from pykrx import stock"
      ],
      "metadata": {
        "colab": {
          "base_uri": "https://localhost:8080/"
        },
        "id": "Az1noJLv1FNp",
        "outputId": "36339d2c-765e-4800-e9bf-13c2e378f08f"
      },
      "execution_count": null,
      "outputs": [
        {
          "output_type": "stream",
          "name": "stdout",
          "text": [
            "No Korean fonts found. Please install the font shown belowbecause Hangul can be broken on the chart.\n",
            " - NanumBarunGothic font is required.\n",
            "\n",
            "    1) font install\n",
            "\n",
            "    !sudo apt-get install -y fonts-nanum\n",
            "    !sudo fc-cache -fv\n",
            "    !rm ~/.cache/matplotlib -rf\n",
            "\n",
            "    2) runtime restart if colab\n",
            "    \n",
            "PYKRX works fine regardless of font installation.\n"
          ]
        }
      ]
    },
    {
      "cell_type": "code",
      "source": [
        "# 오늘날 코스피에 상장되어 있는 주식의 이름과 티커 수집 \n",
        "today = datetime.today().strftime(\"%Y%m%d\") \n",
        "ticker_list = stock.get_market_ticker_list(date = today, market=\"KOSPI\") \n",
        "symbol_list = [] \n",
        "for ticker in ticker_list: \n",
        "  symbol = stock.get_market_ticker_name(ticker) \n",
        "  symbol_list.append(symbol) "
      ],
      "metadata": {
        "id": "PHhwLtfj1KvL"
      },
      "execution_count": null,
      "outputs": []
    },
    {
      "cell_type": "code",
      "source": [
        "df_우 = [s for s in symbol_list if s.endswith('우') | s.endswith('우B') | s.endswith('우(전환)')]"
      ],
      "metadata": {
        "id": "vIIwPIaF1Ukp"
      },
      "execution_count": null,
      "outputs": []
    },
    {
      "cell_type": "code",
      "source": [
        "res = [i for i in symbol_list if i not in df_우]\n",
        "print(res)"
      ],
      "metadata": {
        "colab": {
          "base_uri": "https://localhost:8080/"
        },
        "id": "86gTnvxi1YrH",
        "outputId": "9edc5575-add2-4725-b89d-e85e5f981f4a"
      },
      "execution_count": null,
      "outputs": [
        {
          "output_type": "stream",
          "name": "stdout",
          "text": [
            "['AJ네트웍스', 'AK홀딩스', 'BGF', 'BGF리테일', 'BNK금융지주', 'BYC', 'CJ', 'CJ CGV', 'CJ대한통운', 'CJ씨푸드', 'CJ제일제당', 'CS홀딩스', 'DB', 'DB금융투자', 'DB손해보험', 'DB하이텍', 'DGB금융지주', 'DI동일', 'DL', 'DL건설', 'DL이앤씨', 'DRB동일', 'DSR', 'DSR제강', 'E1', 'ESR켄달스퀘어리츠', 'F&F', 'F&F홀딩스', 'GKL', 'GS', 'GS건설', 'GS글로벌', 'GS리테일', 'HDC', 'HDC랩스', 'HDC현대EP', 'HDC현대산업개발', 'HD현대', 'HJ중공업', 'HLB글로벌', 'HMM', 'HSD엔진', 'IHQ', 'JB금융지주', 'JW생명과학', 'JW중외제약', 'JW홀딩스', 'KB금융', 'KCC', 'KCC글라스', 'KCTC', 'KC그린홀딩스', 'KC코트렐', 'KEC', 'KG스틸', 'KG케미칼', 'KH 필룩스', 'KISCO홀딩스', 'KPX케미칼', 'KPX홀딩스', 'KR모터스', 'KSS해운', 'KT', 'KT&G', 'KTcs', 'KTis', 'LF', 'LG', 'LG디스플레이', 'LG생활건강', 'LG에너지솔루션', 'LG유플러스', 'LG이노텍', 'LG전자', 'LG헬로비전', 'LG화학', 'LIG넥스원', 'LS', 'LS ELECTRIC', 'LS네트웍스', 'LS전선아시아', 'LX인터내셔널', 'LX하우시스', 'LX홀딩스', 'MH에탄올', 'NAVER', 'NHN', 'NH올원리츠', 'NH투자증권', 'NH프라임리츠', 'NICE', 'NI스틸', 'NPC', 'OCI', 'PI첨단소재', 'POSCO홀딩스', 'S-Oil', 'SBS', 'SGC에너지', 'SG글로벌', 'SG세계물산', 'SHD', 'SH에너지화학', 'SIMPAC', 'SJM', 'SJM홀딩스', 'SK', 'SKC', 'SK가스', 'SK네트웍스', 'SK디스커버리', 'SK디앤디', 'SK렌터카', 'SK리츠', 'SK바이오사이언스', 'SK바이오팜', 'SK스퀘어', 'SK아이이테크놀로지', 'SK이노베이션', 'SK증권', 'SK케미칼', 'SK텔레콤', 'SK하이닉스', 'SNT모티브', 'SNT에너지', 'SNT중공업', 'SNT홀딩스', 'SPC삼립', 'STX', 'STX엔진', 'STX중공업', 'SUN&L', 'TBH글로벌', 'TCC스틸', 'TKG휴켐스', 'TYM', 'WISCOM', 'YG PLUS', '가온전선', '강남제비스코', '강원랜드', '갤럭시아에스엠', '경농', '경동나비엔', '경동도시가스', '경동인베스트', '경방', '경보제약', '경인양행', '경인전자', '계룡건설', '계양전기', '고려산업', '고려아연', '고려제강', '광동제약', '광명전기', '광전자', '광주신세계', '교보증권', '교촌에프앤비', '국도화학', '국동', '국보', '국제약품', '그린케미칼', '극동유화', '금강공업', '금비', '금양', '금호건설', '금호석유', '금호에이치티', '금호전기', '금호타이어', '기신정기', '기아', '기업은행', '까뮤이앤씨', '깨끗한나라', '남광토건', '남선알미늄', '남성', '남양유업', '남해화학', '넥센', '넥센타이어', '넷마블', '노루페인트', '노루홀딩스', '녹십자', '녹십자홀딩스', '농심', '농심홀딩스', '다스코', '다올투자증권', '다우기술', '다이나믹디자인', '대교', '대구백화점', '대덕', '대덕전자', '대동', '대동전자', '대림B&Co', '대림통상', '대상', '대상홀딩스', '대성산업', '대성에너지', '대성홀딩스', '대신증권', '대양금속', '대영포장', '대우건설', '대우부품', '대우조선해양', '대웅', '대웅제약', '대원강업', '대원전선', '대원제약', '대원화성', '대유에이텍', '대유플러스', '대창', '대창단조', '대한방직', '대한유화', '대한전선', '대한제강', '대한제당', '대한제분', '대한항공', '대한해운', '대한화섬', '대현', '대호에이엘', '더블유게임즈', '더존비즈온', '덕성', '덕양산업', '덴티움', '도화엔지니어링', '동국제강', '동남합성', '동방', '동방아그로', '동부건설', '동서', '동성제약', '동성케미컬', '동아쏘시오홀딩스', '동아에스티', '동아지질', '동아타이어', '동양', '동양고속', '동양생명', '동양철관', '동양피스톤', '동원F&B', '동원금속', '동원산업', '동원수산', '동원시스템즈', '동일고무벨트', '동일산업', '동일제강', '동화약품', '두산', '두산밥캣', '두산에너빌리티', '두산퓨얼셀', '두올', '드림텍', '디씨엠', '디아이', '디아이씨', '디앤디플랫폼리츠', '디와이', '디와이파워', '디티알오토모티브', '락앤락', '롯데관광개발', '롯데렌탈', '롯데리츠', '롯데손해보험', '롯데쇼핑', '롯데정밀화학', '롯데정보통신', '롯데제과', '롯데지주', '롯데칠성', '롯데케미칼', '롯데푸드', '롯데하이마트', '마니커', '만도', '만호제강', '맥쿼리인프라', '맵스리얼티1', '메리츠금융지주', '메리츠증권', '메리츠화재', '메타랩스', '명문제약', '명신산업', '모나리자', '모나미', '모두투어리츠', '모토닉', '무림P&P', '무림페이퍼', '무학', '문배철강', '미래산업', '미래아이앤지', '미래에셋글로벌리츠', '미래에셋맵스리츠', '미래에셋생명', '미래에셋증권', '미원상사', '미원에스씨', '미원홀딩스', '미원화학', '미창석유', '바다로19호', '방림', '백광산업', '백산', '범양건영', '베트남개발1', '벽산', '보락', '보령', '보해양조', '부광약품', '부국증권', '부국철강', '부산산업', '부산주공', '비비안', '비상교육', '비케이탑스', '빙그레', '사조대림', '사조동아원', '사조산업', '사조씨푸드', '사조오양', '삼부토건', '삼성SDI', '삼성공조', '삼성물산', '삼성바이오로직스', '삼성생명', '삼성에스디에스', '삼성엔지니어링', '삼성전기', '삼성전자', '삼성제약', '삼성중공업', '삼성증권', '삼성출판사', '삼성카드', '삼성화재', '삼아알미늄', '삼양사', '삼양식품', '삼양통상', '삼양패키징', '삼양홀딩스', '삼영무역', '삼영전자', '삼영화학', '삼원강재', '삼익THK', '삼익악기', '삼일씨엔에스', '삼일제약', '삼정펄프', '삼진제약', '삼천리', '삼호개발', '삼화왕관', '삼화전기', '삼화전자', '삼화콘덴서', '삼화페인트', '상상인증권', '상신브레이크', '새론오토모티브', '샘표', '샘표식품', '서연', '서연이화', '서울가스', '서울식품', '서원', '서흥', '선도전기', '선진', '성문전자', '성보화학', '성신양회', '성안', '성창기업지주', '세기상사', '세방', '세방전지', '세아베스틸지주', '세아제강', '세아제강지주', '세아특수강', '세아홀딩스', '세우글로벌', '세원이앤씨', '세원정공', '세이브존I&C', '세종공업', '세진중공업', '세하', '센트랄모텍', '센트럴인사이트', '셀트리온', '솔루스첨단소재', '솔루엠', '송원산업', '수산중공업', '스카이라이프', '스틱인베스트먼트', '시디즈', '신대양제지', '신도리코', '신라교역', '신성이엔지', '신성통상', '신세계', '신세계 I&C', '신세계건설', '신세계인터내셔날', '신세계푸드', '신송홀딩스', '신영와코루', '신영증권', '신원', '신일전자', '신풍제약', '신풍제지', '신한서부티엔디리츠', '신한알파리츠', '신한지주', '신흥', '쌍방울', '쌍용C&E', '쌍용차', '써니전자', '쎌마테라퓨틱스', '씨아이테크', '씨에스윈드', '아남전자', '아모레G', '아모레퍼시픽', '아세아', '아세아시멘트', '아세아제지', '아센디오', '아시아나IDT', '아시아나항공', '아이마켓코리아', '아이에스동서', '아주스틸', '알루코', '애경산업', '애경케미칼', '에넥스', '에스디바이오센서', '에스엘', '에스엠벡셀', '에스원', '에쓰씨엔지니어링', '에어부산', '에이리츠', '에이블씨엔씨', '에이엔피', '에이프로젠 MED', '에이프로젠제약', '에이플러스에셋', '엔씨소프트', '엔에이치스팩19호', '엔케이', '엘브이엠씨홀딩스', '엠씨넥스', '영보화학', '영원무역', '영원무역홀딩스', '영진약품', '영풍', '영풍제지', '영화금속', '영흥', '예스코홀딩스', '오뚜기', '오리엔트바이오', '오리온', '오리온홀딩스', '와이투솔루션', '용평리조트', '우리금융지주', '우리종금', '우성', '우신시스템', '우진', '우진아이엔에스', '우진플라임', '웅진', '웅진씽크빅', '원림', '웰바이오텍', '윌비스', '유나이티드제약', '유니드', '유니온', '유니온머티리얼', '유니켐', '유니퀘스트', '유성기업', '유수홀딩스', '유안타증권', '유엔젤', '유유제약', '유진투자증권', '유한양행', '유화증권', '율촌화학', '이건산업', '이구산업', '이노션', '이리츠코크렙', '이마트', '이수페타시스', '이수화학', '이스타코', '이아이디', '이엔플러스', '이연제약', '이월드', '이지스레지던스리츠', '이지스밸류리츠', '이화산업', '인디에프', '인바이오젠', '인스코비', '인지컨트롤스', '인천도시가스', '인터지스', '인팩', '일동제약', '일동홀딩스', '일성건설', '일성신약', '일신방직', '일신석재', '일양약품', '일정실업', '일진다이아', '일진디스플', '일진머티리얼즈', '일진전기', '일진하이솔루스', '일진홀딩스', '잇츠한불', '자이에스앤디', '자화전자', '전방', '제이알글로벌리츠', '제이에스코퍼레이션', '제이준코스메틱', '제일기획', '제일약품', '제일연마', '제일파마홀딩스', '제주은행', '제주항공', '조광페인트', '조광피혁', '조비', '조선내화', '조선선재', '조일알미늄', '조흥', '종근당', '종근당바이오', '종근당홀딩스', '주연테크', '지누스', '지엠비코리아', '지역난방공사', '지투알', '진도', '진양산업', '진양폴리', '진양홀딩스', '진양화학', '진에어', '진원생명과학', '진흥기업', '참엔지니어링', '천일고속', '체시스', '초록뱀헬스케어', '카카오', '카카오뱅크', '카카오페이', '카프로', '컨버즈', '케이비아이동국실업', '케이씨', '케이씨텍', '케이카', '케이탑리츠', '코람코더원리츠', '코람코에너지리츠', '코리아써키트', '코리안리', '코스맥스', '코스맥스비티아이', '코스모신소재', '코스모화학', '코아스', '코오롱', '코오롱글로벌', '코오롱인더', '코오롱플라스틱', '코웨이', '콘텐트리중앙', '콤텍시스템', '쿠쿠홀딩스', '쿠쿠홈시스', '큐로', '크라운제과', '크라운해태홀딩스', '크래프톤', '키다리스튜디오', '키움증권', '태경비케이', '태경산업', '태경케미컬', '태광산업', '태림포장', '태양금속', '태영건설', '태원물산', '태평양물산', '테이팩스', '텔코웨어', '토니모리', '티에이치엔', '티와이홀딩스', '티웨이항공', '티웨이홀딩스', '파미셀', '팜스코', '팜젠사이언스', '팬오션', '퍼스텍', '퍼시스', '페이퍼코리아', '평화산업', '평화홀딩스', '포스코스틸리온', '포스코인터내셔널', '포스코케미칼', '풀무원', '풍산', '풍산홀딩스', '프레스티지바이오파마', '플레이그램', '하나금융지주', '하나제약', '하나투어', '하이브', '하이스틸', '하이트론', '하이트진로', '하이트진로홀딩스', '한국ANKOR유전', '한국가스공사', '한국공항', '한국금융지주', '한국내화', '한국단자', '한국석유', '한국수출포장', '한국쉘석유', '한국앤컴퍼니', '한국자산신탁', '한국전력', '한국전자홀딩스', '한국조선해양', '한국종합기술', '한국주강', '한국주철관', '한국철강', '한국카본', '한국콜마', '한국콜마홀딩스', '한국타이어앤테크놀로지', '한국토지신탁', '한국특강', '한국패러랠', '한국프랜지', '한국항공우주', '한국화장품', '한국화장품제조', '한농화성', '한독', '한라', '한라홀딩스', '한미글로벌', '한미반도체', '한미사이언스', '한미약품', '한샘', '한섬', '한성기업', '한세실업', '한세엠케이', '한세예스24홀딩스', '한솔PNS', '한솔로지스틱스', '한솔제지', '한솔케미칼', '한솔테크닉스', '한솔홀딩스', '한솔홈데코', '한신공영', '한신기계', '한양증권', '한온시스템', '한올바이오파마', '한익스프레스', '한일시멘트', '한일철강', '한일현대시멘트', '한일홀딩스', '한전KPS', '한전기술', '한전산업', '한진', '한진중공업홀딩스', '한진칼', '한창', '한창제지', '한컴라이프케어', '한화', '한화생명', '한화손해보험', '한화솔루션', '한화시스템', '한화에어로스페이스', '한화투자증권', '해성디에스', '해태제과식품', '핸즈코퍼레이션', '현대건설', '현대건설기계', '현대그린푸드', '현대글로비스', '현대두산인프라코어', '현대로템', '현대리바트', '현대모비스', '현대미포조선', '현대백화점', '현대비앤지스틸', '현대약품', '현대에너지솔루션', '현대엘리베이', '현대오토에버', '현대위아', '현대일렉트릭', '현대제철', '현대중공업', '현대차', '현대차증권', '현대코퍼레이션', '현대코퍼레이션홀딩스', '현대퓨처넷', '현대해상', '현대홈쇼핑', '형지엘리트', '혜인', '호전실업', '호텔신라', '화성산업', '화승알앤에이', '화승엔터프라이즈', '화승인더', '화승코퍼레이션', '화신', '화인베스틸', '화천기계', '화천기공', '환인제약', '황금에스티', '효성', '효성ITX', '효성중공업', '효성첨단소재', '효성티앤씨', '효성화학', '후성', '휠라홀딩스', '휴니드', '휴비스', '휴스틸', '흥국화재', '흥아해운']\n"
          ]
        }
      ]
    },
    {
      "cell_type": "code",
      "source": [
        "len(res)"
      ],
      "metadata": {
        "colab": {
          "base_uri": "https://localhost:8080/",
          "height": 172
        },
        "id": "tU5QHpZR7TQ8",
        "outputId": "b0d0cf88-94fd-4a96-dc02-9af7b72c93fa"
      },
      "execution_count": null,
      "outputs": [
        {
          "output_type": "error",
          "ename": "NameError",
          "evalue": "ignored",
          "traceback": [
            "\u001b[0;31m---------------------------------------------------------------------------\u001b[0m",
            "\u001b[0;31mNameError\u001b[0m                                 Traceback (most recent call last)",
            "\u001b[0;32m<ipython-input-1-8a076ee39a0a>\u001b[0m in \u001b[0;36m<module>\u001b[0;34m()\u001b[0m\n\u001b[0;32m----> 1\u001b[0;31m \u001b[0mlen\u001b[0m\u001b[0;34m(\u001b[0m\u001b[0mres\u001b[0m\u001b[0;34m)\u001b[0m\u001b[0;34m\u001b[0m\u001b[0;34m\u001b[0m\u001b[0m\n\u001b[0m",
            "\u001b[0;31mNameError\u001b[0m: name 'res' is not defined"
          ]
        }
      ]
    },
    {
      "cell_type": "code",
      "source": [
        "class Company:\n",
        "    def __init__(self, Name, Code):\n",
        "        self.Name = Name\n",
        "        self.Code = Code\n",
        "        self.LoadStockSummary(Code)\n",
        "\n",
        "    def LoadStockSummary(self, ticker):\n",
        "        url = \"http://comp.fnguide.com/SVO2/ASP/SVD_Main.asp?pGB=1&gicode=A\" + ticker + \"&cID=&MenuYn=Y&ReportGB=&NewMenuID=Y&stkGb=701\"\n",
        "        response = r.urlopen(url)\n",
        "        soup = BeautifulSoup(response, 'html.parser')\n",
        "\n",
        "        # get PER PBR ROE\n",
        "        tmp = soup.find('div', {'class': 'corp_group2'})\n",
        "        tmp2 = tmp.findAll('dd')\n",
        "        self.PER = tmp2[1].contents\n",
        "        self.PER12M = tmp2[3].contents\n",
        "        self.PERIndustry = tmp2[5].contents\n",
        "        self.PBR = tmp2[7].contents\n",
        "        self.DividendRatio = tmp2[9].contents\n",
        "\n",
        "        # get Summary\n",
        "        for anchor in soup.select(\".um_bssummary\"):\n",
        "            pass\n",
        "        self.Summary = anchor.get_text()\n",
        "\n",
        "    def print_info(self):\n",
        "        print(\"Name: \", self.Name)\n",
        "        print(\"Code: \", self.Code)\n",
        "        print(\"Summary: \", self.Summary)\n",
        "        print(\"PER: \", self.PER)\n",
        "        print(\"PER12M: \", self.PER12M)\n",
        "        print(\"PERIndustry: \", self.PERIndustry)\n",
        "        print(\"PBR: \", self.PBR)\n",
        "        print(\"DividendRatio: \", self.DividendRatio)\n",
        "\n",
        "\n",
        "def run():\n",
        "\n",
        "    Name = \"삼성전자\"\n",
        "    Code = \"005930\"\n",
        "    company = Company(Name, Code)\n",
        "    company.print_info()\n",
        "\n",
        "\n",
        "if __name__ == \"__main__\":\n",
        "    run()"
      ],
      "metadata": {
        "colab": {
          "base_uri": "https://localhost:8080/"
        },
        "id": "ES6gUG7W7eJP",
        "outputId": "208b12fe-584b-4d75-f926-ea54754c8a78"
      },
      "execution_count": null,
      "outputs": [
        {
          "output_type": "stream",
          "name": "stdout",
          "text": [
            "Name:  삼성전자\n",
            "Code:  005930\n",
            "Summary:  \n",
            "고부가제품 비중확대로 최대 실적 경신\n",
            "\n",
            "한국 및 CE, IM부문 해외 9개 지역총괄과 DS부문 해외 5개 지역총괄, Harman 등 234개의 종속기업으로 구성된 글로벌 전자기업임. 세트사업에는 TV, 냉장고 등을 생산하는 CE부문과 스마트폰, 네트워크시스템, 컴퓨터 등을 생산하는 IM부문이 있음. 부품사업(DS부문)에서는 D램, 낸드 플래쉬, 모바일AP 등의 제품을 생산하는 반도체 사업과 TFT-LCD 및 OLED 디스플레이 패널을 생산하는 DP사업으로 구성됨.2021년 Neo QLED TV, 비스포크 등 프리미엄 제품과 플래그십 휴대폰, 고용량 메모리와 OLED 패널 등의 판매확대로 사상최대 실적을 경신함. IM부문은 코로나19의 장기화, 부품공급 부족사태 등에도 불구하고 프리미엄 제품 비중 확대와 운영효율 제고를 통해 매출과 영업이익 모두 성장하는견조한 실적. 반도체사업은 서버 및 모바일용 고용량 제품 등 부품수요 증가로 매출액은 전년 대비 29.2%, 영업이익은 55.3% 늘어남.\n",
            "\n",
            "\n",
            "PER:  ['11.70']\n",
            "PER12M:  ['9.39']\n",
            "PERIndustry:  ['12.77']\n",
            "PBR:  ['1.55']\n",
            "DividendRatio:  ['2.14%']\n"
          ]
        }
      ]
    }
  ]
}