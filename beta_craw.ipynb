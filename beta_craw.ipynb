{
 "cells": [
  {
   "cell_type": "code",
   "execution_count": 1,
   "metadata": {},
   "outputs": [],
   "source": [
    "import numpy as np \n",
    "import requests\n",
    "from bs4 import BeautifulSoup\n",
    "import time\n",
    "import pandas as pd\n",
    "\n",
    "import FinanceDataReader as fdr\n",
    "\n",
    "import warnings\n",
    "warnings.filterwarnings(\"ignore\")"
   ]
  },
  {
   "cell_type": "code",
   "execution_count": 2,
   "metadata": {},
   "outputs": [],
   "source": [
    "index_df = pd.read_csv('./datasets/index_data.csv', encoding='cp949')\n",
    "index_df = pd.DataFrame(index_df)"
   ]
  },
  {
   "cell_type": "code",
   "execution_count": 8,
   "metadata": {},
   "outputs": [
    {
     "data": {
      "text/plain": [
       "Index(['회사명', '거래소코드', '회계년도', '거래소코드.1', '거래년도(*)', '거래월(*)', '최고가(원)',\n",
       "       '최저가(원)', '종가(원)', '보통주(천원)', 'PER(Price earnings ratio)(최고)',\n",
       "       'PER(Price earnings ratio)(최저)', 'PBR(Price book-value ratio)(최고)',\n",
       "       'PBR(Price book-value ratio)(최저)', '자기자본순이익률'],\n",
       "      dtype='object')"
      ]
     },
     "execution_count": 8,
     "metadata": {},
     "output_type": "execute_result"
    }
   ],
   "source": [
    "index_df.columns"
   ]
  },
  {
   "cell_type": "code",
   "execution_count": 3,
   "metadata": {},
   "outputs": [],
   "source": [
    "# 거래소코드 6자리로 만들어주기\n",
    "aa = index_df['거래소코드'].unique()\n",
    "bb = []\n",
    "for i in range(len(aa)):\n",
    "    bb.append(format(aa[i], '06'))"
   ]
  },
  {
   "cell_type": "code",
   "execution_count": 5,
   "metadata": {},
   "outputs": [],
   "source": [
    "basic_info = []\n",
    "beta = []\n",
    "rqs_no = np.array(index_df['거래소코드'].unique())\n",
    "rqs_no = [str(x) for x in rqs_no]"
   ]
  },
  {
   "cell_type": "code",
   "execution_count": 126,
   "metadata": {},
   "outputs": [],
   "source": [
    "# 네이버금융에서 코스피 상장주들에 대한 52주베타값 가져오기\n",
    "basic_info = []\n",
    "beta = []\n",
    "rqs_no = np.array(index_df['거래소코드'].unique())\n",
    "rqs_no = [str(x) for x in rqs_no]\n",
    "\n",
    "for i,number in enumerate(bb):\n",
    "    url = \"https://navercomp.wisereport.co.kr/v2/company/c1010001.aspx?cmp_cd=\" + number\n",
    "    res = requests.get(url)\n",
    "    soup = BeautifulSoup(res.content,'html.parser')\n",
    "    section = soup.find('tbody')\n",
    "    items = section.find_all('tr')\n",
    "    basic_info.append(items[5].get_text())\n",
    "    dvdv= basic_info[i].split('\\t')\n",
    "    dff = dvdv[15].split('\\r')\n",
    "    beta.append(dff[0])"
   ]
  },
  {
   "cell_type": "code",
   "execution_count": 130,
   "metadata": {},
   "outputs": [
    {
     "data": {
      "text/html": [
       "<div>\n",
       "<style scoped>\n",
       "    .dataframe tbody tr th:only-of-type {\n",
       "        vertical-align: middle;\n",
       "    }\n",
       "\n",
       "    .dataframe tbody tr th {\n",
       "        vertical-align: top;\n",
       "    }\n",
       "\n",
       "    .dataframe thead th {\n",
       "        text-align: right;\n",
       "    }\n",
       "</style>\n",
       "<table border=\"1\" class=\"dataframe\">\n",
       "  <thead>\n",
       "    <tr style=\"text-align: right;\">\n",
       "      <th></th>\n",
       "      <th>52주베타</th>\n",
       "      <th>거래소코드</th>\n",
       "    </tr>\n",
       "  </thead>\n",
       "  <tbody>\n",
       "    <tr>\n",
       "      <th>0</th>\n",
       "      <td>0.76</td>\n",
       "      <td>138930</td>\n",
       "    </tr>\n",
       "    <tr>\n",
       "      <th>1</th>\n",
       "      <td>1.37</td>\n",
       "      <td>990</td>\n",
       "    </tr>\n",
       "    <tr>\n",
       "      <th>2</th>\n",
       "      <td>1.48</td>\n",
       "      <td>97230</td>\n",
       "    </tr>\n",
       "    <tr>\n",
       "      <th>3</th>\n",
       "      <td>0.63</td>\n",
       "      <td>175330</td>\n",
       "    </tr>\n",
       "    <tr>\n",
       "      <th>4</th>\n",
       "      <td>0.76</td>\n",
       "      <td>105560</td>\n",
       "    </tr>\n",
       "    <tr>\n",
       "      <th>...</th>\n",
       "      <td>...</td>\n",
       "      <td>...</td>\n",
       "    </tr>\n",
       "    <tr>\n",
       "      <th>790</th>\n",
       "      <td>1.87</td>\n",
       "      <td>298050</td>\n",
       "    </tr>\n",
       "    <tr>\n",
       "      <th>791</th>\n",
       "      <td>1.54</td>\n",
       "      <td>298020</td>\n",
       "    </tr>\n",
       "    <tr>\n",
       "      <th>792</th>\n",
       "      <td>2.48</td>\n",
       "      <td>298000</td>\n",
       "    </tr>\n",
       "    <tr>\n",
       "      <th>793</th>\n",
       "      <td>1.17</td>\n",
       "      <td>540</td>\n",
       "    </tr>\n",
       "    <tr>\n",
       "      <th>794</th>\n",
       "      <td>3.21</td>\n",
       "      <td>3280</td>\n",
       "    </tr>\n",
       "  </tbody>\n",
       "</table>\n",
       "<p>795 rows × 2 columns</p>\n",
       "</div>"
      ],
      "text/plain": [
       "    52주베타   거래소코드\n",
       "0    0.76  138930\n",
       "1    1.37     990\n",
       "2    1.48   97230\n",
       "3    0.63  175330\n",
       "4    0.76  105560\n",
       "..    ...     ...\n",
       "790  1.87  298050\n",
       "791  1.54  298020\n",
       "792  2.48  298000\n",
       "793  1.17     540\n",
       "794  3.21    3280\n",
       "\n",
       "[795 rows x 2 columns]"
      ]
     },
     "execution_count": 130,
     "metadata": {},
     "output_type": "execute_result"
    }
   ],
   "source": [
    "beta = pd.DataFrame(beta, columns=['52주베타'])\n",
    "beta['거래소코드'] = index_df['거래소코드'].unique()\n",
    "beta"
   ]
  },
  {
   "cell_type": "code",
   "execution_count": 131,
   "metadata": {},
   "outputs": [],
   "source": [
    "beta.to_csv('./datasets/52beta.csv')"
   ]
  },
  {
   "cell_type": "code",
   "execution_count": null,
   "metadata": {},
   "outputs": [],
   "source": []
  }
 ],
 "metadata": {
  "interpreter": {
   "hash": "ab917170ccb79bb0c77c52620b4afe4eb9df38d2341eb95f515e5270f60d3147"
  },
  "kernelspec": {
   "display_name": "Python 3.10.2 64-bit",
   "language": "python",
   "name": "python3"
  },
  "language_info": {
   "codemirror_mode": {
    "name": "ipython",
    "version": 3
   },
   "file_extension": ".py",
   "mimetype": "text/x-python",
   "name": "python",
   "nbconvert_exporter": "python",
   "pygments_lexer": "ipython3",
   "version": "3.10.2"
  },
  "orig_nbformat": 4
 },
 "nbformat": 4,
 "nbformat_minor": 2
}
