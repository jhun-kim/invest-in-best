{
 "cells": [
  {
   "cell_type": "code",
   "execution_count": 2,
   "metadata": {},
   "outputs": [],
   "source": [
    "import pandas as pd\n",
    "import matplotlib.pyplot as plt\n",
    "import numpy as np\n",
    "import seaborn as sns\n",
    "import scipy as sp\n",
    "# 한글폰트 출력 가능 코드\n",
    "from matplotlib import font_manager, rc\n",
    "font_path = \"C:/Windows/Fonts/NGULIM.TTF\"\n",
    "font = font_manager.FontProperties(fname=font_path).get_name()\n",
    "rc('font', family=font)\n",
    "\n",
    "import FinanceDataReader as fdr"
   ]
  },
  {
   "cell_type": "code",
   "execution_count": 3,
   "metadata": {},
   "outputs": [
    {
     "data": {
      "text/html": [
       "<div>\n",
       "<style scoped>\n",
       "    .dataframe tbody tr th:only-of-type {\n",
       "        vertical-align: middle;\n",
       "    }\n",
       "\n",
       "    .dataframe tbody tr th {\n",
       "        vertical-align: top;\n",
       "    }\n",
       "\n",
       "    .dataframe thead th {\n",
       "        text-align: right;\n",
       "    }\n",
       "</style>\n",
       "<table border=\"1\" class=\"dataframe\">\n",
       "  <thead>\n",
       "    <tr style=\"text-align: right;\">\n",
       "      <th></th>\n",
       "      <th>Unnamed: 0.1</th>\n",
       "      <th>Unnamed: 0</th>\n",
       "      <th>Date</th>\n",
       "      <th>대형가치주CAPM</th>\n",
       "      <th>대형성장주CAPM</th>\n",
       "      <th>중소형가치주CAPM</th>\n",
       "      <th>중소형성장주CAPM</th>\n",
       "      <th>대형가치주포트폴리오분산</th>\n",
       "      <th>대형성장주포트폴리오분산</th>\n",
       "      <th>중소형가치주포트폴리오분산</th>\n",
       "      <th>...</th>\n",
       "      <th>대형성장주최소분산</th>\n",
       "      <th>중소형가치주최소분산</th>\n",
       "      <th>중소형성장주최소분산</th>\n",
       "      <th>월</th>\n",
       "      <th>년</th>\n",
       "      <th>샤프수익률 라벨링</th>\n",
       "      <th>최대수익률 라벨링</th>\n",
       "      <th>최소분산 라벨링</th>\n",
       "      <th>코스피</th>\n",
       "      <th>코스피분산</th>\n",
       "    </tr>\n",
       "  </thead>\n",
       "  <tbody>\n",
       "    <tr>\n",
       "      <th>0</th>\n",
       "      <td>0</td>\n",
       "      <td>0</td>\n",
       "      <td>2010-05-01</td>\n",
       "      <td>-4.433982</td>\n",
       "      <td>-6.359876</td>\n",
       "      <td>-6.364891</td>\n",
       "      <td>-6.294719</td>\n",
       "      <td>0.000454</td>\n",
       "      <td>0.000946</td>\n",
       "      <td>0.001075</td>\n",
       "      <td>...</td>\n",
       "      <td>0</td>\n",
       "      <td>0</td>\n",
       "      <td>0</td>\n",
       "      <td>5</td>\n",
       "      <td>2010</td>\n",
       "      <td>2</td>\n",
       "      <td>0</td>\n",
       "      <td>0</td>\n",
       "      <td>-4.738337</td>\n",
       "      <td>0.005654</td>\n",
       "    </tr>\n",
       "    <tr>\n",
       "      <th>1</th>\n",
       "      <td>1</td>\n",
       "      <td>1</td>\n",
       "      <td>2010-06-01</td>\n",
       "      <td>2.174986</td>\n",
       "      <td>3.215907</td>\n",
       "      <td>3.080370</td>\n",
       "      <td>3.142208</td>\n",
       "      <td>0.001116</td>\n",
       "      <td>0.002305</td>\n",
       "      <td>0.002460</td>\n",
       "      <td>...</td>\n",
       "      <td>0</td>\n",
       "      <td>0</td>\n",
       "      <td>0</td>\n",
       "      <td>6</td>\n",
       "      <td>2010</td>\n",
       "      <td>1</td>\n",
       "      <td>1</td>\n",
       "      <td>0</td>\n",
       "      <td>2.647403</td>\n",
       "      <td>0.005566</td>\n",
       "    </tr>\n",
       "    <tr>\n",
       "      <th>2</th>\n",
       "      <td>2</td>\n",
       "      <td>2</td>\n",
       "      <td>2010-07-01</td>\n",
       "      <td>2.707938</td>\n",
       "      <td>4.020971</td>\n",
       "      <td>3.856841</td>\n",
       "      <td>3.898303</td>\n",
       "      <td>0.000944</td>\n",
       "      <td>0.001957</td>\n",
       "      <td>0.002060</td>\n",
       "      <td>...</td>\n",
       "      <td>0</td>\n",
       "      <td>0</td>\n",
       "      <td>0</td>\n",
       "      <td>7</td>\n",
       "      <td>2010</td>\n",
       "      <td>1</td>\n",
       "      <td>1</td>\n",
       "      <td>0</td>\n",
       "      <td>2.316019</td>\n",
       "      <td>0.005577</td>\n",
       "    </tr>\n",
       "    <tr>\n",
       "      <th>3</th>\n",
       "      <td>3</td>\n",
       "      <td>3</td>\n",
       "      <td>2010-08-01</td>\n",
       "      <td>-0.769033</td>\n",
       "      <td>-1.123758</td>\n",
       "      <td>-1.043282</td>\n",
       "      <td>-1.094408</td>\n",
       "      <td>0.000840</td>\n",
       "      <td>0.001750</td>\n",
       "      <td>0.001818</td>\n",
       "      <td>...</td>\n",
       "      <td>0</td>\n",
       "      <td>0</td>\n",
       "      <td>0</td>\n",
       "      <td>8</td>\n",
       "      <td>2010</td>\n",
       "      <td>2</td>\n",
       "      <td>0</td>\n",
       "      <td>0</td>\n",
       "      <td>1.794264</td>\n",
       "      <td>0.005324</td>\n",
       "    </tr>\n",
       "    <tr>\n",
       "      <th>4</th>\n",
       "      <td>4</td>\n",
       "      <td>4</td>\n",
       "      <td>2010-09-01</td>\n",
       "      <td>5.209054</td>\n",
       "      <td>7.467547</td>\n",
       "      <td>6.942767</td>\n",
       "      <td>7.317975</td>\n",
       "      <td>0.000762</td>\n",
       "      <td>0.001589</td>\n",
       "      <td>0.001644</td>\n",
       "      <td>...</td>\n",
       "      <td>0</td>\n",
       "      <td>0</td>\n",
       "      <td>0</td>\n",
       "      <td>9</td>\n",
       "      <td>2010</td>\n",
       "      <td>0</td>\n",
       "      <td>1</td>\n",
       "      <td>0</td>\n",
       "      <td>3.039742</td>\n",
       "      <td>0.005309</td>\n",
       "    </tr>\n",
       "    <tr>\n",
       "      <th>...</th>\n",
       "      <td>...</td>\n",
       "      <td>...</td>\n",
       "      <td>...</td>\n",
       "      <td>...</td>\n",
       "      <td>...</td>\n",
       "      <td>...</td>\n",
       "      <td>...</td>\n",
       "      <td>...</td>\n",
       "      <td>...</td>\n",
       "      <td>...</td>\n",
       "      <td>...</td>\n",
       "      <td>...</td>\n",
       "      <td>...</td>\n",
       "      <td>...</td>\n",
       "      <td>...</td>\n",
       "      <td>...</td>\n",
       "      <td>...</td>\n",
       "      <td>...</td>\n",
       "      <td>...</td>\n",
       "      <td>...</td>\n",
       "      <td>...</td>\n",
       "    </tr>\n",
       "    <tr>\n",
       "      <th>140</th>\n",
       "      <td>140</td>\n",
       "      <td>140</td>\n",
       "      <td>2022-01-01</td>\n",
       "      <td>-7.274122</td>\n",
       "      <td>-10.522245</td>\n",
       "      <td>-7.356209</td>\n",
       "      <td>-7.056921</td>\n",
       "      <td>0.001419</td>\n",
       "      <td>0.004182</td>\n",
       "      <td>0.002058</td>\n",
       "      <td>...</td>\n",
       "      <td>0</td>\n",
       "      <td>0</td>\n",
       "      <td>0</td>\n",
       "      <td>1</td>\n",
       "      <td>2022</td>\n",
       "      <td>3</td>\n",
       "      <td>3</td>\n",
       "      <td>0</td>\n",
       "      <td>-4.113848</td>\n",
       "      <td>0.002954</td>\n",
       "    </tr>\n",
       "    <tr>\n",
       "      <th>141</th>\n",
       "      <td>141</td>\n",
       "      <td>141</td>\n",
       "      <td>2022-02-01</td>\n",
       "      <td>0.824954</td>\n",
       "      <td>1.137234</td>\n",
       "      <td>0.834210</td>\n",
       "      <td>0.809960</td>\n",
       "      <td>0.001533</td>\n",
       "      <td>0.004365</td>\n",
       "      <td>0.002143</td>\n",
       "      <td>...</td>\n",
       "      <td>0</td>\n",
       "      <td>0</td>\n",
       "      <td>0</td>\n",
       "      <td>2</td>\n",
       "      <td>2022</td>\n",
       "      <td>0</td>\n",
       "      <td>1</td>\n",
       "      <td>0</td>\n",
       "      <td>-4.939258</td>\n",
       "      <td>0.003062</td>\n",
       "    </tr>\n",
       "    <tr>\n",
       "      <th>142</th>\n",
       "      <td>142</td>\n",
       "      <td>142</td>\n",
       "      <td>2022-03-01</td>\n",
       "      <td>0.944961</td>\n",
       "      <td>1.279130</td>\n",
       "      <td>0.950040</td>\n",
       "      <td>0.925256</td>\n",
       "      <td>0.001530</td>\n",
       "      <td>0.004354</td>\n",
       "      <td>0.002137</td>\n",
       "      <td>...</td>\n",
       "      <td>0</td>\n",
       "      <td>0</td>\n",
       "      <td>0</td>\n",
       "      <td>3</td>\n",
       "      <td>2022</td>\n",
       "      <td>0</td>\n",
       "      <td>1</td>\n",
       "      <td>0</td>\n",
       "      <td>-0.928732</td>\n",
       "      <td>0.003056</td>\n",
       "    </tr>\n",
       "    <tr>\n",
       "      <th>143</th>\n",
       "      <td>143</td>\n",
       "      <td>143</td>\n",
       "      <td>2022-04-01</td>\n",
       "      <td>-2.299893</td>\n",
       "      <td>-3.320663</td>\n",
       "      <td>-2.374777</td>\n",
       "      <td>-2.237390</td>\n",
       "      <td>0.001514</td>\n",
       "      <td>0.004307</td>\n",
       "      <td>0.002113</td>\n",
       "      <td>...</td>\n",
       "      <td>0</td>\n",
       "      <td>0</td>\n",
       "      <td>0</td>\n",
       "      <td>4</td>\n",
       "      <td>2022</td>\n",
       "      <td>3</td>\n",
       "      <td>3</td>\n",
       "      <td>0</td>\n",
       "      <td>0.167734</td>\n",
       "      <td>0.003023</td>\n",
       "    </tr>\n",
       "    <tr>\n",
       "      <th>144</th>\n",
       "      <td>144</td>\n",
       "      <td>144</td>\n",
       "      <td>2022-05-01</td>\n",
       "      <td>-2.087800</td>\n",
       "      <td>-2.999727</td>\n",
       "      <td>-2.123263</td>\n",
       "      <td>-2.019863</td>\n",
       "      <td>0.001535</td>\n",
       "      <td>0.004349</td>\n",
       "      <td>0.002139</td>\n",
       "      <td>...</td>\n",
       "      <td>0</td>\n",
       "      <td>0</td>\n",
       "      <td>0</td>\n",
       "      <td>5</td>\n",
       "      <td>2022</td>\n",
       "      <td>3</td>\n",
       "      <td>3</td>\n",
       "      <td>0</td>\n",
       "      <td>-2.770905</td>\n",
       "      <td>0.003048</td>\n",
       "    </tr>\n",
       "  </tbody>\n",
       "</table>\n",
       "<p>145 rows × 38 columns</p>\n",
       "</div>"
      ],
      "text/plain": [
       "     Unnamed: 0.1  Unnamed: 0        Date  대형가치주CAPM  대형성장주CAPM  중소형가치주CAPM  \\\n",
       "0               0           0  2010-05-01  -4.433982  -6.359876   -6.364891   \n",
       "1               1           1  2010-06-01   2.174986   3.215907    3.080370   \n",
       "2               2           2  2010-07-01   2.707938   4.020971    3.856841   \n",
       "3               3           3  2010-08-01  -0.769033  -1.123758   -1.043282   \n",
       "4               4           4  2010-09-01   5.209054   7.467547    6.942767   \n",
       "..            ...         ...         ...        ...        ...         ...   \n",
       "140           140         140  2022-01-01  -7.274122 -10.522245   -7.356209   \n",
       "141           141         141  2022-02-01   0.824954   1.137234    0.834210   \n",
       "142           142         142  2022-03-01   0.944961   1.279130    0.950040   \n",
       "143           143         143  2022-04-01  -2.299893  -3.320663   -2.374777   \n",
       "144           144         144  2022-05-01  -2.087800  -2.999727   -2.123263   \n",
       "\n",
       "     중소형성장주CAPM  대형가치주포트폴리오분산  대형성장주포트폴리오분산  중소형가치주포트폴리오분산  ...  대형성장주최소분산  \\\n",
       "0     -6.294719      0.000454      0.000946       0.001075  ...          0   \n",
       "1      3.142208      0.001116      0.002305       0.002460  ...          0   \n",
       "2      3.898303      0.000944      0.001957       0.002060  ...          0   \n",
       "3     -1.094408      0.000840      0.001750       0.001818  ...          0   \n",
       "4      7.317975      0.000762      0.001589       0.001644  ...          0   \n",
       "..          ...           ...           ...            ...  ...        ...   \n",
       "140   -7.056921      0.001419      0.004182       0.002058  ...          0   \n",
       "141    0.809960      0.001533      0.004365       0.002143  ...          0   \n",
       "142    0.925256      0.001530      0.004354       0.002137  ...          0   \n",
       "143   -2.237390      0.001514      0.004307       0.002113  ...          0   \n",
       "144   -2.019863      0.001535      0.004349       0.002139  ...          0   \n",
       "\n",
       "     중소형가치주최소분산  중소형성장주최소분산  월     년  샤프수익률 라벨링  최대수익률 라벨링  최소분산 라벨링  \\\n",
       "0             0           0  5  2010          2          0         0   \n",
       "1             0           0  6  2010          1          1         0   \n",
       "2             0           0  7  2010          1          1         0   \n",
       "3             0           0  8  2010          2          0         0   \n",
       "4             0           0  9  2010          0          1         0   \n",
       "..          ...         ... ..   ...        ...        ...       ...   \n",
       "140           0           0  1  2022          3          3         0   \n",
       "141           0           0  2  2022          0          1         0   \n",
       "142           0           0  3  2022          0          1         0   \n",
       "143           0           0  4  2022          3          3         0   \n",
       "144           0           0  5  2022          3          3         0   \n",
       "\n",
       "          코스피     코스피분산  \n",
       "0   -4.738337  0.005654  \n",
       "1    2.647403  0.005566  \n",
       "2    2.316019  0.005577  \n",
       "3    1.794264  0.005324  \n",
       "4    3.039742  0.005309  \n",
       "..        ...       ...  \n",
       "140 -4.113848  0.002954  \n",
       "141 -4.939258  0.003062  \n",
       "142 -0.928732  0.003056  \n",
       "143  0.167734  0.003023  \n",
       "144 -2.770905  0.003048  \n",
       "\n",
       "[145 rows x 38 columns]"
      ]
     },
     "execution_count": 3,
     "metadata": {},
     "output_type": "execute_result"
    }
   ],
   "source": [
    "df = pd.read_csv('./xgboost_data/최종xg부스트데이터.csv',encoding=\"cp949\")\n",
    "df"
   ]
  },
  {
   "cell_type": "code",
   "execution_count": 4,
   "metadata": {},
   "outputs": [
    {
     "data": {
      "text/plain": [
       "Index(['Unnamed: 0.1', 'Unnamed: 0', 'Date', '대형가치주CAPM', '대형성장주CAPM',\n",
       "       '중소형가치주CAPM', '중소형성장주CAPM', '대형가치주포트폴리오분산', '대형성장주포트폴리오분산',\n",
       "       '중소형가치주포트폴리오분산', '중소형성장주포트폴리오분산', '대형가치주샤프지수', '대형성장주샤프지수',\n",
       "       '중소형가치주샤프지수', '중소형성장주샤프지수', '코스피200수익률', '최대수익률', '최소분산', '샤프모델최대',\n",
       "       '대형가치주안정', '대형성장주안정', '중소형가치주안정', '중소형성장주안정', '대형가치주', '대형성장주',\n",
       "       '중소형가치주', '중소형성장주', '대형가치주최소분산', '대형성장주최소분산', '중소형가치주최소분산',\n",
       "       '중소형성장주최소분산', '월', '년', '샤프수익률 라벨링', '최대수익률 라벨링', '최소분산 라벨링', '코스피',\n",
       "       '코스피분산'],\n",
       "      dtype='object')"
      ]
     },
     "execution_count": 4,
     "metadata": {},
     "output_type": "execute_result"
    }
   ],
   "source": [
    "df.columns"
   ]
  },
  {
   "cell_type": "code",
   "execution_count": 31,
   "metadata": {},
   "outputs": [
    {
     "name": "stderr",
     "output_type": "stream",
     "text": [
      "C:\\Users\\YSR\\AppData\\Local\\Temp\\ipykernel_19908\\3008447920.py:7: SettingWithCopyWarning: \n",
      "A value is trying to be set on a copy of a slice from a DataFrame.\n",
      "Try using .loc[row_indexer,col_indexer] = value instead\n",
      "\n",
      "See the caveats in the documentation: https://pandas.pydata.org/pandas-docs/stable/user_guide/indexing.html#returning-a-view-versus-a-copy\n",
      "  df_all[\"대형가치주CAPM\"] =df_all[\"대형가치주CAPM\"] * weight[0]\n",
      "C:\\Users\\YSR\\AppData\\Local\\Temp\\ipykernel_19908\\3008447920.py:8: SettingWithCopyWarning: \n",
      "A value is trying to be set on a copy of a slice from a DataFrame.\n",
      "Try using .loc[row_indexer,col_indexer] = value instead\n",
      "\n",
      "See the caveats in the documentation: https://pandas.pydata.org/pandas-docs/stable/user_guide/indexing.html#returning-a-view-versus-a-copy\n",
      "  df_all[\"대형성장주CAPM\"] =df_all[\"대형성장주CAPM\"] * weight[1]\n",
      "C:\\Users\\YSR\\AppData\\Local\\Temp\\ipykernel_19908\\3008447920.py:9: SettingWithCopyWarning: \n",
      "A value is trying to be set on a copy of a slice from a DataFrame.\n",
      "Try using .loc[row_indexer,col_indexer] = value instead\n",
      "\n",
      "See the caveats in the documentation: https://pandas.pydata.org/pandas-docs/stable/user_guide/indexing.html#returning-a-view-versus-a-copy\n",
      "  df_all[\"중소형가치주CAPM\"] =df_all[\"중소형가치주CAPM\"] * weight[2]\n",
      "C:\\Users\\YSR\\AppData\\Local\\Temp\\ipykernel_19908\\3008447920.py:10: SettingWithCopyWarning: \n",
      "A value is trying to be set on a copy of a slice from a DataFrame.\n",
      "Try using .loc[row_indexer,col_indexer] = value instead\n",
      "\n",
      "See the caveats in the documentation: https://pandas.pydata.org/pandas-docs/stable/user_guide/indexing.html#returning-a-view-versus-a-copy\n",
      "  df_all[\"중소형성장주CAPM\"] =df_all[\"중소형성장주CAPM\"] * weight[3]\n",
      "C:\\Users\\YSR\\AppData\\Local\\Temp\\ipykernel_19908\\3008447920.py:11: SettingWithCopyWarning: \n",
      "A value is trying to be set on a copy of a slice from a DataFrame.\n",
      "Try using .loc[row_indexer,col_indexer] = value instead\n",
      "\n",
      "See the caveats in the documentation: https://pandas.pydata.org/pandas-docs/stable/user_guide/indexing.html#returning-a-view-versus-a-copy\n",
      "  df_all[\"동일비율수익률\"] = (df_all[\"대형가치주CAPM\"]+df_all[\"대형성장주CAPM\"]+df_all[\"중소형가치주CAPM\"]+df_all[\"중소형성장주CAPM\"])\n",
      "C:\\Users\\YSR\\AppData\\Local\\Temp\\ipykernel_19908\\3008447920.py:12: SettingWithCopyWarning: \n",
      "A value is trying to be set on a copy of a slice from a DataFrame.\n",
      "Try using .loc[row_indexer,col_indexer] = value instead\n",
      "\n",
      "See the caveats in the documentation: https://pandas.pydata.org/pandas-docs/stable/user_guide/indexing.html#returning-a-view-versus-a-copy\n",
      "  df_all[\"동일비율수익률\"]=df_all[\"동일비율수익률\"]/n\n"
     ]
    }
   ],
   "source": [
    "df_all = df[(df['Date'] >= \"2017-01-01\")]\n",
    "#가중치 조절하기\n",
    "weight = [1,1,1,1]\n",
    "n =0\n",
    "for i in range(len(weight)):\n",
    "    n += weight[i]\n",
    "df_all[\"대형가치주CAPM\"] =df_all[\"대형가치주CAPM\"] * weight[0]\n",
    "df_all[\"대형성장주CAPM\"] =df_all[\"대형성장주CAPM\"] * weight[1]\n",
    "df_all[\"중소형가치주CAPM\"] =df_all[\"중소형가치주CAPM\"] * weight[2]\n",
    "df_all[\"중소형성장주CAPM\"] =df_all[\"중소형성장주CAPM\"] * weight[3]\n",
    "df_all[\"동일비율수익률\"] = (df_all[\"대형가치주CAPM\"]+df_all[\"대형성장주CAPM\"]+df_all[\"중소형가치주CAPM\"]+df_all[\"중소형성장주CAPM\"])\n",
    "df_all[\"동일비율수익률\"]=df_all[\"동일비율수익률\"]/n"
   ]
  },
  {
   "cell_type": "markdown",
   "metadata": {},
   "source": [
    "**연마다 스타일배분 비율 조정**\n",
    "\n",
    "1. 샤피비율만 가중치 적용->39%\n",
    "    1) 2017-> 1:1:1:1\n",
    "    2) 2018->1:3:5:3\n",
    "    3) 2019->0:3:4:5\n",
    "    4) 2020->4:0:0:8\n",
    "    5) 2021->1:0:4:7\n",
    "    6) 2022->7:0:0:5\n",
    "\n",
    "2. 샤프비율에 가중치 && 최소수익률 역가중치->40%\n",
    "    1) 2017-> 3:3:2:3\n",
    "    2) 2018->1:2:3:3\n",
    "    3) 2019->0:3:4:5\n",
    "    4) 2020->4:0:0:8\n",
    "    5) 2021->1:0:4:7\n",
    "    6) 2022->7:0:0:5\n",
    "\n",
    "3. 샤프비율 가중치 || 최소수익률 역가중치 세게->44%\n",
    "    1) 2017-> 3:3:0:3\n",
    "    2) 2018-> 2:0:1:0\n",
    "    3) 2019-> 0:1::4:5\n",
    "    4) 2020->0:0:0:8\n",
    "    5) 2021->0:0:4:7\n",
    "    6) 2022->7:0:0:3\n",
    "\n",
    "--> 3번 옵션으로 가중치 계산"
   ]
  },
  {
   "cell_type": "code",
   "execution_count": 55,
   "metadata": {},
   "outputs": [],
   "source": [
    "df_2017 = df[(df['Date'] >= \"2017-01-01\")&(df['Date'] <= \"2017-12-31\")]\n",
    "#가중치 조절하기\n",
    "weight = [3,3,0,3]\n",
    "n =0\n",
    "for i in range(len(weight)):\n",
    "    n += weight[i]\n",
    "n\n",
    "df_2017[\"대형가치주CAPM\"] =df_2017[\"대형가치주CAPM\"] * weight[0]\n",
    "df_2017[\"대형성장주CAPM\"] =df_2017[\"대형성장주CAPM\"] * weight[1]\n",
    "df_2017[\"중소형가치주CAPM\"] =df_2017[\"중소형가치주CAPM\"] * weight[2]\n",
    "df_2017[\"중소형성장주CAPM\"] =df_2017[\"중소형성장주CAPM\"] * weight[3]\n",
    "df_2017[\"비율조정 수익률\"] = (df_2017[\"대형가치주CAPM\"]+df_2017[\"대형성장주CAPM\"]+df_2017[\"중소형가치주CAPM\"]+df_2017[\"중소형성장주CAPM\"])\n",
    "df_2017[\"비율조정 수익률\"]=df_2017[\"비율조정 수익률\"]/n"
   ]
  },
  {
   "cell_type": "code",
   "execution_count": 56,
   "metadata": {},
   "outputs": [],
   "source": [
    "df_2018 = df[(df['Date'] >= \"2018-01-01\")&(df['Date'] <= \"2018-12-31\")]\n",
    "#가중치 조절하기\n",
    "weight = [2,0,1,0]\n",
    "n =0\n",
    "for i in range(len(weight)):\n",
    "    n += weight[i]\n",
    "n\n",
    "df_2018[\"대형가치주CAPM\"] =df_2018[\"대형가치주CAPM\"] * weight[0]\n",
    "df_2018[\"대형성장주CAPM\"] =df_2018[\"대형성장주CAPM\"] * weight[1]\n",
    "df_2018[\"중소형가치주CAPM\"] =df_2018[\"중소형가치주CAPM\"] * weight[2]\n",
    "df_2018[\"중소형성장주CAPM\"] =df_2018[\"중소형성장주CAPM\"] * weight[3]\n",
    "df_2018[\"비율조정 수익률\"] = (df_2018[\"대형가치주CAPM\"]+df_2018[\"대형성장주CAPM\"]+df_2018[\"중소형가치주CAPM\"]+df_2018[\"중소형성장주CAPM\"])\n",
    "df_2018[\"비율조정 수익률\"]=df_2018[\"비율조정 수익률\"]/n"
   ]
  },
  {
   "cell_type": "code",
   "execution_count": 57,
   "metadata": {},
   "outputs": [],
   "source": [
    "df_2019 = df[(df['Date'] >= \"2019-01-01\")&(df['Date'] <= \"2019-12-31\")]\n",
    "#가중치 조절하기\n",
    "weight = [0,1,4,5]\n",
    "n =0\n",
    "for i in range(len(weight)):\n",
    "    n += weight[i]\n",
    "df_2019[\"대형가치주CAPM\"] =df_2019[\"대형가치주CAPM\"] * weight[0]\n",
    "df_2019[\"대형성장주CAPM\"] =df_2019[\"대형성장주CAPM\"] * weight[1]\n",
    "df_2019[\"중소형가치주CAPM\"] =df_2019[\"중소형가치주CAPM\"] * weight[2]\n",
    "df_2019[\"중소형성장주CAPM\"] =df_2019[\"중소형성장주CAPM\"] * weight[3]\n",
    "df_2019[\"비율조정 수익률\"] = (df_2019[\"대형가치주CAPM\"]+df_2019[\"대형성장주CAPM\"]+df_2019[\"중소형가치주CAPM\"]+df_2019[\"중소형성장주CAPM\"])\n",
    "df_2019[\"비율조정 수익률\"]=df_2019[\"비율조정 수익률\"]/n"
   ]
  },
  {
   "cell_type": "code",
   "execution_count": 58,
   "metadata": {},
   "outputs": [],
   "source": [
    "df_2020 = df[(df['Date'] >= \"2020-01-01\")&(df['Date'] <= \"2020-12-31\")]\n",
    "#가중치 조절하기\n",
    "weight = [0,0,0,8]\n",
    "n =0\n",
    "for i in range(len(weight)):\n",
    "    n += weight[i]\n",
    "df_2020[\"대형가치주CAPM\"] =df_2020[\"대형가치주CAPM\"] * weight[0]\n",
    "df_2020[\"대형성장주CAPM\"] =df_2020[\"대형성장주CAPM\"] * weight[1]\n",
    "df_2020[\"중소형가치주CAPM\"] =df_2020[\"중소형가치주CAPM\"] * weight[2]\n",
    "df_2020[\"중소형성장주CAPM\"] =df_2020[\"중소형성장주CAPM\"] * weight[3]\n",
    "df_2020[\"비율조정 수익률\"] = (df_2020[\"대형가치주CAPM\"]+df_2020[\"대형성장주CAPM\"]+df_2020[\"중소형가치주CAPM\"]+df_2020[\"중소형성장주CAPM\"])\n",
    "df_2020[\"비율조정 수익률\"]=df_2020[\"비율조정 수익률\"]/n"
   ]
  },
  {
   "cell_type": "code",
   "execution_count": 59,
   "metadata": {},
   "outputs": [],
   "source": [
    "df_2021 = df[(df['Date'] >= \"2021-01-01\")&(df['Date'] <= \"2021-12-31\")]\n",
    "#가중치 조절하기\n",
    "weight = [0,0,4,7]\n",
    "n =0\n",
    "for i in range(len(weight)):\n",
    "    n += weight[i]\n",
    "df_2021[\"대형가치주CAPM\"] =df_2021[\"대형가치주CAPM\"] * weight[0]\n",
    "df_2021[\"대형성장주CAPM\"] =df_2021[\"대형성장주CAPM\"] * weight[1]\n",
    "df_2021[\"중소형가치주CAPM\"] =df_2021[\"중소형가치주CAPM\"] * weight[2]\n",
    "df_2021[\"중소형성장주CAPM\"] =df_2021[\"중소형성장주CAPM\"] * weight[3]\n",
    "df_2021[\"비율조정 수익률\"] = (df_2021[\"대형가치주CAPM\"]+df_2021[\"대형성장주CAPM\"]+df_2021[\"중소형가치주CAPM\"]+df_2021[\"중소형성장주CAPM\"])\n",
    "df_2021[\"비율조정 수익률\"]=df_2021[\"비율조정 수익률\"]/n"
   ]
  },
  {
   "cell_type": "code",
   "execution_count": 60,
   "metadata": {},
   "outputs": [],
   "source": [
    "df_2022 = df[(df['Date'] >= \"2022-01-01\")&(df['Date'] <= \"2023-01-01\")]\n",
    "#가중치 조절하기\n",
    "weight = [7,0,0,3]\n",
    "n =0\n",
    "for i in range(len(weight)):\n",
    "    n += weight[i]\n",
    "df_2022[\"대형가치주CAPM\"] =df_2022[\"대형가치주CAPM\"] * weight[0]\n",
    "df_2022[\"대형성장주CAPM\"] =df_2022[\"대형성장주CAPM\"] * weight[1]\n",
    "df_2022[\"중소형가치주CAPM\"] =df_2022[\"중소형가치주CAPM\"] * weight[2]\n",
    "df_2022[\"중소형성장주CAPM\"] =df_2022[\"중소형성장주CAPM\"] * weight[3]\n",
    "df_2022[\"비율조정 수익률\"] = (df_2022[\"대형가치주CAPM\"]+df_2022[\"대형성장주CAPM\"]+df_2022[\"중소형가치주CAPM\"]+df_2022[\"중소형성장주CAPM\"])\n",
    "df_2022[\"비율조정 수익률\"]=df_2022[\"비율조정 수익률\"]/n"
   ]
  },
  {
   "cell_type": "code",
   "execution_count": 61,
   "metadata": {},
   "outputs": [
    {
     "data": {
      "text/html": [
       "<div>\n",
       "<style scoped>\n",
       "    .dataframe tbody tr th:only-of-type {\n",
       "        vertical-align: middle;\n",
       "    }\n",
       "\n",
       "    .dataframe tbody tr th {\n",
       "        vertical-align: top;\n",
       "    }\n",
       "\n",
       "    .dataframe thead th {\n",
       "        text-align: right;\n",
       "    }\n",
       "</style>\n",
       "<table border=\"1\" class=\"dataframe\">\n",
       "  <thead>\n",
       "    <tr style=\"text-align: right;\">\n",
       "      <th></th>\n",
       "      <th>Unnamed: 0.1</th>\n",
       "      <th>Unnamed: 0</th>\n",
       "      <th>Date</th>\n",
       "      <th>대형가치주CAPM</th>\n",
       "      <th>대형성장주CAPM</th>\n",
       "      <th>중소형가치주CAPM</th>\n",
       "      <th>중소형성장주CAPM</th>\n",
       "      <th>대형가치주포트폴리오분산</th>\n",
       "      <th>대형성장주포트폴리오분산</th>\n",
       "      <th>중소형가치주포트폴리오분산</th>\n",
       "      <th>...</th>\n",
       "      <th>중소형가치주최소분산</th>\n",
       "      <th>중소형성장주최소분산</th>\n",
       "      <th>월</th>\n",
       "      <th>년</th>\n",
       "      <th>샤프수익률 라벨링</th>\n",
       "      <th>최대수익률 라벨링</th>\n",
       "      <th>최소분산 라벨링</th>\n",
       "      <th>코스피</th>\n",
       "      <th>코스피분산</th>\n",
       "      <th>비율조정 수익률</th>\n",
       "    </tr>\n",
       "  </thead>\n",
       "  <tbody>\n",
       "    <tr>\n",
       "      <th>80</th>\n",
       "      <td>80</td>\n",
       "      <td>80</td>\n",
       "      <td>2017-01-01</td>\n",
       "      <td>5.610774</td>\n",
       "      <td>8.126680</td>\n",
       "      <td>0.0</td>\n",
       "      <td>8.045199</td>\n",
       "      <td>0.000265</td>\n",
       "      <td>0.000501</td>\n",
       "      <td>0.000178</td>\n",
       "      <td>...</td>\n",
       "      <td>1</td>\n",
       "      <td>0</td>\n",
       "      <td>1</td>\n",
       "      <td>2017</td>\n",
       "      <td>2</td>\n",
       "      <td>1</td>\n",
       "      <td>2</td>\n",
       "      <td>1.981871</td>\n",
       "      <td>0.000669</td>\n",
       "      <td>2.420295</td>\n",
       "    </tr>\n",
       "    <tr>\n",
       "      <th>81</th>\n",
       "      <td>81</td>\n",
       "      <td>81</td>\n",
       "      <td>2017-02-01</td>\n",
       "      <td>1.236484</td>\n",
       "      <td>1.951840</td>\n",
       "      <td>0.0</td>\n",
       "      <td>1.945322</td>\n",
       "      <td>0.000244</td>\n",
       "      <td>0.000466</td>\n",
       "      <td>0.000167</td>\n",
       "      <td>...</td>\n",
       "      <td>1</td>\n",
       "      <td>0</td>\n",
       "      <td>2</td>\n",
       "      <td>2017</td>\n",
       "      <td>2</td>\n",
       "      <td>1</td>\n",
       "      <td>2</td>\n",
       "      <td>1.021543</td>\n",
       "      <td>0.000641</td>\n",
       "      <td>0.570405</td>\n",
       "    </tr>\n",
       "    <tr>\n",
       "      <th>82</th>\n",
       "      <td>82</td>\n",
       "      <td>82</td>\n",
       "      <td>2017-03-01</td>\n",
       "      <td>6.061592</td>\n",
       "      <td>10.259134</td>\n",
       "      <td>0.0</td>\n",
       "      <td>9.953227</td>\n",
       "      <td>0.000237</td>\n",
       "      <td>0.000455</td>\n",
       "      <td>0.000164</td>\n",
       "      <td>...</td>\n",
       "      <td>1</td>\n",
       "      <td>0</td>\n",
       "      <td>3</td>\n",
       "      <td>2017</td>\n",
       "      <td>1</td>\n",
       "      <td>1</td>\n",
       "      <td>2</td>\n",
       "      <td>2.562880</td>\n",
       "      <td>0.000630</td>\n",
       "      <td>2.919328</td>\n",
       "    </tr>\n",
       "    <tr>\n",
       "      <th>83</th>\n",
       "      <td>83</td>\n",
       "      <td>83</td>\n",
       "      <td>2017-04-01</td>\n",
       "      <td>4.047164</td>\n",
       "      <td>6.014410</td>\n",
       "      <td>0.0</td>\n",
       "      <td>5.499321</td>\n",
       "      <td>0.000247</td>\n",
       "      <td>0.000483</td>\n",
       "      <td>0.000173</td>\n",
       "      <td>...</td>\n",
       "      <td>1</td>\n",
       "      <td>0</td>\n",
       "      <td>4</td>\n",
       "      <td>2017</td>\n",
       "      <td>1</td>\n",
       "      <td>1</td>\n",
       "      <td>2</td>\n",
       "      <td>1.123876</td>\n",
       "      <td>0.000668</td>\n",
       "      <td>1.728988</td>\n",
       "    </tr>\n",
       "    <tr>\n",
       "      <th>84</th>\n",
       "      <td>84</td>\n",
       "      <td>84</td>\n",
       "      <td>2017-05-01</td>\n",
       "      <td>9.116297</td>\n",
       "      <td>15.394787</td>\n",
       "      <td>0.0</td>\n",
       "      <td>14.371669</td>\n",
       "      <td>0.000247</td>\n",
       "      <td>0.000484</td>\n",
       "      <td>0.000173</td>\n",
       "      <td>...</td>\n",
       "      <td>1</td>\n",
       "      <td>0</td>\n",
       "      <td>5</td>\n",
       "      <td>2017</td>\n",
       "      <td>2</td>\n",
       "      <td>1</td>\n",
       "      <td>2</td>\n",
       "      <td>6.559978</td>\n",
       "      <td>0.000674</td>\n",
       "      <td>4.320306</td>\n",
       "    </tr>\n",
       "    <tr>\n",
       "      <th>...</th>\n",
       "      <td>...</td>\n",
       "      <td>...</td>\n",
       "      <td>...</td>\n",
       "      <td>...</td>\n",
       "      <td>...</td>\n",
       "      <td>...</td>\n",
       "      <td>...</td>\n",
       "      <td>...</td>\n",
       "      <td>...</td>\n",
       "      <td>...</td>\n",
       "      <td>...</td>\n",
       "      <td>...</td>\n",
       "      <td>...</td>\n",
       "      <td>...</td>\n",
       "      <td>...</td>\n",
       "      <td>...</td>\n",
       "      <td>...</td>\n",
       "      <td>...</td>\n",
       "      <td>...</td>\n",
       "      <td>...</td>\n",
       "      <td>...</td>\n",
       "    </tr>\n",
       "    <tr>\n",
       "      <th>140</th>\n",
       "      <td>140</td>\n",
       "      <td>140</td>\n",
       "      <td>2022-01-01</td>\n",
       "      <td>-50.918856</td>\n",
       "      <td>-0.000000</td>\n",
       "      <td>-0.0</td>\n",
       "      <td>-21.170764</td>\n",
       "      <td>0.001419</td>\n",
       "      <td>0.004182</td>\n",
       "      <td>0.002058</td>\n",
       "      <td>...</td>\n",
       "      <td>0</td>\n",
       "      <td>0</td>\n",
       "      <td>1</td>\n",
       "      <td>2022</td>\n",
       "      <td>3</td>\n",
       "      <td>3</td>\n",
       "      <td>0</td>\n",
       "      <td>-4.113848</td>\n",
       "      <td>0.002954</td>\n",
       "      <td>-7.208962</td>\n",
       "    </tr>\n",
       "    <tr>\n",
       "      <th>141</th>\n",
       "      <td>141</td>\n",
       "      <td>141</td>\n",
       "      <td>2022-02-01</td>\n",
       "      <td>5.774676</td>\n",
       "      <td>0.000000</td>\n",
       "      <td>0.0</td>\n",
       "      <td>2.429880</td>\n",
       "      <td>0.001533</td>\n",
       "      <td>0.004365</td>\n",
       "      <td>0.002143</td>\n",
       "      <td>...</td>\n",
       "      <td>0</td>\n",
       "      <td>0</td>\n",
       "      <td>2</td>\n",
       "      <td>2022</td>\n",
       "      <td>0</td>\n",
       "      <td>1</td>\n",
       "      <td>0</td>\n",
       "      <td>-4.939258</td>\n",
       "      <td>0.003062</td>\n",
       "      <td>0.820456</td>\n",
       "    </tr>\n",
       "    <tr>\n",
       "      <th>142</th>\n",
       "      <td>142</td>\n",
       "      <td>142</td>\n",
       "      <td>2022-03-01</td>\n",
       "      <td>6.614724</td>\n",
       "      <td>0.000000</td>\n",
       "      <td>0.0</td>\n",
       "      <td>2.775768</td>\n",
       "      <td>0.001530</td>\n",
       "      <td>0.004354</td>\n",
       "      <td>0.002137</td>\n",
       "      <td>...</td>\n",
       "      <td>0</td>\n",
       "      <td>0</td>\n",
       "      <td>3</td>\n",
       "      <td>2022</td>\n",
       "      <td>0</td>\n",
       "      <td>1</td>\n",
       "      <td>0</td>\n",
       "      <td>-0.928732</td>\n",
       "      <td>0.003056</td>\n",
       "      <td>0.939049</td>\n",
       "    </tr>\n",
       "    <tr>\n",
       "      <th>143</th>\n",
       "      <td>143</td>\n",
       "      <td>143</td>\n",
       "      <td>2022-04-01</td>\n",
       "      <td>-16.099253</td>\n",
       "      <td>-0.000000</td>\n",
       "      <td>-0.0</td>\n",
       "      <td>-6.712171</td>\n",
       "      <td>0.001514</td>\n",
       "      <td>0.004307</td>\n",
       "      <td>0.002113</td>\n",
       "      <td>...</td>\n",
       "      <td>0</td>\n",
       "      <td>0</td>\n",
       "      <td>4</td>\n",
       "      <td>2022</td>\n",
       "      <td>3</td>\n",
       "      <td>3</td>\n",
       "      <td>0</td>\n",
       "      <td>0.167734</td>\n",
       "      <td>0.003023</td>\n",
       "      <td>-2.281142</td>\n",
       "    </tr>\n",
       "    <tr>\n",
       "      <th>144</th>\n",
       "      <td>144</td>\n",
       "      <td>144</td>\n",
       "      <td>2022-05-01</td>\n",
       "      <td>-14.614599</td>\n",
       "      <td>-0.000000</td>\n",
       "      <td>-0.0</td>\n",
       "      <td>-6.059590</td>\n",
       "      <td>0.001535</td>\n",
       "      <td>0.004349</td>\n",
       "      <td>0.002139</td>\n",
       "      <td>...</td>\n",
       "      <td>0</td>\n",
       "      <td>0</td>\n",
       "      <td>5</td>\n",
       "      <td>2022</td>\n",
       "      <td>3</td>\n",
       "      <td>3</td>\n",
       "      <td>0</td>\n",
       "      <td>-2.770905</td>\n",
       "      <td>0.003048</td>\n",
       "      <td>-2.067419</td>\n",
       "    </tr>\n",
       "  </tbody>\n",
       "</table>\n",
       "<p>65 rows × 39 columns</p>\n",
       "</div>"
      ],
      "text/plain": [
       "     Unnamed: 0.1  Unnamed: 0        Date  대형가치주CAPM  대형성장주CAPM  중소형가치주CAPM  \\\n",
       "80             80          80  2017-01-01   5.610774   8.126680         0.0   \n",
       "81             81          81  2017-02-01   1.236484   1.951840         0.0   \n",
       "82             82          82  2017-03-01   6.061592  10.259134         0.0   \n",
       "83             83          83  2017-04-01   4.047164   6.014410         0.0   \n",
       "84             84          84  2017-05-01   9.116297  15.394787         0.0   \n",
       "..            ...         ...         ...        ...        ...         ...   \n",
       "140           140         140  2022-01-01 -50.918856  -0.000000        -0.0   \n",
       "141           141         141  2022-02-01   5.774676   0.000000         0.0   \n",
       "142           142         142  2022-03-01   6.614724   0.000000         0.0   \n",
       "143           143         143  2022-04-01 -16.099253  -0.000000        -0.0   \n",
       "144           144         144  2022-05-01 -14.614599  -0.000000        -0.0   \n",
       "\n",
       "     중소형성장주CAPM  대형가치주포트폴리오분산  대형성장주포트폴리오분산  중소형가치주포트폴리오분산  ...  중소형가치주최소분산  \\\n",
       "80     8.045199      0.000265      0.000501       0.000178  ...           1   \n",
       "81     1.945322      0.000244      0.000466       0.000167  ...           1   \n",
       "82     9.953227      0.000237      0.000455       0.000164  ...           1   \n",
       "83     5.499321      0.000247      0.000483       0.000173  ...           1   \n",
       "84    14.371669      0.000247      0.000484       0.000173  ...           1   \n",
       "..          ...           ...           ...            ...  ...         ...   \n",
       "140  -21.170764      0.001419      0.004182       0.002058  ...           0   \n",
       "141    2.429880      0.001533      0.004365       0.002143  ...           0   \n",
       "142    2.775768      0.001530      0.004354       0.002137  ...           0   \n",
       "143   -6.712171      0.001514      0.004307       0.002113  ...           0   \n",
       "144   -6.059590      0.001535      0.004349       0.002139  ...           0   \n",
       "\n",
       "     중소형성장주최소분산  월     년  샤프수익률 라벨링  최대수익률 라벨링  최소분산 라벨링       코스피     코스피분산  \\\n",
       "80            0  1  2017          2          1         2  1.981871  0.000669   \n",
       "81            0  2  2017          2          1         2  1.021543  0.000641   \n",
       "82            0  3  2017          1          1         2  2.562880  0.000630   \n",
       "83            0  4  2017          1          1         2  1.123876  0.000668   \n",
       "84            0  5  2017          2          1         2  6.559978  0.000674   \n",
       "..          ... ..   ...        ...        ...       ...       ...       ...   \n",
       "140           0  1  2022          3          3         0 -4.113848  0.002954   \n",
       "141           0  2  2022          0          1         0 -4.939258  0.003062   \n",
       "142           0  3  2022          0          1         0 -0.928732  0.003056   \n",
       "143           0  4  2022          3          3         0  0.167734  0.003023   \n",
       "144           0  5  2022          3          3         0 -2.770905  0.003048   \n",
       "\n",
       "     비율조정 수익률  \n",
       "80   2.420295  \n",
       "81   0.570405  \n",
       "82   2.919328  \n",
       "83   1.728988  \n",
       "84   4.320306  \n",
       "..        ...  \n",
       "140 -7.208962  \n",
       "141  0.820456  \n",
       "142  0.939049  \n",
       "143 -2.281142  \n",
       "144 -2.067419  \n",
       "\n",
       "[65 rows x 39 columns]"
      ]
     },
     "execution_count": 61,
     "metadata": {},
     "output_type": "execute_result"
    }
   ],
   "source": [
    "df_concat =pd.concat([df_2017,df_2018,df_2019,df_2020,df_2021,df_2022])\n",
    "df_concat"
   ]
  },
  {
   "cell_type": "code",
   "execution_count": 35,
   "metadata": {},
   "outputs": [
    {
     "data": {
      "text/plain": [
       "Index(['Unnamed: 0.1', 'Unnamed: 0', 'Date', '대형가치주CAPM', '대형성장주CAPM',\n",
       "       '중소형가치주CAPM', '중소형성장주CAPM', '대형가치주포트폴리오분산', '대형성장주포트폴리오분산',\n",
       "       '중소형가치주포트폴리오분산', '중소형성장주포트폴리오분산', '대형가치주샤프지수', '대형성장주샤프지수',\n",
       "       '중소형가치주샤프지수', '중소형성장주샤프지수', '코스피200수익률', '최대수익률', '최소분산', '샤프모델최대',\n",
       "       '대형가치주안정', '대형성장주안정', '중소형가치주안정', '중소형성장주안정', '대형가치주', '대형성장주',\n",
       "       '중소형가치주', '중소형성장주', '대형가치주최소분산', '대형성장주최소분산', '중소형가치주최소분산',\n",
       "       '중소형성장주최소분산', '월', '년', '샤프수익률 라벨링', '최대수익률 라벨링', '최소분산 라벨링', '코스피',\n",
       "       '코스피분산', '비율조정 수익률', '동일비율수익률'],\n",
       "      dtype='object')"
      ]
     },
     "execution_count": 35,
     "metadata": {},
     "output_type": "execute_result"
    }
   ],
   "source": [
    "df_concat.columns"
   ]
  },
  {
   "cell_type": "code",
   "execution_count": 66,
   "metadata": {},
   "outputs": [],
   "source": [
    "df_concat[\"동일비율수익률\"]=list(df_all[\"동일비율수익률\"])"
   ]
  },
  {
   "cell_type": "code",
   "execution_count": 64,
   "metadata": {},
   "outputs": [
    {
     "data": {
      "text/plain": [
       "Date\n",
       "2017-01-01    2.420295\n",
       "2017-02-01    0.570405\n",
       "2017-03-01    2.919328\n",
       "2017-04-01    1.728988\n",
       "2017-05-01    4.320306\n",
       "                ...   \n",
       "2022-01-01   -7.208962\n",
       "2022-02-01    0.820456\n",
       "2022-03-01    0.939049\n",
       "2022-04-01   -2.281142\n",
       "2022-05-01   -2.067419\n",
       "Name: 비율조정 수익률, Length: 65, dtype: float64"
      ]
     },
     "execution_count": 64,
     "metadata": {},
     "output_type": "execute_result"
    }
   ],
   "source": [
    "df_concat.set_index(df_concat[\"Date\"],inplace=True,drop=True)"
   ]
  },
  {
   "cell_type": "code",
   "execution_count": 68,
   "metadata": {},
   "outputs": [
    {
     "data": {
      "text/html": [
       "<div>\n",
       "<style scoped>\n",
       "    .dataframe tbody tr th:only-of-type {\n",
       "        vertical-align: middle;\n",
       "    }\n",
       "\n",
       "    .dataframe tbody tr th {\n",
       "        vertical-align: top;\n",
       "    }\n",
       "\n",
       "    .dataframe thead th {\n",
       "        text-align: right;\n",
       "    }\n",
       "</style>\n",
       "<table border=\"1\" class=\"dataframe\">\n",
       "  <thead>\n",
       "    <tr style=\"text-align: right;\">\n",
       "      <th></th>\n",
       "      <th>비율조정 수익률</th>\n",
       "      <th>동일비율수익률</th>\n",
       "    </tr>\n",
       "    <tr>\n",
       "      <th>Date</th>\n",
       "      <th></th>\n",
       "      <th></th>\n",
       "    </tr>\n",
       "  </thead>\n",
       "  <tbody>\n",
       "    <tr>\n",
       "      <th>2017-01-01</th>\n",
       "      <td>2.420295</td>\n",
       "      <td>2.249616</td>\n",
       "    </tr>\n",
       "    <tr>\n",
       "      <th>2017-02-01</th>\n",
       "      <td>0.570405</td>\n",
       "      <td>0.535139</td>\n",
       "    </tr>\n",
       "    <tr>\n",
       "      <th>2017-03-01</th>\n",
       "      <td>2.919328</td>\n",
       "      <td>2.697434</td>\n",
       "    </tr>\n",
       "    <tr>\n",
       "      <th>2017-04-01</th>\n",
       "      <td>1.728988</td>\n",
       "      <td>1.589476</td>\n",
       "    </tr>\n",
       "    <tr>\n",
       "      <th>2017-05-01</th>\n",
       "      <td>4.320306</td>\n",
       "      <td>4.028228</td>\n",
       "    </tr>\n",
       "    <tr>\n",
       "      <th>...</th>\n",
       "      <td>...</td>\n",
       "      <td>...</td>\n",
       "    </tr>\n",
       "    <tr>\n",
       "      <th>2022-01-01</th>\n",
       "      <td>-7.208962</td>\n",
       "      <td>-8.052374</td>\n",
       "    </tr>\n",
       "    <tr>\n",
       "      <th>2022-02-01</th>\n",
       "      <td>0.820456</td>\n",
       "      <td>0.901589</td>\n",
       "    </tr>\n",
       "    <tr>\n",
       "      <th>2022-03-01</th>\n",
       "      <td>0.939049</td>\n",
       "      <td>1.024846</td>\n",
       "    </tr>\n",
       "    <tr>\n",
       "      <th>2022-04-01</th>\n",
       "      <td>-2.281142</td>\n",
       "      <td>-2.558181</td>\n",
       "    </tr>\n",
       "    <tr>\n",
       "      <th>2022-05-01</th>\n",
       "      <td>-2.067419</td>\n",
       "      <td>-2.307663</td>\n",
       "    </tr>\n",
       "  </tbody>\n",
       "</table>\n",
       "<p>65 rows × 2 columns</p>\n",
       "</div>"
      ],
      "text/plain": [
       "            비율조정 수익률   동일비율수익률\n",
       "Date                          \n",
       "2017-01-01  2.420295  2.249616\n",
       "2017-02-01  0.570405  0.535139\n",
       "2017-03-01  2.919328  2.697434\n",
       "2017-04-01  1.728988  1.589476\n",
       "2017-05-01  4.320306  4.028228\n",
       "...              ...       ...\n",
       "2022-01-01 -7.208962 -8.052374\n",
       "2022-02-01  0.820456  0.901589\n",
       "2022-03-01  0.939049  1.024846\n",
       "2022-04-01 -2.281142 -2.558181\n",
       "2022-05-01 -2.067419 -2.307663\n",
       "\n",
       "[65 rows x 2 columns]"
      ]
     },
     "execution_count": 68,
     "metadata": {},
     "output_type": "execute_result"
    }
   ],
   "source": [
    "df_plot = df_concat.drop(['Unnamed: 0.1', 'Unnamed: 0', 'Date', '대형가치주CAPM', '대형성장주CAPM',\n",
    "       '중소형가치주CAPM', '중소형성장주CAPM', '대형가치주포트폴리오분산', '대형성장주포트폴리오분산',\n",
    "       '중소형가치주포트폴리오분산', '중소형성장주포트폴리오분산', '대형가치주샤프지수', '대형성장주샤프지수',\n",
    "       '중소형가치주샤프지수', '중소형성장주샤프지수', '코스피200수익률', '최대수익률', '최소분산', '샤프모델최대',\n",
    "       '대형가치주안정', '대형성장주안정', '중소형가치주안정', '중소형성장주안정', '대형가치주', '대형성장주',\n",
    "       '중소형가치주', '중소형성장주', '대형가치주최소분산', '대형성장주최소분산', '중소형가치주최소분산',\n",
    "       '중소형성장주최소분산', '월', '년', '샤프수익률 라벨링', '최대수익률 라벨링', '최소분산 라벨링', '코스피',\n",
    "       '코스피분산'],axis=1)\n",
    "df_plot"
   ]
  },
  {
   "cell_type": "code",
   "execution_count": 72,
   "metadata": {},
   "outputs": [],
   "source": [
    "#누적 그래프\n",
    "df_plot_c = df_plot.copy()"
   ]
  },
  {
   "cell_type": "code",
   "execution_count": 73,
   "metadata": {},
   "outputs": [],
   "source": [
    "sum = 0\n",
    "for i in range(len(df_plot_c)):\n",
    "    sum += df_plot_c[\"비율조정 수익률\"][i]\n",
    "    df_plot_c[\"비율조정 수익률\"][i] = sum"
   ]
  },
  {
   "cell_type": "code",
   "execution_count": 74,
   "metadata": {},
   "outputs": [],
   "source": [
    "sum = 0\n",
    "for i in range(len(df_plot_c)):\n",
    "    sum += df_plot_c[\"동일비율수익률\"][i]\n",
    "    df_plot_c[\"동일비율수익률\"][i] = sum"
   ]
  },
  {
   "cell_type": "code",
   "execution_count": 69,
   "metadata": {},
   "outputs": [],
   "source": [
    "#df_all.to_csv(\"xgboost_data\\최종5년 비율조절까지.csv\",encoding=\"cp949\")"
   ]
  },
  {
   "cell_type": "code",
   "execution_count": 63,
   "metadata": {},
   "outputs": [
    {
     "data": {
      "text/plain": [
       "44.09927755542083"
      ]
     },
     "execution_count": 63,
     "metadata": {},
     "output_type": "execute_result"
    }
   ],
   "source": [
    "sum(df_concat[\"비율조정 수익률\"])"
   ]
  },
  {
   "cell_type": "code",
   "execution_count": 54,
   "metadata": {},
   "outputs": [
    {
     "data": {
      "text/plain": [
       "39.02310785902333"
      ]
     },
     "execution_count": 54,
     "metadata": {},
     "output_type": "execute_result"
    }
   ],
   "source": [
    "sum(df_concat[\"동일비율수익률\"])"
   ]
  },
  {
   "cell_type": "code",
   "execution_count": 70,
   "metadata": {},
   "outputs": [],
   "source": [
    "import plotly.offline as plyo\n",
    "import cufflinks\n",
    "#CAPM 기대수익률 -> 포트폴리오 수익률 , 나머지 개별투자시 수익률"
   ]
  },
  {
   "cell_type": "code",
   "execution_count": 71,
   "metadata": {},
   "outputs": [
    {
     "data": {
      "application/vnd.plotly.v1+json": {
       "config": {
        "linkText": "Export to plot.ly",
        "plotlyServerURL": "https://plot.ly",
        "showLink": false
       },
       "data": [
        {
         "line": {
          "color": "rgba(255, 153, 51, 1.0)",
          "dash": "solid",
          "shape": "linear",
          "width": 1.3
         },
         "mode": "lines",
         "name": "비율조정 수익률",
         "text": "",
         "type": "scatter",
         "x": [
          "2017-01-01",
          "2017-02-01",
          "2017-03-01",
          "2017-04-01",
          "2017-05-01",
          "2017-06-01",
          "2017-07-01",
          "2017-08-01",
          "2017-09-01",
          "2017-10-01",
          "2017-11-01",
          "2017-12-01",
          "2018-01-01",
          "2018-02-01",
          "2018-03-01",
          "2018-04-01",
          "2018-05-01",
          "2018-06-01",
          "2018-07-01",
          "2018-08-01",
          "2018-09-01",
          "2018-10-01",
          "2018-11-01",
          "2018-12-01",
          "2019-01-01",
          "2019-02-01",
          "2019-03-01",
          "2019-04-01",
          "2019-05-01",
          "2019-06-01",
          "2019-07-01",
          "2019-08-01",
          "2019-09-01",
          "2019-10-01",
          "2019-11-01",
          "2019-12-01",
          "2020-01-01",
          "2020-02-01",
          "2020-03-01",
          "2020-04-01",
          "2020-05-01",
          "2020-06-01",
          "2020-07-01",
          "2020-08-01",
          "2020-09-01",
          "2020-10-01",
          "2020-11-01",
          "2020-12-01",
          "2021-01-01",
          "2021-02-01",
          "2021-03-01",
          "2021-04-01",
          "2021-05-01",
          "2021-06-01",
          "2021-07-01",
          "2021-08-01",
          "2021-09-01",
          "2021-10-01",
          "2021-11-01",
          "2021-12-01",
          "2022-01-01",
          "2022-02-01",
          "2022-03-01",
          "2022-04-01",
          "2022-05-01"
         ],
         "y": [
          2.4202947080451103,
          0.5704050658737041,
          2.919328153905936,
          1.7289884065845382,
          4.320305890863353,
          1.8477398292266218,
          0.7301250078254607,
          -1.4791642223114723,
          2.0487288412584004,
          4.283035435726112,
          -1.8150956494291128,
          -0.07193332734237923,
          1.5685176130209209,
          -3.4170119147060394,
          0.40687621717909767,
          1.7687946634757115,
          -2.187024864207459,
          -1.9650872379913544,
          -0.3317920772773067,
          0.589994686965365,
          0.1731573933461278,
          -6.944345218443911,
          2.0336595551935193,
          -2.4402816763355837,
          7.4959897414756025,
          -0.5226018951542443,
          -1.949088517974139,
          2.2743316913322404,
          -5.4898588993828215,
          3.771761645850654,
          -2.912073072831884,
          -2.0117666708728343,
          4.296709030461713,
          0.6590853022878189,
          0.29414534750501237,
          4.624804951557251,
          -2.016571052590583,
          -3.8152373488115807,
          -7.854301842967506,
          7.246829414742001,
          3.492054486226372,
          4.075318810493435,
          6.263378448352514,
          2.44472503451286,
          0.7245347335286146,
          -2.5272827539636493,
          14.652803312806428,
          11.95354468541636,
          3.42541209426942,
          1.1549228511057021,
          1.0948622044484189,
          1.5453867890818012,
          1.1600020153205526,
          2.307690084040116,
          -3.007103224835657,
          -0.8333415450623886,
          -3.7736365535719987,
          -2.5654829970514927,
          -2.863404489651901,
          4.322538913736522,
          -7.208961949066074,
          0.8204555929239451,
          0.9390491858062167,
          -2.2811424197262875,
          -2.067418858791067
         ]
        },
        {
         "line": {
          "color": "rgba(55, 128, 191, 1.0)",
          "dash": "solid",
          "shape": "linear",
          "width": 1.3
         },
         "mode": "lines",
         "name": "동일비율수익률",
         "text": "",
         "type": "scatter",
         "x": [
          "2017-01-01",
          "2017-02-01",
          "2017-03-01",
          "2017-04-01",
          "2017-05-01",
          "2017-06-01",
          "2017-07-01",
          "2017-08-01",
          "2017-09-01",
          "2017-10-01",
          "2017-11-01",
          "2017-12-01",
          "2018-01-01",
          "2018-02-01",
          "2018-03-01",
          "2018-04-01",
          "2018-05-01",
          "2018-06-01",
          "2018-07-01",
          "2018-08-01",
          "2018-09-01",
          "2018-10-01",
          "2018-11-01",
          "2018-12-01",
          "2019-01-01",
          "2019-02-01",
          "2019-03-01",
          "2019-04-01",
          "2019-05-01",
          "2019-06-01",
          "2019-07-01",
          "2019-08-01",
          "2019-09-01",
          "2019-10-01",
          "2019-11-01",
          "2019-12-01",
          "2020-01-01",
          "2020-02-01",
          "2020-03-01",
          "2020-04-01",
          "2020-05-01",
          "2020-06-01",
          "2020-07-01",
          "2020-08-01",
          "2020-09-01",
          "2020-10-01",
          "2020-11-01",
          "2020-12-01",
          "2021-01-01",
          "2021-02-01",
          "2021-03-01",
          "2021-04-01",
          "2021-05-01",
          "2021-06-01",
          "2021-07-01",
          "2021-08-01",
          "2021-09-01",
          "2021-10-01",
          "2021-11-01",
          "2021-12-01",
          "2022-01-01",
          "2022-02-01",
          "2022-03-01",
          "2022-04-01",
          "2022-05-01"
         ],
         "y": [
          2.2496157209555148,
          0.5351387183934824,
          2.6974340630355673,
          1.589475748199622,
          4.0282279479233924,
          1.7171402512351481,
          0.6875734375173177,
          -1.3589570374384876,
          1.910332557542997,
          4.012534590789933,
          -1.6934487521083605,
          -0.05774018552816867,
          1.7506534973369765,
          -3.938805853607893,
          0.4358899188026719,
          1.9584196786967858,
          -2.3709319565075795,
          -2.097405646540764,
          -0.3696526257396943,
          0.6129729951535192,
          0.173534159404101,
          -7.0387187490547785,
          2.338949749574076,
          -2.8867461251651894,
          7.568754223805243,
          -0.5530395637221976,
          -2.0384984754623336,
          2.489217326341251,
          -6.030138429187781,
          4.126636954541499,
          -3.164277806781645,
          -2.178420761986531,
          4.531365862599055,
          0.6771616114100124,
          0.29983313181166804,
          4.772285134932175,
          -2.3840774585383717,
          -4.49800063421317,
          -9.180927563849236,
          7.732448116763194,
          3.656176972274278,
          4.103670913036776,
          6.321326542135916,
          2.468943872662091,
          0.7239459357919181,
          -2.4849967942996383,
          14.809540761195782,
          11.737283632705829,
          3.5874153010447567,
          1.222581432086715,
          1.1525520157818092,
          1.6245681520296906,
          1.218306157921829,
          2.399791728738334,
          -3.205259691487381,
          -0.9069002768131684,
          -4.112121373089951,
          -2.9127668524438404,
          -3.3502008865278365,
          4.905225364968152,
          -8.052374443362098,
          0.9015894139670366,
          1.0248464335267164,
          -2.5581808390379503,
          -2.3076633851154646
         ]
        }
       ],
       "layout": {
        "legend": {
         "bgcolor": "#F5F6F9",
         "font": {
          "color": "#4D5663"
         }
        },
        "paper_bgcolor": "#F5F6F9",
        "plot_bgcolor": "#F5F6F9",
        "template": {
         "data": {
          "bar": [
           {
            "error_x": {
             "color": "#2a3f5f"
            },
            "error_y": {
             "color": "#2a3f5f"
            },
            "marker": {
             "line": {
              "color": "#E5ECF6",
              "width": 0.5
             },
             "pattern": {
              "fillmode": "overlay",
              "size": 10,
              "solidity": 0.2
             }
            },
            "type": "bar"
           }
          ],
          "barpolar": [
           {
            "marker": {
             "line": {
              "color": "#E5ECF6",
              "width": 0.5
             },
             "pattern": {
              "fillmode": "overlay",
              "size": 10,
              "solidity": 0.2
             }
            },
            "type": "barpolar"
           }
          ],
          "carpet": [
           {
            "aaxis": {
             "endlinecolor": "#2a3f5f",
             "gridcolor": "white",
             "linecolor": "white",
             "minorgridcolor": "white",
             "startlinecolor": "#2a3f5f"
            },
            "baxis": {
             "endlinecolor": "#2a3f5f",
             "gridcolor": "white",
             "linecolor": "white",
             "minorgridcolor": "white",
             "startlinecolor": "#2a3f5f"
            },
            "type": "carpet"
           }
          ],
          "choropleth": [
           {
            "colorbar": {
             "outlinewidth": 0,
             "ticks": ""
            },
            "type": "choropleth"
           }
          ],
          "contour": [
           {
            "colorbar": {
             "outlinewidth": 0,
             "ticks": ""
            },
            "colorscale": [
             [
              0,
              "#0d0887"
             ],
             [
              0.1111111111111111,
              "#46039f"
             ],
             [
              0.2222222222222222,
              "#7201a8"
             ],
             [
              0.3333333333333333,
              "#9c179e"
             ],
             [
              0.4444444444444444,
              "#bd3786"
             ],
             [
              0.5555555555555556,
              "#d8576b"
             ],
             [
              0.6666666666666666,
              "#ed7953"
             ],
             [
              0.7777777777777778,
              "#fb9f3a"
             ],
             [
              0.8888888888888888,
              "#fdca26"
             ],
             [
              1,
              "#f0f921"
             ]
            ],
            "type": "contour"
           }
          ],
          "contourcarpet": [
           {
            "colorbar": {
             "outlinewidth": 0,
             "ticks": ""
            },
            "type": "contourcarpet"
           }
          ],
          "heatmap": [
           {
            "colorbar": {
             "outlinewidth": 0,
             "ticks": ""
            },
            "colorscale": [
             [
              0,
              "#0d0887"
             ],
             [
              0.1111111111111111,
              "#46039f"
             ],
             [
              0.2222222222222222,
              "#7201a8"
             ],
             [
              0.3333333333333333,
              "#9c179e"
             ],
             [
              0.4444444444444444,
              "#bd3786"
             ],
             [
              0.5555555555555556,
              "#d8576b"
             ],
             [
              0.6666666666666666,
              "#ed7953"
             ],
             [
              0.7777777777777778,
              "#fb9f3a"
             ],
             [
              0.8888888888888888,
              "#fdca26"
             ],
             [
              1,
              "#f0f921"
             ]
            ],
            "type": "heatmap"
           }
          ],
          "heatmapgl": [
           {
            "colorbar": {
             "outlinewidth": 0,
             "ticks": ""
            },
            "colorscale": [
             [
              0,
              "#0d0887"
             ],
             [
              0.1111111111111111,
              "#46039f"
             ],
             [
              0.2222222222222222,
              "#7201a8"
             ],
             [
              0.3333333333333333,
              "#9c179e"
             ],
             [
              0.4444444444444444,
              "#bd3786"
             ],
             [
              0.5555555555555556,
              "#d8576b"
             ],
             [
              0.6666666666666666,
              "#ed7953"
             ],
             [
              0.7777777777777778,
              "#fb9f3a"
             ],
             [
              0.8888888888888888,
              "#fdca26"
             ],
             [
              1,
              "#f0f921"
             ]
            ],
            "type": "heatmapgl"
           }
          ],
          "histogram": [
           {
            "marker": {
             "pattern": {
              "fillmode": "overlay",
              "size": 10,
              "solidity": 0.2
             }
            },
            "type": "histogram"
           }
          ],
          "histogram2d": [
           {
            "colorbar": {
             "outlinewidth": 0,
             "ticks": ""
            },
            "colorscale": [
             [
              0,
              "#0d0887"
             ],
             [
              0.1111111111111111,
              "#46039f"
             ],
             [
              0.2222222222222222,
              "#7201a8"
             ],
             [
              0.3333333333333333,
              "#9c179e"
             ],
             [
              0.4444444444444444,
              "#bd3786"
             ],
             [
              0.5555555555555556,
              "#d8576b"
             ],
             [
              0.6666666666666666,
              "#ed7953"
             ],
             [
              0.7777777777777778,
              "#fb9f3a"
             ],
             [
              0.8888888888888888,
              "#fdca26"
             ],
             [
              1,
              "#f0f921"
             ]
            ],
            "type": "histogram2d"
           }
          ],
          "histogram2dcontour": [
           {
            "colorbar": {
             "outlinewidth": 0,
             "ticks": ""
            },
            "colorscale": [
             [
              0,
              "#0d0887"
             ],
             [
              0.1111111111111111,
              "#46039f"
             ],
             [
              0.2222222222222222,
              "#7201a8"
             ],
             [
              0.3333333333333333,
              "#9c179e"
             ],
             [
              0.4444444444444444,
              "#bd3786"
             ],
             [
              0.5555555555555556,
              "#d8576b"
             ],
             [
              0.6666666666666666,
              "#ed7953"
             ],
             [
              0.7777777777777778,
              "#fb9f3a"
             ],
             [
              0.8888888888888888,
              "#fdca26"
             ],
             [
              1,
              "#f0f921"
             ]
            ],
            "type": "histogram2dcontour"
           }
          ],
          "mesh3d": [
           {
            "colorbar": {
             "outlinewidth": 0,
             "ticks": ""
            },
            "type": "mesh3d"
           }
          ],
          "parcoords": [
           {
            "line": {
             "colorbar": {
              "outlinewidth": 0,
              "ticks": ""
             }
            },
            "type": "parcoords"
           }
          ],
          "pie": [
           {
            "automargin": true,
            "type": "pie"
           }
          ],
          "scatter": [
           {
            "fillpattern": {
             "fillmode": "overlay",
             "size": 10,
             "solidity": 0.2
            },
            "type": "scatter"
           }
          ],
          "scatter3d": [
           {
            "line": {
             "colorbar": {
              "outlinewidth": 0,
              "ticks": ""
             }
            },
            "marker": {
             "colorbar": {
              "outlinewidth": 0,
              "ticks": ""
             }
            },
            "type": "scatter3d"
           }
          ],
          "scattercarpet": [
           {
            "marker": {
             "colorbar": {
              "outlinewidth": 0,
              "ticks": ""
             }
            },
            "type": "scattercarpet"
           }
          ],
          "scattergeo": [
           {
            "marker": {
             "colorbar": {
              "outlinewidth": 0,
              "ticks": ""
             }
            },
            "type": "scattergeo"
           }
          ],
          "scattergl": [
           {
            "marker": {
             "colorbar": {
              "outlinewidth": 0,
              "ticks": ""
             }
            },
            "type": "scattergl"
           }
          ],
          "scattermapbox": [
           {
            "marker": {
             "colorbar": {
              "outlinewidth": 0,
              "ticks": ""
             }
            },
            "type": "scattermapbox"
           }
          ],
          "scatterpolar": [
           {
            "marker": {
             "colorbar": {
              "outlinewidth": 0,
              "ticks": ""
             }
            },
            "type": "scatterpolar"
           }
          ],
          "scatterpolargl": [
           {
            "marker": {
             "colorbar": {
              "outlinewidth": 0,
              "ticks": ""
             }
            },
            "type": "scatterpolargl"
           }
          ],
          "scatterternary": [
           {
            "marker": {
             "colorbar": {
              "outlinewidth": 0,
              "ticks": ""
             }
            },
            "type": "scatterternary"
           }
          ],
          "surface": [
           {
            "colorbar": {
             "outlinewidth": 0,
             "ticks": ""
            },
            "colorscale": [
             [
              0,
              "#0d0887"
             ],
             [
              0.1111111111111111,
              "#46039f"
             ],
             [
              0.2222222222222222,
              "#7201a8"
             ],
             [
              0.3333333333333333,
              "#9c179e"
             ],
             [
              0.4444444444444444,
              "#bd3786"
             ],
             [
              0.5555555555555556,
              "#d8576b"
             ],
             [
              0.6666666666666666,
              "#ed7953"
             ],
             [
              0.7777777777777778,
              "#fb9f3a"
             ],
             [
              0.8888888888888888,
              "#fdca26"
             ],
             [
              1,
              "#f0f921"
             ]
            ],
            "type": "surface"
           }
          ],
          "table": [
           {
            "cells": {
             "fill": {
              "color": "#EBF0F8"
             },
             "line": {
              "color": "white"
             }
            },
            "header": {
             "fill": {
              "color": "#C8D4E3"
             },
             "line": {
              "color": "white"
             }
            },
            "type": "table"
           }
          ]
         },
         "layout": {
          "annotationdefaults": {
           "arrowcolor": "#2a3f5f",
           "arrowhead": 0,
           "arrowwidth": 1
          },
          "autotypenumbers": "strict",
          "coloraxis": {
           "colorbar": {
            "outlinewidth": 0,
            "ticks": ""
           }
          },
          "colorscale": {
           "diverging": [
            [
             0,
             "#8e0152"
            ],
            [
             0.1,
             "#c51b7d"
            ],
            [
             0.2,
             "#de77ae"
            ],
            [
             0.3,
             "#f1b6da"
            ],
            [
             0.4,
             "#fde0ef"
            ],
            [
             0.5,
             "#f7f7f7"
            ],
            [
             0.6,
             "#e6f5d0"
            ],
            [
             0.7,
             "#b8e186"
            ],
            [
             0.8,
             "#7fbc41"
            ],
            [
             0.9,
             "#4d9221"
            ],
            [
             1,
             "#276419"
            ]
           ],
           "sequential": [
            [
             0,
             "#0d0887"
            ],
            [
             0.1111111111111111,
             "#46039f"
            ],
            [
             0.2222222222222222,
             "#7201a8"
            ],
            [
             0.3333333333333333,
             "#9c179e"
            ],
            [
             0.4444444444444444,
             "#bd3786"
            ],
            [
             0.5555555555555556,
             "#d8576b"
            ],
            [
             0.6666666666666666,
             "#ed7953"
            ],
            [
             0.7777777777777778,
             "#fb9f3a"
            ],
            [
             0.8888888888888888,
             "#fdca26"
            ],
            [
             1,
             "#f0f921"
            ]
           ],
           "sequentialminus": [
            [
             0,
             "#0d0887"
            ],
            [
             0.1111111111111111,
             "#46039f"
            ],
            [
             0.2222222222222222,
             "#7201a8"
            ],
            [
             0.3333333333333333,
             "#9c179e"
            ],
            [
             0.4444444444444444,
             "#bd3786"
            ],
            [
             0.5555555555555556,
             "#d8576b"
            ],
            [
             0.6666666666666666,
             "#ed7953"
            ],
            [
             0.7777777777777778,
             "#fb9f3a"
            ],
            [
             0.8888888888888888,
             "#fdca26"
            ],
            [
             1,
             "#f0f921"
            ]
           ]
          },
          "colorway": [
           "#636efa",
           "#EF553B",
           "#00cc96",
           "#ab63fa",
           "#FFA15A",
           "#19d3f3",
           "#FF6692",
           "#B6E880",
           "#FF97FF",
           "#FECB52"
          ],
          "font": {
           "color": "#2a3f5f"
          },
          "geo": {
           "bgcolor": "white",
           "lakecolor": "white",
           "landcolor": "#E5ECF6",
           "showlakes": true,
           "showland": true,
           "subunitcolor": "white"
          },
          "hoverlabel": {
           "align": "left"
          },
          "hovermode": "closest",
          "mapbox": {
           "style": "light"
          },
          "paper_bgcolor": "white",
          "plot_bgcolor": "#E5ECF6",
          "polar": {
           "angularaxis": {
            "gridcolor": "white",
            "linecolor": "white",
            "ticks": ""
           },
           "bgcolor": "#E5ECF6",
           "radialaxis": {
            "gridcolor": "white",
            "linecolor": "white",
            "ticks": ""
           }
          },
          "scene": {
           "xaxis": {
            "backgroundcolor": "#E5ECF6",
            "gridcolor": "white",
            "gridwidth": 2,
            "linecolor": "white",
            "showbackground": true,
            "ticks": "",
            "zerolinecolor": "white"
           },
           "yaxis": {
            "backgroundcolor": "#E5ECF6",
            "gridcolor": "white",
            "gridwidth": 2,
            "linecolor": "white",
            "showbackground": true,
            "ticks": "",
            "zerolinecolor": "white"
           },
           "zaxis": {
            "backgroundcolor": "#E5ECF6",
            "gridcolor": "white",
            "gridwidth": 2,
            "linecolor": "white",
            "showbackground": true,
            "ticks": "",
            "zerolinecolor": "white"
           }
          },
          "shapedefaults": {
           "line": {
            "color": "#2a3f5f"
           }
          },
          "ternary": {
           "aaxis": {
            "gridcolor": "white",
            "linecolor": "white",
            "ticks": ""
           },
           "baxis": {
            "gridcolor": "white",
            "linecolor": "white",
            "ticks": ""
           },
           "bgcolor": "#E5ECF6",
           "caxis": {
            "gridcolor": "white",
            "linecolor": "white",
            "ticks": ""
           }
          },
          "title": {
           "x": 0.05
          },
          "xaxis": {
           "automargin": true,
           "gridcolor": "white",
           "linecolor": "white",
           "ticks": "",
           "title": {
            "standoff": 15
           },
           "zerolinecolor": "white",
           "zerolinewidth": 2
          },
          "yaxis": {
           "automargin": true,
           "gridcolor": "white",
           "linecolor": "white",
           "ticks": "",
           "title": {
            "standoff": 15
           },
           "zerolinecolor": "white",
           "zerolinewidth": 2
          }
         }
        },
        "title": {
         "font": {
          "color": "#4D5663"
         }
        },
        "xaxis": {
         "gridcolor": "#E1E5ED",
         "showgrid": true,
         "tickfont": {
          "color": "#4D5663"
         },
         "title": {
          "font": {
           "color": "#4D5663"
          },
          "text": ""
         },
         "zerolinecolor": "#E1E5ED"
        },
        "yaxis": {
         "gridcolor": "#E1E5ED",
         "showgrid": true,
         "tickfont": {
          "color": "#4D5663"
         },
         "title": {
          "font": {
           "color": "#4D5663"
          },
          "text": ""
         },
         "zerolinecolor": "#E1E5ED"
        }
       }
      }
     },
     "metadata": {},
     "output_type": "display_data"
    }
   ],
   "source": [
    "plyo.iplot(df_plot.iplot(asFigure=True))"
   ]
  },
  {
   "cell_type": "code",
   "execution_count": 76,
   "metadata": {},
   "outputs": [
    {
     "data": {
      "application/vnd.plotly.v1+json": {
       "config": {
        "linkText": "Export to plot.ly",
        "plotlyServerURL": "https://plot.ly",
        "showLink": false
       },
       "data": [
        {
         "line": {
          "color": "rgba(255, 153, 51, 1.0)",
          "dash": "solid",
          "shape": "linear",
          "width": 1.3
         },
         "mode": "lines",
         "name": "비율조정 수익률",
         "text": "",
         "type": "scatter",
         "x": [
          "2017-01-01",
          "2017-02-01",
          "2017-03-01",
          "2017-04-01",
          "2017-05-01",
          "2017-06-01",
          "2017-07-01",
          "2017-08-01",
          "2017-09-01",
          "2017-10-01",
          "2017-11-01",
          "2017-12-01",
          "2018-01-01",
          "2018-02-01",
          "2018-03-01",
          "2018-04-01",
          "2018-05-01",
          "2018-06-01",
          "2018-07-01",
          "2018-08-01",
          "2018-09-01",
          "2018-10-01",
          "2018-11-01",
          "2018-12-01",
          "2019-01-01",
          "2019-02-01",
          "2019-03-01",
          "2019-04-01",
          "2019-05-01",
          "2019-06-01",
          "2019-07-01",
          "2019-08-01",
          "2019-09-01",
          "2019-10-01",
          "2019-11-01",
          "2019-12-01",
          "2020-01-01",
          "2020-02-01",
          "2020-03-01",
          "2020-04-01",
          "2020-05-01",
          "2020-06-01",
          "2020-07-01",
          "2020-08-01",
          "2020-09-01",
          "2020-10-01",
          "2020-11-01",
          "2020-12-01",
          "2021-01-01",
          "2021-02-01",
          "2021-03-01",
          "2021-04-01",
          "2021-05-01",
          "2021-06-01",
          "2021-07-01",
          "2021-08-01",
          "2021-09-01",
          "2021-10-01",
          "2021-11-01",
          "2021-12-01",
          "2022-01-01",
          "2022-02-01",
          "2022-03-01",
          "2022-04-01",
          "2022-05-01"
         ],
         "y": [
          2.4202947080451103,
          2.9906997739188146,
          5.910027927824751,
          7.639016334409289,
          11.959322225272643,
          13.807062054499266,
          14.537187062324726,
          13.058022840013255,
          15.106751681271655,
          19.389787116997766,
          17.574691467568652,
          17.502758140226273,
          19.071275753247193,
          15.654263838541153,
          16.06114005572025,
          17.82993471919596,
          15.642909854988503,
          13.677822616997148,
          13.346030539719841,
          13.936025226685206,
          14.109182620031333,
          7.164837401587422,
          9.198496956780941,
          6.7582152804453575,
          14.25420502192096,
          13.731603126766716,
          11.782514608792576,
          14.056846300124818,
          8.566987400741997,
          12.338749046592651,
          9.426675973760767,
          7.414909302887933,
          11.711618333349646,
          12.370703635637465,
          12.664848983142477,
          17.28965393469973,
          15.273082882109145,
          11.457845533297565,
          3.603543690330059,
          10.850373105072059,
          14.342427591298431,
          18.417746401791867,
          24.68112485014438,
          27.12584988465724,
          27.850384618185853,
          25.323101864222203,
          39.97590517702863,
          51.92944986244499,
          55.35486195671441,
          56.50978480782011,
          57.60464701226853,
          59.15003380135033,
          60.31003581667088,
          62.617725900711,
          59.61062267587534,
          58.77728113081295,
          55.003644577240955,
          52.438161580189465,
          49.57475709053757,
          53.89729600427409,
          46.68833405520802,
          47.50878964813196,
          48.44783883393818,
          46.16669641421189,
          44.09927755542083
         ]
        },
        {
         "line": {
          "color": "rgba(55, 128, 191, 1.0)",
          "dash": "solid",
          "shape": "linear",
          "width": 1.3
         },
         "mode": "lines",
         "name": "동일비율수익률",
         "text": "",
         "type": "scatter",
         "x": [
          "2017-01-01",
          "2017-02-01",
          "2017-03-01",
          "2017-04-01",
          "2017-05-01",
          "2017-06-01",
          "2017-07-01",
          "2017-08-01",
          "2017-09-01",
          "2017-10-01",
          "2017-11-01",
          "2017-12-01",
          "2018-01-01",
          "2018-02-01",
          "2018-03-01",
          "2018-04-01",
          "2018-05-01",
          "2018-06-01",
          "2018-07-01",
          "2018-08-01",
          "2018-09-01",
          "2018-10-01",
          "2018-11-01",
          "2018-12-01",
          "2019-01-01",
          "2019-02-01",
          "2019-03-01",
          "2019-04-01",
          "2019-05-01",
          "2019-06-01",
          "2019-07-01",
          "2019-08-01",
          "2019-09-01",
          "2019-10-01",
          "2019-11-01",
          "2019-12-01",
          "2020-01-01",
          "2020-02-01",
          "2020-03-01",
          "2020-04-01",
          "2020-05-01",
          "2020-06-01",
          "2020-07-01",
          "2020-08-01",
          "2020-09-01",
          "2020-10-01",
          "2020-11-01",
          "2020-12-01",
          "2021-01-01",
          "2021-02-01",
          "2021-03-01",
          "2021-04-01",
          "2021-05-01",
          "2021-06-01",
          "2021-07-01",
          "2021-08-01",
          "2021-09-01",
          "2021-10-01",
          "2021-11-01",
          "2021-12-01",
          "2022-01-01",
          "2022-02-01",
          "2022-03-01",
          "2022-04-01",
          "2022-05-01"
         ],
         "y": [
          2.2496157209555148,
          2.784754439348997,
          5.482188502384565,
          7.0716642505841865,
          11.099892198507579,
          12.817032449742728,
          13.504605887260045,
          12.145648849821557,
          14.055981407364554,
          18.06851599815449,
          16.37506724604613,
          16.31732706051796,
          18.067980557854938,
          14.129174704247045,
          14.565064623049718,
          16.523484301746503,
          14.152552345238924,
          12.05514669869816,
          11.685494072958464,
          12.298467068111984,
          12.472001227516085,
          5.433282478461306,
          7.772232228035382,
          4.885486102870193,
          12.454240326675436,
          11.901200762953238,
          9.862702287490904,
          12.351919613832155,
          6.321781184644374,
          10.448418139185872,
          7.2841403324042275,
          5.105719570417697,
          9.637085433016752,
          10.314247044426764,
          10.614080176238433,
          15.386365311170607,
          13.002287852632236,
          8.504287218419066,
          -0.6766403454301706,
          7.055807771333024,
          10.711984743607301,
          14.815655656644077,
          21.136982198779993,
          23.605926071442084,
          24.329872007234002,
          21.84487521293436,
          36.654415974130146,
          48.39169960683597,
          51.97911490788073,
          53.20169633996744,
          54.35424835574925,
          55.97881650777894,
          57.19712266570077,
          59.5969143944391,
          56.391654702951726,
          55.48475442613856,
          51.37263305304861,
          48.45986620060477,
          45.109665314076935,
          50.01489067904509,
          41.96251623568299,
          42.86410564965003,
          43.88895208317675,
          41.330771244138795,
          39.02310785902333
         ]
        }
       ],
       "layout": {
        "legend": {
         "bgcolor": "#F5F6F9",
         "font": {
          "color": "#4D5663"
         }
        },
        "paper_bgcolor": "#F5F6F9",
        "plot_bgcolor": "#F5F6F9",
        "template": {
         "data": {
          "bar": [
           {
            "error_x": {
             "color": "#2a3f5f"
            },
            "error_y": {
             "color": "#2a3f5f"
            },
            "marker": {
             "line": {
              "color": "#E5ECF6",
              "width": 0.5
             },
             "pattern": {
              "fillmode": "overlay",
              "size": 10,
              "solidity": 0.2
             }
            },
            "type": "bar"
           }
          ],
          "barpolar": [
           {
            "marker": {
             "line": {
              "color": "#E5ECF6",
              "width": 0.5
             },
             "pattern": {
              "fillmode": "overlay",
              "size": 10,
              "solidity": 0.2
             }
            },
            "type": "barpolar"
           }
          ],
          "carpet": [
           {
            "aaxis": {
             "endlinecolor": "#2a3f5f",
             "gridcolor": "white",
             "linecolor": "white",
             "minorgridcolor": "white",
             "startlinecolor": "#2a3f5f"
            },
            "baxis": {
             "endlinecolor": "#2a3f5f",
             "gridcolor": "white",
             "linecolor": "white",
             "minorgridcolor": "white",
             "startlinecolor": "#2a3f5f"
            },
            "type": "carpet"
           }
          ],
          "choropleth": [
           {
            "colorbar": {
             "outlinewidth": 0,
             "ticks": ""
            },
            "type": "choropleth"
           }
          ],
          "contour": [
           {
            "colorbar": {
             "outlinewidth": 0,
             "ticks": ""
            },
            "colorscale": [
             [
              0,
              "#0d0887"
             ],
             [
              0.1111111111111111,
              "#46039f"
             ],
             [
              0.2222222222222222,
              "#7201a8"
             ],
             [
              0.3333333333333333,
              "#9c179e"
             ],
             [
              0.4444444444444444,
              "#bd3786"
             ],
             [
              0.5555555555555556,
              "#d8576b"
             ],
             [
              0.6666666666666666,
              "#ed7953"
             ],
             [
              0.7777777777777778,
              "#fb9f3a"
             ],
             [
              0.8888888888888888,
              "#fdca26"
             ],
             [
              1,
              "#f0f921"
             ]
            ],
            "type": "contour"
           }
          ],
          "contourcarpet": [
           {
            "colorbar": {
             "outlinewidth": 0,
             "ticks": ""
            },
            "type": "contourcarpet"
           }
          ],
          "heatmap": [
           {
            "colorbar": {
             "outlinewidth": 0,
             "ticks": ""
            },
            "colorscale": [
             [
              0,
              "#0d0887"
             ],
             [
              0.1111111111111111,
              "#46039f"
             ],
             [
              0.2222222222222222,
              "#7201a8"
             ],
             [
              0.3333333333333333,
              "#9c179e"
             ],
             [
              0.4444444444444444,
              "#bd3786"
             ],
             [
              0.5555555555555556,
              "#d8576b"
             ],
             [
              0.6666666666666666,
              "#ed7953"
             ],
             [
              0.7777777777777778,
              "#fb9f3a"
             ],
             [
              0.8888888888888888,
              "#fdca26"
             ],
             [
              1,
              "#f0f921"
             ]
            ],
            "type": "heatmap"
           }
          ],
          "heatmapgl": [
           {
            "colorbar": {
             "outlinewidth": 0,
             "ticks": ""
            },
            "colorscale": [
             [
              0,
              "#0d0887"
             ],
             [
              0.1111111111111111,
              "#46039f"
             ],
             [
              0.2222222222222222,
              "#7201a8"
             ],
             [
              0.3333333333333333,
              "#9c179e"
             ],
             [
              0.4444444444444444,
              "#bd3786"
             ],
             [
              0.5555555555555556,
              "#d8576b"
             ],
             [
              0.6666666666666666,
              "#ed7953"
             ],
             [
              0.7777777777777778,
              "#fb9f3a"
             ],
             [
              0.8888888888888888,
              "#fdca26"
             ],
             [
              1,
              "#f0f921"
             ]
            ],
            "type": "heatmapgl"
           }
          ],
          "histogram": [
           {
            "marker": {
             "pattern": {
              "fillmode": "overlay",
              "size": 10,
              "solidity": 0.2
             }
            },
            "type": "histogram"
           }
          ],
          "histogram2d": [
           {
            "colorbar": {
             "outlinewidth": 0,
             "ticks": ""
            },
            "colorscale": [
             [
              0,
              "#0d0887"
             ],
             [
              0.1111111111111111,
              "#46039f"
             ],
             [
              0.2222222222222222,
              "#7201a8"
             ],
             [
              0.3333333333333333,
              "#9c179e"
             ],
             [
              0.4444444444444444,
              "#bd3786"
             ],
             [
              0.5555555555555556,
              "#d8576b"
             ],
             [
              0.6666666666666666,
              "#ed7953"
             ],
             [
              0.7777777777777778,
              "#fb9f3a"
             ],
             [
              0.8888888888888888,
              "#fdca26"
             ],
             [
              1,
              "#f0f921"
             ]
            ],
            "type": "histogram2d"
           }
          ],
          "histogram2dcontour": [
           {
            "colorbar": {
             "outlinewidth": 0,
             "ticks": ""
            },
            "colorscale": [
             [
              0,
              "#0d0887"
             ],
             [
              0.1111111111111111,
              "#46039f"
             ],
             [
              0.2222222222222222,
              "#7201a8"
             ],
             [
              0.3333333333333333,
              "#9c179e"
             ],
             [
              0.4444444444444444,
              "#bd3786"
             ],
             [
              0.5555555555555556,
              "#d8576b"
             ],
             [
              0.6666666666666666,
              "#ed7953"
             ],
             [
              0.7777777777777778,
              "#fb9f3a"
             ],
             [
              0.8888888888888888,
              "#fdca26"
             ],
             [
              1,
              "#f0f921"
             ]
            ],
            "type": "histogram2dcontour"
           }
          ],
          "mesh3d": [
           {
            "colorbar": {
             "outlinewidth": 0,
             "ticks": ""
            },
            "type": "mesh3d"
           }
          ],
          "parcoords": [
           {
            "line": {
             "colorbar": {
              "outlinewidth": 0,
              "ticks": ""
             }
            },
            "type": "parcoords"
           }
          ],
          "pie": [
           {
            "automargin": true,
            "type": "pie"
           }
          ],
          "scatter": [
           {
            "fillpattern": {
             "fillmode": "overlay",
             "size": 10,
             "solidity": 0.2
            },
            "type": "scatter"
           }
          ],
          "scatter3d": [
           {
            "line": {
             "colorbar": {
              "outlinewidth": 0,
              "ticks": ""
             }
            },
            "marker": {
             "colorbar": {
              "outlinewidth": 0,
              "ticks": ""
             }
            },
            "type": "scatter3d"
           }
          ],
          "scattercarpet": [
           {
            "marker": {
             "colorbar": {
              "outlinewidth": 0,
              "ticks": ""
             }
            },
            "type": "scattercarpet"
           }
          ],
          "scattergeo": [
           {
            "marker": {
             "colorbar": {
              "outlinewidth": 0,
              "ticks": ""
             }
            },
            "type": "scattergeo"
           }
          ],
          "scattergl": [
           {
            "marker": {
             "colorbar": {
              "outlinewidth": 0,
              "ticks": ""
             }
            },
            "type": "scattergl"
           }
          ],
          "scattermapbox": [
           {
            "marker": {
             "colorbar": {
              "outlinewidth": 0,
              "ticks": ""
             }
            },
            "type": "scattermapbox"
           }
          ],
          "scatterpolar": [
           {
            "marker": {
             "colorbar": {
              "outlinewidth": 0,
              "ticks": ""
             }
            },
            "type": "scatterpolar"
           }
          ],
          "scatterpolargl": [
           {
            "marker": {
             "colorbar": {
              "outlinewidth": 0,
              "ticks": ""
             }
            },
            "type": "scatterpolargl"
           }
          ],
          "scatterternary": [
           {
            "marker": {
             "colorbar": {
              "outlinewidth": 0,
              "ticks": ""
             }
            },
            "type": "scatterternary"
           }
          ],
          "surface": [
           {
            "colorbar": {
             "outlinewidth": 0,
             "ticks": ""
            },
            "colorscale": [
             [
              0,
              "#0d0887"
             ],
             [
              0.1111111111111111,
              "#46039f"
             ],
             [
              0.2222222222222222,
              "#7201a8"
             ],
             [
              0.3333333333333333,
              "#9c179e"
             ],
             [
              0.4444444444444444,
              "#bd3786"
             ],
             [
              0.5555555555555556,
              "#d8576b"
             ],
             [
              0.6666666666666666,
              "#ed7953"
             ],
             [
              0.7777777777777778,
              "#fb9f3a"
             ],
             [
              0.8888888888888888,
              "#fdca26"
             ],
             [
              1,
              "#f0f921"
             ]
            ],
            "type": "surface"
           }
          ],
          "table": [
           {
            "cells": {
             "fill": {
              "color": "#EBF0F8"
             },
             "line": {
              "color": "white"
             }
            },
            "header": {
             "fill": {
              "color": "#C8D4E3"
             },
             "line": {
              "color": "white"
             }
            },
            "type": "table"
           }
          ]
         },
         "layout": {
          "annotationdefaults": {
           "arrowcolor": "#2a3f5f",
           "arrowhead": 0,
           "arrowwidth": 1
          },
          "autotypenumbers": "strict",
          "coloraxis": {
           "colorbar": {
            "outlinewidth": 0,
            "ticks": ""
           }
          },
          "colorscale": {
           "diverging": [
            [
             0,
             "#8e0152"
            ],
            [
             0.1,
             "#c51b7d"
            ],
            [
             0.2,
             "#de77ae"
            ],
            [
             0.3,
             "#f1b6da"
            ],
            [
             0.4,
             "#fde0ef"
            ],
            [
             0.5,
             "#f7f7f7"
            ],
            [
             0.6,
             "#e6f5d0"
            ],
            [
             0.7,
             "#b8e186"
            ],
            [
             0.8,
             "#7fbc41"
            ],
            [
             0.9,
             "#4d9221"
            ],
            [
             1,
             "#276419"
            ]
           ],
           "sequential": [
            [
             0,
             "#0d0887"
            ],
            [
             0.1111111111111111,
             "#46039f"
            ],
            [
             0.2222222222222222,
             "#7201a8"
            ],
            [
             0.3333333333333333,
             "#9c179e"
            ],
            [
             0.4444444444444444,
             "#bd3786"
            ],
            [
             0.5555555555555556,
             "#d8576b"
            ],
            [
             0.6666666666666666,
             "#ed7953"
            ],
            [
             0.7777777777777778,
             "#fb9f3a"
            ],
            [
             0.8888888888888888,
             "#fdca26"
            ],
            [
             1,
             "#f0f921"
            ]
           ],
           "sequentialminus": [
            [
             0,
             "#0d0887"
            ],
            [
             0.1111111111111111,
             "#46039f"
            ],
            [
             0.2222222222222222,
             "#7201a8"
            ],
            [
             0.3333333333333333,
             "#9c179e"
            ],
            [
             0.4444444444444444,
             "#bd3786"
            ],
            [
             0.5555555555555556,
             "#d8576b"
            ],
            [
             0.6666666666666666,
             "#ed7953"
            ],
            [
             0.7777777777777778,
             "#fb9f3a"
            ],
            [
             0.8888888888888888,
             "#fdca26"
            ],
            [
             1,
             "#f0f921"
            ]
           ]
          },
          "colorway": [
           "#636efa",
           "#EF553B",
           "#00cc96",
           "#ab63fa",
           "#FFA15A",
           "#19d3f3",
           "#FF6692",
           "#B6E880",
           "#FF97FF",
           "#FECB52"
          ],
          "font": {
           "color": "#2a3f5f"
          },
          "geo": {
           "bgcolor": "white",
           "lakecolor": "white",
           "landcolor": "#E5ECF6",
           "showlakes": true,
           "showland": true,
           "subunitcolor": "white"
          },
          "hoverlabel": {
           "align": "left"
          },
          "hovermode": "closest",
          "mapbox": {
           "style": "light"
          },
          "paper_bgcolor": "white",
          "plot_bgcolor": "#E5ECF6",
          "polar": {
           "angularaxis": {
            "gridcolor": "white",
            "linecolor": "white",
            "ticks": ""
           },
           "bgcolor": "#E5ECF6",
           "radialaxis": {
            "gridcolor": "white",
            "linecolor": "white",
            "ticks": ""
           }
          },
          "scene": {
           "xaxis": {
            "backgroundcolor": "#E5ECF6",
            "gridcolor": "white",
            "gridwidth": 2,
            "linecolor": "white",
            "showbackground": true,
            "ticks": "",
            "zerolinecolor": "white"
           },
           "yaxis": {
            "backgroundcolor": "#E5ECF6",
            "gridcolor": "white",
            "gridwidth": 2,
            "linecolor": "white",
            "showbackground": true,
            "ticks": "",
            "zerolinecolor": "white"
           },
           "zaxis": {
            "backgroundcolor": "#E5ECF6",
            "gridcolor": "white",
            "gridwidth": 2,
            "linecolor": "white",
            "showbackground": true,
            "ticks": "",
            "zerolinecolor": "white"
           }
          },
          "shapedefaults": {
           "line": {
            "color": "#2a3f5f"
           }
          },
          "ternary": {
           "aaxis": {
            "gridcolor": "white",
            "linecolor": "white",
            "ticks": ""
           },
           "baxis": {
            "gridcolor": "white",
            "linecolor": "white",
            "ticks": ""
           },
           "bgcolor": "#E5ECF6",
           "caxis": {
            "gridcolor": "white",
            "linecolor": "white",
            "ticks": ""
           }
          },
          "title": {
           "x": 0.05
          },
          "xaxis": {
           "automargin": true,
           "gridcolor": "white",
           "linecolor": "white",
           "ticks": "",
           "title": {
            "standoff": 15
           },
           "zerolinecolor": "white",
           "zerolinewidth": 2
          },
          "yaxis": {
           "automargin": true,
           "gridcolor": "white",
           "linecolor": "white",
           "ticks": "",
           "title": {
            "standoff": 15
           },
           "zerolinecolor": "white",
           "zerolinewidth": 2
          }
         }
        },
        "title": {
         "font": {
          "color": "#4D5663"
         }
        },
        "xaxis": {
         "gridcolor": "#E1E5ED",
         "showgrid": true,
         "tickfont": {
          "color": "#4D5663"
         },
         "title": {
          "font": {
           "color": "#4D5663"
          },
          "text": ""
         },
         "zerolinecolor": "#E1E5ED"
        },
        "yaxis": {
         "gridcolor": "#E1E5ED",
         "showgrid": true,
         "tickfont": {
          "color": "#4D5663"
         },
         "title": {
          "font": {
           "color": "#4D5663"
          },
          "text": ""
         },
         "zerolinecolor": "#E1E5ED"
        }
       }
      }
     },
     "metadata": {},
     "output_type": "display_data"
    }
   ],
   "source": [
    "#누적 수익률\n",
    "plyo.iplot(df_plot_c.iplot(asFigure=True))"
   ]
  }
 ],
 "metadata": {
  "interpreter": {
   "hash": "5f28e31783b4b3e86852519f86fdbf8da7d7116b9a8e906e34aa59accdc4c256"
  },
  "kernelspec": {
   "display_name": "Python 3.10.2 64-bit",
   "language": "python",
   "name": "python3"
  },
  "language_info": {
   "codemirror_mode": {
    "name": "ipython",
    "version": 3
   },
   "file_extension": ".py",
   "mimetype": "text/x-python",
   "name": "python",
   "nbconvert_exporter": "python",
   "pygments_lexer": "ipython3",
   "version": "3.10.2"
  },
  "orig_nbformat": 4
 },
 "nbformat": 4,
 "nbformat_minor": 2
}
